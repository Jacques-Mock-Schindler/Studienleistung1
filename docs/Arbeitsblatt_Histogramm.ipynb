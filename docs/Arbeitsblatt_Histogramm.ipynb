{
 "cells": [
  {
   "cell_type": "markdown",
   "metadata": {
    "colab_type": "text",
    "id": "view-in-github"
   },
   "source": [
    "<a href=\"https://colab.research.google.com/github/Jacques-Mock-Schindler/Studienleistung1/blob/musterloesung/docs/Musterloesung_Histogramm.ipynb\" target=\"_parent\"><img src=\"https://colab.research.google.com/assets/colab-badge.svg\" alt=\"Open In Colab\"/></a>"
   ]
  },
  {
   "cell_type": "markdown",
   "metadata": {
    "id": "F5iNpl3ZCaUZ"
   },
   "source": [
    "# Histogramme zeichnen mit PyTamaro"
   ]
  },
  {
   "cell_type": "markdown",
   "metadata": {},
   "source": [
    "In einem Histogramm wird die Verteilung der Häufigkeit von Werten\n",
    "dargestellt. So kann zum Beispiel die Prüfungsleistung einer Schulklasse\n",
    "in einem Histogramm dargestellt werden. Dabei wird gezählt, wie viele\n",
    "Schülerinnen und Schüler eine Note zwischen 1 und 1.9, 2 und 2.9, ... , 5\n",
    "und 6 erreicht haben. Für die grafische Darstellung werden dann\n",
    "Rechtecke mit einer fixen Breite und einer Höhe, die proportional zur\n",
    "Anzahl der jeweiligen Leistungen ist, gezeichnet. Diese Rechtecke werden dann\n",
    "nach der Leistung sortiert nebeneinander dargestellt.\n",
    "\n",
    "Die Darstellung kann variert werden, in dem die Gruppierung der Werte\n",
    "verändert wird (anstatt die Anzahl der Noten zwischen 4 und 5, die\n",
    "Anzahl der Noten zwischen 4.1 und 4.5 sowie 4.6 und 5).\n",
    "\n",
    "Für die Darstellung der Häufigkeit bestimmter Werte kann sowohl auf\n",
    "deren Anzahl als auch auf deren prozentualen Anteil an allen Werten\n",
    "abgestellt werden.\n",
    "\n",
    "Die folgende Grafik ist ein Beispiel für ein Histogramm, welches die\n",
    "Verteilung der Noten in einer Prüfung des obligatorischen Fachs\n",
    "Informatik darstellt."
   ]
  },
  {
   "cell_type": "markdown",
   "metadata": {},
   "source": [
    "![Beispiel Histogramm (Notenverteilung einer Schulklasse im OFI)](../visualisierung/histogram_example.png)"
   ]
  },
  {
   "cell_type": "markdown",
   "metadata": {
    "id": "rWRptfRnCaUc"
   },
   "source": [
    "In der folgenden Übung zeichnen Sie mit Hilfe von PyTamarao ein Histogramm mit der Verteilung der\n",
    "Körpergrössen der Schülerinnen und Schüler in Ihrer Klasse."
   ]
  },
  {
   "cell_type": "markdown",
   "metadata": {
    "id": "TmSfAVOLCaUc"
   },
   "source": [
    "Die folgende Zelle dient dem Laden von PyTamaro in Google Colaboratory\n",
    "(diese Zelle muss nur ausgeführt werden, wenn in Google Colaboratory\n",
    "gearbeitet wird):"
   ]
  },
  {
   "cell_type": "code",
   "execution_count": null,
   "metadata": {
    "colab": {
     "base_uri": "https://localhost:8080/"
    },
    "id": "SkyMq9ziCaUd",
    "outputId": "af09e9d8-fb9c-4455-ce2d-d7e7a64c75aa"
   },
   "outputs": [],
   "source": [
    "! pip install pytamaro"
   ]
  },
  {
   "cell_type": "markdown",
   "metadata": {
    "id": "kDugg1LDCaUe"
   },
   "source": [
    "## Listen in Python (Einführung)"
   ]
  },
  {
   "cell_type": "markdown",
   "metadata": {},
   "source": [
    "Damit die\n",
    "Körpergrössen in Python sinnvoll verarbeitet werden können, brauchen wir\n",
    "die Datenstruktur *Liste*.\n",
    "\n",
    "In Python können Listen dazu verwendet werden, einer Variabel mehrere Werte\n",
    "zuzuweisen. Die Werte behalten dabei grundsätzlich ihre ursprüngliche\n",
    "Reihenfolge bei.\n",
    "Listen werden nach der Art Ihrer Elemente benannt. Wenn eine Liste von\n",
    "Namen erstellt wird, wird sie beispielsweise der Variablen `names`\n",
    "zugewiesen. Die Variable wird als Kennzeichen dafür, dass sie auf eine\n",
    "Liste verweist, in den Plural gesetzt.  "
   ]
  },
  {
   "cell_type": "markdown",
   "metadata": {},
   "source": [
    ">### Hintergrund der Datenstruktur Liste in Python (Exkurs)\n",
    ">\n",
    ">Im Verlauf der Entwicklung haben sich für die Ablage einer Datenreihe\n",
    ">die Datenstrukturen Liste und Array herausgebildet. Die beiden\n",
    ">Datenstrukturen weisen Ähnlichkeiten auf, unterscheiden sich aber auch\n",
    ">in wesentlichen Punkten. Ähnlich sind sie sich darin, dass sie die\n",
    ">Daten in einer vorgegebenen Reihenfolge speichern.  \n",
    ">Unterschiede bestehen bezüglich der Anzahl Elemente, die sie aufnehmen\n",
    ">können, sowie bezüglich des Zugriffs auf die einzelnen Elemente.\n",
    ">Eine Liste kann grundsätzlich eine unbeschränkte Anzahl von Elementen\n",
    ">aufnehmen. Begrenzt ist ihre Länge lediglich durch den physischen\n",
    ">Speicherplatz des Computers. Im Gegensatz dazu muss bei einem Array\n",
    ">grundsätzlich von Anfang an festgelegt werden, wie viele\n",
    ">Elemente es aufnehmen kann.  \n",
    ">Wenn auf ein Element einer Liste zugegriffen werden soll, muss in einer\n",
    ">Liste am Beginn der Liste gestartet werden und dann Element für Element\n",
    ">durch die Liste durchgegangen werden, bis man beim gewünschten Element\n",
    ">angekommen ist. In einem Array ist der direkte Zugriff auf jedes\n",
    ">Element möglich.\n",
    ">\n",
    ">Die Datenstruktur der Liste in Python verbindet aus der Sicht des\n",
    ">Programms die Eigenschaften von Listen und Arrays. Eine Liste in Python\n",
    ">kann jederzeit zusätzliche Elemente aufnehmen oder nicht mehr benötigte\n",
    ">Elemente können gelöscht werden. Trotzdem kann mit Hilfe eines Index'\n",
    ">direkt auf jeden Wert zugegriffen werden. Aus technischer Sicht handelt\n",
    ">es sich daher bei Listen in Python nicht um Listen im allgemeinen Sinn\n",
    ">der Informatik, sondern um dynamische Arrays.\n",
    ">\n",
    ">Für eine vertiefte Auseinandersetzung mit dem Thema sei auf das\n",
    ">Lehrmittel Hromkovic Juraj, Gallenbacher Jens, Komm Dennis, Lacher\n",
    ">Regula und Pierhöfer Harald; Informatik - >Algorithmen und Künstliche\n",
    ">Intelligenz: Grundlagen der Informatik für Schweizer Maturitätsschulen;\n",
    ">Baar: Klett und Balmer, 2022; Kapitel 1 Ordnung und Suche, Abschnitt\n",
    ">*Datenablage im Speicher mit Datenstrukturen - Arrays und Listen*;\n",
    ">Seiten 14 - 23, verwiesen.\n"
   ]
  },
  {
   "cell_type": "markdown",
   "metadata": {},
   "source": [
    "### Listen erstellen"
   ]
  },
  {
   "cell_type": "markdown",
   "metadata": {},
   "source": [
    "Am einfachsten werden Listen durch die Eingabe von konkreten Werten des\n",
    "betrachteten Datentypen erstellt. Dazu werden die\n",
    "Werte der Liste durch Kommas getrennt in eckigen Klammern geschrieben:"
   ]
  },
  {
   "cell_type": "code",
   "execution_count": null,
   "metadata": {
    "colab": {
     "base_uri": "https://localhost:8080/"
    },
    "id": "-JopSBpPCaUe",
    "outputId": "57a57691-ed5d-4552-f4ff-91e50ec9b7c9"
   },
   "outputs": [],
   "source": [
    "numbers = [1, 8, 3]\n",
    "print(numbers)\n",
    "vegetables = ['Spinat', 'Sellerie', 'Blumenkohl']\n",
    "print(vegetables)"
   ]
  },
  {
   "cell_type": "markdown",
   "metadata": {
    "id": "H22ClUTKCaUf"
   },
   "source": [
    "### Auf Elemente einer Liste zugreifen"
   ]
  },
  {
   "cell_type": "markdown",
   "metadata": {},
   "source": [
    "Die Elemente einer Liste sind geordnet und indexiert. Geordnet heisst,\n",
    "dass die Liste die Reihenfolge der Elemente so behält, wie sie erstellt\n",
    "wird - zumindest solange die Liste nicht verändert wird. Indexiert\n",
    "heisst, dass jedes Element einer Liste eine Nummer erhält. Allerdings\n",
    "beginnt man mit Null zu zählen. Das bedeutet, dass der `Sellerie` in der\n",
    "Liste `vegetables` den Index `1` hat. \n",
    "\n",
    "Um das zweite Element der Liste auszugeben, muss Python nach dem Element\n",
    "mit dem Index `1` der entsprechenden Liste gefragt werden:"
   ]
  },
  {
   "cell_type": "code",
   "execution_count": null,
   "metadata": {
    "colab": {
     "base_uri": "https://localhost:8080/"
    },
    "id": "dXTe-503CaUg",
    "outputId": "b7c3a2b6-6b35-4e46-a12d-61f6db0234a0"
   },
   "outputs": [],
   "source": [
    "print(vegetables[1])"
   ]
  },
  {
   "cell_type": "markdown",
   "metadata": {},
   "source": [
    "Probieren Sie aus, was geschieht, wenn Sie unterschiedliche Indizes aus\n",
    "der Liste `vegtables` abfragen. Probieren Sie insbesondere auch den\n",
    "Index `-1` aus."
   ]
  },
  {
   "cell_type": "code",
   "execution_count": null,
   "metadata": {},
   "outputs": [],
   "source": [
    "# TODO: ausprobieren, was mit Index -1 passiert"
   ]
  },
  {
   "cell_type": "markdown",
   "metadata": {},
   "source": [
    "### List Comprehension"
   ]
  },
  {
   "cell_type": "markdown",
   "metadata": {
    "id": "uSuZZmQvCaUh"
   },
   "source": [
    "Listen können auch mit einer sogenannten *list comprehension* erstellt werden."
   ]
  },
  {
   "cell_type": "code",
   "execution_count": null,
   "metadata": {
    "colab": {
     "base_uri": "https://localhost:8080/"
    },
    "id": "wmdmWmFVCaUh",
    "outputId": "9bebf33d-2f20-402d-9393-e8ab31b9bb11"
   },
   "outputs": [],
   "source": [
    "example_numbers = [i for i in range(1,21)]\n",
    "print(example_numbers)"
   ]
  },
  {
   "cell_type": "markdown",
   "metadata": {},
   "source": [
    "Eine *list comprehension* funktioniert ähnlich, wie die Beschreibung\n",
    "einer Menge in \n",
    "der Mathematik ($\\{x \\in \\mathbb{N} \\mid \\color{red} 1 \\geq x > 21\\color{black}\\}$).\n",
    "\n",
    "Der Teil\n",
    "\n",
    "```Python\n",
    "for i in range(1,21)\n",
    "```\n",
    "entspricht dabei der Bedingung (oben rot dargestellt) in der Beschreibung einer Menge. `1` ist\n",
    "der Startwert bei dem die Variabel `i` zu zählen beginnt. Man nennt eine\n",
    "Variable wie `i` eine Laufvariable. 21 ist die obere Grenze. Die Grenze\n",
    "selber wird nicht mitgezählt."
   ]
  },
  {
   "cell_type": "markdown",
   "metadata": {},
   "source": [
    "### Über Listen iterieren"
   ]
  },
  {
   "cell_type": "markdown",
   "metadata": {
    "id": "du5b75h7CaUh"
   },
   "source": [
    "Listen sind nützliche Datenstrukturen, weil sie Element für Element durchlaufen werden\n",
    "können. Dabei kann jedes einzelne Element als Parameter einer Funktion\n",
    "übergeben werden.\n",
    "\n",
    "Dies kann mit Hilfe einer `for`-Schleife erfolgen. Als Beispiel werden\n",
    "alle Werte der Liste `example_numbers` quadriert.\n"
   ]
  },
  {
   "cell_type": "code",
   "execution_count": null,
   "metadata": {},
   "outputs": [],
   "source": [
    "for i in range(20):\n",
    "    print(example_numbers[i] ** 2)"
   ]
  },
  {
   "cell_type": "markdown",
   "metadata": {},
   "source": [
    "Der Startwert der Variabel `i` is dabei `0`. Der Endwert ist `20` und\n",
    "wird nicht mitgezählt.\n",
    "\n",
    "Diese Schreibweise erfordert, dass wir wissen, wie lange die zu\n",
    "bearbeitende Liste ist."
   ]
  },
  {
   "cell_type": "markdown",
   "metadata": {},
   "source": [
    "Python stellt eine Vereinfachung zur Verfügung. Dabei wird Element für\n",
    "Element der Wert des Elements immer der gleichen Variabel zugewiesen.\n",
    "Die gewünschte Operation wird dann mit dieser Variabel durchgeführt. Die\n",
    "entsprechende Syntax zeigt das folgende Beispiel."
   ]
  },
  {
   "cell_type": "code",
   "execution_count": null,
   "metadata": {
    "colab": {
     "base_uri": "https://localhost:8080/"
    },
    "id": "7HvZzt3HCaUi",
    "outputId": "7b689037-a8da-4449-dd05-ac70f3dc5874",
    "tags": []
   },
   "outputs": [],
   "source": [
    "for example in example_numbers:\n",
    "    print(example ** 2)"
   ]
  },
  {
   "cell_type": "markdown",
   "metadata": {
    "id": "ARyKYoOMCaUi"
   },
   "source": [
    "Weil für Listen Namen von Variablen im Plural verwendet werden, können\n",
    "die einzelnen Elemente im Singular bezeichnet \n",
    "werden. Dies ist jedoch reine Konvention und technisch nicht\n",
    "erforderlich. Um das zu zeigen, findet sich unten ein Beispiel, das sich\n",
    "*nicht* an diese Konvention hält. Dazu wird die Liste `example_numbers` zuerst der Variablen $y$ zugewiesen."
   ]
  },
  {
   "cell_type": "code",
   "execution_count": null,
   "metadata": {
    "colab": {
     "base_uri": "https://localhost:8080/"
    },
    "id": "giy8ck8mCaUi",
    "outputId": "11860cf3-b520-4f4e-f875-514a2bfcec6e",
    "tags": []
   },
   "outputs": [],
   "source": [
    "y = example_numbers\n",
    "for x in y:\n",
    "    print(x ** 2)"
   ]
  },
  {
   "cell_type": "markdown",
   "metadata": {},
   "source": [
    "Iterieren Sie über die Liste `numbers` und dividieren Sie alle Elemente\n",
    "durch zwei."
   ]
  },
  {
   "cell_type": "code",
   "execution_count": null,
   "metadata": {},
   "outputs": [],
   "source": [
    "# TODO: über numbers iterieren und die Elemente durch zwei teilen"
   ]
  },
  {
   "cell_type": "markdown",
   "metadata": {},
   "source": [
    "### Leere Listen"
   ]
  },
  {
   "cell_type": "markdown",
   "metadata": {
    "id": "RqjFLQHfCaUi"
   },
   "source": [
    "Listen können auch leer sein. Eine leere Liste wird folgendermassen\n",
    "erstellt: "
   ]
  },
  {
   "cell_type": "code",
   "execution_count": null,
   "metadata": {
    "id": "EXLuzi6ZCaUi"
   },
   "outputs": [],
   "source": [
    "leere_liste = []"
   ]
  },
  {
   "cell_type": "markdown",
   "metadata": {},
   "source": [
    "### Listen ergänzen"
   ]
  },
  {
   "cell_type": "markdown",
   "metadata": {
    "id": "oTf-xU25CaUi"
   },
   "source": [
    "Wenn einer bestehenden Liste ein Element angefügt werden soll, stellt\n",
    "Python die Funktion `listenname.append(Element)` zur Verfügung."
   ]
  },
  {
   "cell_type": "code",
   "execution_count": null,
   "metadata": {
    "colab": {
     "base_uri": "https://localhost:8080/"
    },
    "id": "HXOwZgSkCaUj",
    "outputId": "76d69230-1deb-4ed7-9036-74e0c2f7ea56"
   },
   "outputs": [],
   "source": [
    "ein_paar_elemente = [2, 5, 1]\n",
    "print(ein_paar_elemente)\n",
    "ein_paar_elemente.append(7)\n",
    "print(ein_paar_elemente)"
   ]
  },
  {
   "cell_type": "markdown",
   "metadata": {},
   "source": [
    "## Anwendung"
   ]
  },
  {
   "cell_type": "markdown",
   "metadata": {},
   "source": [
    "### Erstellen einer Liste aus ihren Elementen"
   ]
  },
  {
   "cell_type": "markdown",
   "metadata": {
    "id": "pzxvOUm2CaUj"
   },
   "source": [
    "Als nächstes nehmen Sie die gemessenen Grössen in der Klasse in eine\n",
    "Liste `measurements` auf. Die entsprechenden Werte finden Sie im File\n",
    "[Koerpergroessen.CSV](Koerpergroessen.CSV). Berücksichtigen Sie dabei,\n",
    "dass nicht alle vorhandenen Daten in der richtigen Form vorliegen."
   ]
  },
  {
   "cell_type": "code",
   "execution_count": null,
   "metadata": {
    "id": "3QAU5RjkCaUj"
   },
   "outputs": [],
   "source": [
    "measurements = # TODO: Messwerte in Liste einfügen"
   ]
  },
  {
   "cell_type": "markdown",
   "metadata": {},
   "source": [
    "### Einteilung der Daten in Intervalle"
   ]
  },
  {
   "cell_type": "markdown",
   "metadata": {
    "id": "SQsjq584CaUk"
   },
   "source": [
    "Damit aus der Liste der Körpergrössen ein Histogramm gezeichnet werden\n",
    "kann, müssen die Körpergrössen in Intervalle (engl. bin) eingeteilt werden\n",
    "und die Elemente einer Klasse gezählt werden.\n",
    "\n",
    "Für das vorliegende Histogramm sollen die Körpergrössen in Intervalle\n",
    "mit 5cm Abstand eingeteilt werden. Das heisst, ein Intervall sind zum\n",
    "Beispiel alle Werte von 160cm bis 164cm.\n"
   ]
  },
  {
   "cell_type": "markdown",
   "metadata": {},
   "source": [
    ">### Wahl der Grösse des Intervalls (Exkurs)\n",
    ">\n",
    ">Bei der Wahl der Grösse des konkreten Intervalls für die\n",
    ">Visualisierung eines Datensatzes muss gelegentlich etwas experimentiert\n",
    ">werden.  \n",
    ">Wenn das Beispielhistogramm aus der Einführung mit Intervallgrösse 0.3\n",
    ">(10 Intervalle zwischen 2.7 und 5.7)\n",
    ">gezeichnet wird, hat es keine Ähnlichkeit mit dem aus der Einführung. \n",
    ">\n",
    "><img alt=\"Histogramm mit Intervall 0.3\" src=\"data:image/png;base64,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\" />\n",
    ">\n",
    ">Erst die Anpassung der Intervallgrösse auf 0.5 hat ein anschauliches\n",
    ">Resultat hervorgebracht.  \n",
    ">\n",
    "><img alt=\"Histogramm mit Intervall 0.5 und Startwert 1.25\" src=\"data:image/png;base64,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\" />"
   ]
  },
  {
   "cell_type": "markdown",
   "metadata": {},
   "source": [
    "\n",
    "Als Beispiel sehen Sie in der folgenden Zelle eine Schleife, die einmal über alle\n",
    "Grössen iteriert und dabei zählt, wie viele Werte zwischen 160cm bis 164cm liegen."
   ]
  },
  {
   "cell_type": "code",
   "execution_count": null,
   "metadata": {
    "colab": {
     "base_uri": "https://localhost:8080/"
    },
    "id": "CmFdn-GeCaUk",
    "outputId": "615f1359-9d1e-4eb3-cba9-d48cd76568e6"
   },
   "outputs": [],
   "source": [
    "bin_160_bis_164 = 0\n",
    "for measure in measurements:\n",
    "    if measure >= 160 and measure < 165:\n",
    "        bin_160_bis_164 += 1\n",
    "\n",
    "print(bin_160_bis_164)"
   ]
  },
  {
   "cell_type": "markdown",
   "metadata": {},
   "source": [
    "### `if`-Statement"
   ]
  },
  {
   "cell_type": "markdown",
   "metadata": {
    "id": "u7gOGj9pCaUk"
   },
   "source": [
    "Dieses Code Snippet führt eine Bedingung ein.\n",
    "Bedingungen oder\n",
    "sogenannte `if`-Statements stellen sicher, dass bestimmte Anweisungen nur\n",
    "ausgeführt wird, wenn die Bedingung, die geprüft wird, eingehalten wird. Im\n",
    "Beispiel werden zwei Bedingungen geprüft, die kumulativ erfüllt sein\n",
    "müssen (erste Bedingung `measure >= 160`, zweite Bedingung\n",
    "`measure < 165`). Das heisst, wenn beide Bedingungen erfüllt sind, wird\n",
    "`bin_160_bis_164 += 1` ausgeführt. Dies ist eine Kurzschreibweise für\n",
    "`bin_160_bis_164 = bin_160_bis_164 + 1`. Es wird also jedesmal, wenn die Bedingung erfüllt ist, `bin_160_bis_164` um 1 hochgezählt.\n",
    "\n",
    "Damit dies für alle 5-cm-Klassen in der Liste verallgemeinert werden kann, muss der kleinste und der grösste Wert der Liste bekannt sein.\n",
    "\n",
    "Das Minimum einer Liste kann folgendermassen ermittelt werden:"
   ]
  },
  {
   "cell_type": "code",
   "execution_count": null,
   "metadata": {
    "colab": {
     "base_uri": "https://localhost:8080/"
    },
    "id": "7lT0kRtSCaUl",
    "outputId": "4e6920a5-04fa-4a4f-d4cf-fd9814e3fd0f"
   },
   "outputs": [],
   "source": [
    "def get_minimum(input : list[int]) -> int:\n",
    "    minimum = input[0]\n",
    "\n",
    "    for value in input:\n",
    "        if value < minimum:\n",
    "            minimum = value\n",
    "\n",
    "    return minimum\n",
    "\n",
    "print(get_minimum(measurements))"
   ]
  },
  {
   "cell_type": "markdown",
   "metadata": {
    "id": "KXNtNqSECaUl"
   },
   "source": [
    "Schreiben Sie eine vergleichbare Funktion, die das Maximum einer Liste ausgibt."
   ]
  },
  {
   "cell_type": "code",
   "execution_count": null,
   "metadata": {
    "colab": {
     "base_uri": "https://localhost:8080/"
    },
    "id": "mkZ4OewdCaUl",
    "outputId": "f6748a57-f32b-4f80-db81-456a62daed91"
   },
   "outputs": [],
   "source": [
    "def get_maximum(input : list[int]) -> int:\n",
    "    # TODO: implementieren Sie eine Funktion, die das Maximum einer\n",
    "    # Liste von Zahlen zurückgibt\n",
    "    pass"
   ]
  },
  {
   "cell_type": "markdown",
   "metadata": {},
   "source": [
    "### Vertiefung `if`-Statements"
   ]
  },
  {
   "cell_type": "markdown",
   "metadata": {
    "id": "vjnFZulgCaUl"
   },
   "source": [
    "Um die Möglichkeiten, welche `if`-Statements bieten, noch etwas weiter zu\n",
    "illustrieren, finden Sie in der nächsten Zelle eine Schleife, welche\n",
    "gerade Zahlen quadriert und ungerade mit drei potenziert. Falls statt\n",
    "einer Zahl ein anderer Datentyp auftaucht, wird der String `unzulässiger\n",
    "Input` in die Liste der Resultate eingetragen."
   ]
  },
  {
   "cell_type": "code",
   "execution_count": null,
   "metadata": {
    "colab": {
     "base_uri": "https://localhost:8080/"
    },
    "id": "Ou2wd3EmCaUl",
    "outputId": "c053af96-f526-4f73-ed8d-7bef423ad5f8"
   },
   "outputs": [],
   "source": [
    "demo_list = [1, 2, 3, 4, 5, 'hallo', 7, 8, 9]\n",
    "\n",
    "def if_demo(numbers : list[int]) -> list[int]:\n",
    "    results = []\n",
    "    for number in numbers:\n",
    "        if type(number) != int:\n",
    "            results.append('unzulässiger Input')\n",
    "        elif number % 2 == 0:\n",
    "            results.append(number ** 2)\n",
    "        else:\n",
    "            results.append(number ** 3)\n",
    "    return results\n",
    "\n",
    "print(if_demo(demo_list))"
   ]
  },
  {
   "cell_type": "markdown",
   "metadata": {},
   "source": [
    "Das Beispiel `if_demo()` sieht als Flussdiagramm dargestellt folgendermassen aus:\n"
   ]
  },
  {
   "cell_type": "markdown",
   "metadata": {},
   "source": [
    "![Flussdiagramm if_demo()](../visualisierung/flow_chart.svg)"
   ]
  },
  {
   "cell_type": "markdown",
   "metadata": {},
   "source": [
    "Als Struktogramm sieht das Beispiel `if_demo()` folgendermassen aus:"
   ]
  },
  {
   "cell_type": "markdown",
   "metadata": {},
   "source": [
    "![Struktogramm if_demo()](../visualisierung/struktogramm.svg)"
   ]
  },
  {
   "cell_type": "markdown",
   "metadata": {
    "id": "b2zVJWYqCaUm"
   },
   "source": [
    "In diesem Beispiel bedeutet `!=` *nicht*. Es wird\n",
    "geprüft, ob `number` vom Typ `int` ist, wenn dies nicht der Fall ist, wird\n",
    "in der Resultatliste `unzulässiger Input` eingetragen. Mit `elif` wird\n",
    "eine zweite Bedingung geprüft. Im Beispiel, ob die Zahl ohne Rest durch 2\n",
    "teilbar ist (`number % 2 == 0`). Damit Python zwischen einem Vergleich\n",
    "und einer Zuweisung unterscheiden kann, wird bei Vergleichen ein\n",
    "doppeltes Gleichheitszeichen verwendet. Falls keine der beiden geprüften\n",
    "Bedingungen erfüllt ist, wird mit `else` angezeigt, was mit dem Rest der\n",
    "Fälle zu geschehen habe.\n",
    "\n",
    "Aus den obigen Beispielen geht implizit hervor, dass sowohl `elif` wie\n",
    "auch `else` optional sind. Mit `elif` werden die Bedinungen $2, 3, ...,\n",
    "n$ eingefügt. Weil mit `else` das *default* Verhalten festgelegt wird,\n",
    "kann `else` nur einmal vorkommen."
   ]
  },
  {
   "cell_type": "markdown",
   "metadata": {},
   "source": [
    "### Systemeigene Python Funktion `min()` und `max()`"
   ]
  },
  {
   "cell_type": "markdown",
   "metadata": {},
   "source": [
    "Dass das Minimum oder das Maximum aus einer Liste mit Werten gesucht wird, ist relativ häufig.\n",
    "Python stellt daher eine systemeigene Funktion `min()` und `max()` zur Verfügung, welche das Miniumum bzw. das Maximum einer Liste ausgeben. Trotzdem war das eine gute Fingerübung, um sich mit der\n",
    "Funktion von Bedingungen vertraut zu machen."
   ]
  },
  {
   "cell_type": "markdown",
   "metadata": {},
   "source": [
    "### Zählen der Werte für die einzelnen Klassen"
   ]
  },
  {
   "cell_type": "markdown",
   "metadata": {
    "id": "yVGoAacnCaUm"
   },
   "source": [
    "Nun sollten Sie in der Lage sein, den Beispiel-Code für die Grössen\n",
    "zwischen 160cm und 164cm zu verallgemeinern, so dass die\n",
    "ganze Liste der Körpergrössen in 5cm Bins \"abgefüllt\" wird.\n",
    "\n",
    "Hinweis: Die einzelnen Bins sind ihrerseits Elemente einer Liste."
   ]
  },
  {
   "cell_type": "code",
   "execution_count": null,
   "metadata": {
    "colab": {
     "base_uri": "https://localhost:8080/"
    },
    "id": "BUl3NIpfCaUm",
    "outputId": "570a23a7-c044-420f-adaf-c81cc4fd742b"
   },
   "outputs": [],
   "source": [
    "def measure_to_bin(measurements : list[int]) -> list[float]:\n",
    "    # TODO: implementieren Sie eine Funktion, die die Messwerte pro\n",
    "    # Klasse zählt und als Liste zurückgibt\n",
    "    pass"
   ]
  },
  {
   "cell_type": "markdown",
   "metadata": {},
   "source": [
    "## Visualisierung"
   ]
  },
  {
   "cell_type": "markdown",
   "metadata": {},
   "source": [
    "Die so gruppierten Werte können nun visualisiert werden. Dazu braucht es\n",
    "eine Funktion, welche eine Liste als Parameter entgegennimmt und eine\n",
    "Liste mit Grafiken (Rechtecken mit der entsprechenden Länge) zurückgibt."
   ]
  },
  {
   "cell_type": "markdown",
   "metadata": {},
   "source": [
    "### Histogramm mit PyTamaro"
   ]
  },
  {
   "cell_type": "markdown",
   "metadata": {
    "id": "v9YhiXgJCaUm"
   },
   "source": [
    "Die dafür nötigen PyTamaro Funktionen werden in der folgenden Zelle importiert."
   ]
  },
  {
   "cell_type": "code",
   "execution_count": null,
   "metadata": {
    "id": "pYsOKGdvCaUm"
   },
   "outputs": [],
   "source": [
    "from pytamaro.de import (rechteck, text, Grafik,\n",
    "                         blau, schwarz, transparent, rgb_farbe,\n",
    "                         fixiere, kombiniere, drehe, ueber, ueberlagere, neben,\n",
    "                         unten_links, unten_rechts, oben_rechts, oben_links,\n",
    "                         mitte_rechts, mitte_links, oben_mitte, unten_mitte,\n",
    "                         zeige_grafik)"
   ]
  },
  {
   "cell_type": "markdown",
   "metadata": {
    "id": "tNL7GwNZv1Bw"
   },
   "source": [
    "Mit Hilfe von PyTamaro kann nun eine Funktion geschrieben werden, die\n",
    "Säulen mit fixer Breite und variabler Höhe in einer Liste ausgeben."
   ]
  },
  {
   "cell_type": "code",
   "execution_count": null,
   "metadata": {
    "id": "spCNyueYCaUm"
   },
   "outputs": [],
   "source": [
    "def create_pillars(heights : list[float]) -> list[Grafik]:\n",
    "    # TODO: implementieren Sie eine Funktion, die die Säulen als Liste\n",
    "    # von Grafiken zurückgibt.and\n",
    "    pass"
   ]
  },
  {
   "cell_type": "markdown",
   "metadata": {
    "id": "zf0pnOXcCaUm"
   },
   "source": [
    "Abschliessend müssen die Säulen noch nebeneinander angeordnet werden.\n",
    "Dazu werden die Funktionen `fixiere()` und `kombiniere()` verwendet."
   ]
  },
  {
   "cell_type": "code",
   "execution_count": null,
   "metadata": {
    "colab": {
     "base_uri": "https://localhost:8080/",
     "height": 34
    },
    "id": "HpyypIAACaUn",
    "outputId": "1237c06b-29f7-43d1-9755-f7849d66bb8d"
   },
   "outputs": [],
   "source": [
    "def draw_histogram(pillars : list[Grafik]) -> Grafik:\n",
    "    # TODO: implementieren Sie eine Funktion, die ein Histogramm aus der\n",
    "    # Liste der Säulen erstellt.and\n",
    "    pass"
   ]
  },
  {
   "cell_type": "markdown",
   "metadata": {},
   "source": [
    "### Skalierung"
   ]
  },
  {
   "cell_type": "markdown",
   "metadata": {
    "id": "8aKSDA1SZaj2"
   },
   "source": [
    "Das Histogramm mit den absoluten, unbearbeiteten Zahlen ist etwas flach.\n",
    "Entsprechend muss die Darstellung skaliert werden. Eine Lösung könnte\n",
    "die Überhöhung der Werte sein. "
   ]
  },
  {
   "cell_type": "code",
   "execution_count": null,
   "metadata": {
    "colab": {
     "base_uri": "https://localhost:8080/",
     "height": 87
    },
    "id": "DeTl2JRuZ4Ot",
    "outputId": "313f1304-d653-46ab-8b97-68ca71ba4c52"
   },
   "outputs": [],
   "source": [
    "# TODO: erstellen Sie ein Histogramm aus den überhöhten Messwerten"
   ]
  },
  {
   "cell_type": "markdown",
   "metadata": {
    "id": "sHSiHTN1a3Xh"
   },
   "source": [
    "Eine andere Variante ist die Arbeit mit relativen Werten. Die Zahlen in\n",
    "den einzelnen Klassen werden in Prozenten ausgedrückt. Die Prozentwerte\n",
    "werden dann als Histogramm dargestellt. Dies bietet den zusätzlichen Vorteil, dass\n",
    "verschiedene Samples besser miteinander verglichen werden können."
   ]
  },
  {
   "cell_type": "code",
   "execution_count": null,
   "metadata": {
    "colab": {
     "base_uri": "https://localhost:8080/",
     "height": 44
    },
    "id": "D3zQvvH4bnBP",
    "outputId": "b9b444b7-91f8-4b39-aae1-c716ddeda735"
   },
   "outputs": [],
   "source": [
    "# TODO: erstellen Sie ein Histogramm aus den relativen Messwerten"
   ]
  },
  {
   "cell_type": "markdown",
   "metadata": {
    "id": "CAeVUQmvcgBQ"
   },
   "source": [
    "Das Ganze ist immer noch etwas klein. In einem nächsten Schritt kann\n",
    "auch dieses Resultat noch skaliert werden."
   ]
  },
  {
   "cell_type": "code",
   "execution_count": null,
   "metadata": {},
   "outputs": [],
   "source": [
    "# TODO: skalieren Sie die Werte so, dass die Grafik gut lesbar ist"
   ]
  },
  {
   "cell_type": "markdown",
   "metadata": {},
   "source": [
    "### Abschluss"
   ]
  },
  {
   "cell_type": "markdown",
   "metadata": {
    "id": "MVXcLNP8CaUn"
   },
   "source": [
    "Damit das Erstellen eines Histogramms für den Nutzer etwas komfortabler\n",
    "möglich ist, sollen nun die einzelnen Funktionen so kombiniert werden,\n",
    "dass einer Funktion eine Liste mit Werten übergeben werden kann und\n",
    "diese dann ein Histogramm zurückgibt."
   ]
  },
  {
   "cell_type": "code",
   "execution_count": null,
   "metadata": {
    "id": "1gbTKopRCaUo"
   },
   "outputs": [],
   "source": [
    "def get_histogram(values : list[float]) -> Grafik:\n",
    "    # TODO: implementieren Sie eine Funktion, welche die bisherigen\n",
    "    # Funktione so bündelt, dass der Nutzer nur noch die Messwerte als\n",
    "    # Parameter übergeben muss.\n",
    "    pass"
   ]
  },
  {
   "cell_type": "code",
   "execution_count": null,
   "metadata": {},
   "outputs": [],
   "source": [
    "zeige_grafik(get_histogram(measurements))"
   ]
  },
  {
   "cell_type": "markdown",
   "metadata": {},
   "source": [
    "## Ausblick auf weitere Arten der Datenvisualisierung"
   ]
  },
  {
   "cell_type": "markdown",
   "metadata": {},
   "source": [
    "Weitere Formen der Datenvisualisierung werden im Lehrmittel *Informatik -\n",
    "Data Science und Sicherheit: Grundlagen der Informatik für Schweizer\n",
    "Maturitätsschulen*, Michael Barot et al., 1. Auflage Aufl., Baar 2022, im\n",
    "Kapitel 6, *Aus Daten lernen*, dargestellt. Wertvolle Anregungen finden\n",
    "sich insbesondere auch auf der Website des\n",
    "[Data Viz Project](https://datavizproject.com/),\n",
    "wo aufgezeigt wird, welche Form der Darstellung sich für welche Art von\n",
    "Daten eignet."
   ]
  },
  {
   "cell_type": "markdown",
   "metadata": {},
   "source": [
    "Die Aufbereitung von datenlastigen Inhalten kann in Jupyter\n",
    "Notebooks erfolgen. Dafür ist es nicht nötig, die Visualisierung von\n",
    "Grund auf selber zu programmieren. In Pyhton stehen dafür Libraries wie\n",
    "[pandas](https://pandas.pydata.org/)\n",
    "oder\n",
    "[matplotlib](https://matplotlib.org/)\n",
    "zur Verfügung."
   ]
  }
 ],
 "metadata": {
  "colab": {
   "include_colab_link": true,
   "provenance": [],
   "toc_visible": true
  },
  "kernelspec": {
   "display_name": "Python 3 (ipykernel)",
   "language": "python",
   "name": "python3"
  },
  "language_info": {
   "codemirror_mode": {
    "name": "ipython",
    "version": 3
   },
   "file_extension": ".py",
   "mimetype": "text/x-python",
   "name": "python",
   "nbconvert_exporter": "python",
   "pygments_lexer": "ipython3",
   "version": "3.11.6"
  }
 },
 "nbformat": 4,
 "nbformat_minor": 4
}

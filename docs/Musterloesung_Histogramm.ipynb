{
 "cells": [
  {
   "cell_type": "markdown",
   "metadata": {
    "colab_type": "text",
    "id": "view-in-github"
   },
   "source": [
    "<a href=\"https://colab.research.google.com/github/Jacques-Mock-Schindler/Studienleistung1/blob/musterloesung/docs/Musterloesung_Histogramm.ipynb\" target=\"_parent\"><img src=\"https://colab.research.google.com/assets/colab-badge.svg\" alt=\"Open In Colab\"/></a>"
   ]
  },
  {
   "cell_type": "markdown",
   "metadata": {
    "id": "F5iNpl3ZCaUZ"
   },
   "source": [
    "# Histogramme zeichnen mit Pytamaro\n",
    "\n",
    "Ein Histogramm ist eine grafische Darstellung der Häufigkeitsverteilung\n",
    "kardinal skalierter Merkmale. Es erfordert die Einteilung der Daten in\n",
    "Klassen (englisch bins), die eine konstante oder variable Breite haben\n",
    "können. Es werden direkt nebeneinanderliegende Rechtecke von der Breite\n",
    "der jeweiligen Klasse gezeichnet, deren Flächeninhalte die (relativen\n",
    "oder absoluten) Klassenhäufigkeiten darstellen. Die Höhe jedes Rechtecks\n",
    "stellt dann die (relative oder absolute) Häufigkeitsdichte dar, also die\n",
    "(relative oder absolute) Häufigkeit dividiert durch die Breite der\n",
    "entsprechenden Klasse.\n",
    "\n",
    "[Text von Wikipedia](https://de.wikipedia.org/wiki/Histogramm)\n",
    "\n",
    "![Histogramm Beispiel](https://upload.wikimedia.org/wikipedia/commons/thumb/8/82/Thist_german.png/440px-Thist_german.png)"
   ]
  },
  {
   "cell_type": "markdown",
   "metadata": {
    "id": "rWRptfRnCaUc"
   },
   "source": [
    "In dieser Übung zeichnen Sie ein Histogramm mit der Verteilung der\n",
    "Körpergrössen der Schülerinnen und Schüler in Ihrer Klasse."
   ]
  },
  {
   "cell_type": "markdown",
   "metadata": {
    "id": "TmSfAVOLCaUc"
   },
   "source": [
    "Hier folgt die Zelle zum Laden von PyTamaro in Google Colaboratory\n",
    "(diese Zelle muss nur ausgeführt werden, wenn in Google Colaboratory\n",
    "gearbeitet wird):"
   ]
  },
  {
   "cell_type": "code",
   "execution_count": null,
   "metadata": {
    "colab": {
     "base_uri": "https://localhost:8080/"
    },
    "id": "SkyMq9ziCaUd",
    "outputId": "af09e9d8-fb9c-4455-ce2d-d7e7a64c75aa"
   },
   "outputs": [],
   "source": [
    "! pip install pytamaro"
   ]
  },
  {
   "cell_type": "markdown",
   "metadata": {
    "id": "kDugg1LDCaUe"
   },
   "source": [
    "## Listen in Python (Einführung)\n",
    "\n",
    "Damit die\n",
    "Körpergrössen in Python sinnvoll verarbeitet werden können, brauchen wir\n",
    "die Datenstruktur *Liste*.\n",
    "\n",
    "In Python werden Listen dazu verwendet, mehrere geordente Werte einer Variablen zuzuweisen.\n",
    "Listen sind allerdings nur eine von vier in Python standardmässig zur\n",
    "Verfügung stehenden Datenstrukturen, die das können.\n",
    "\n",
    "### Listen erstellen\n",
    "\n",
    "Am einfachsten werden Listen durch Literale erstellt. Dazu werden die Werte der Liste durch Kommas getrennt in eckigen Klammern geschrieben:"
   ]
  },
  {
   "cell_type": "code",
   "execution_count": 1,
   "metadata": {
    "colab": {
     "base_uri": "https://localhost:8080/"
    },
    "id": "-JopSBpPCaUe",
    "outputId": "57a57691-ed5d-4552-f4ff-91e50ec9b7c9"
   },
   "outputs": [
    {
     "name": "stdout",
     "output_type": "stream",
     "text": [
      "[1, 8, 3]\n",
      "['Spinat', 'Sellerie', 'Blumenkohl']\n"
     ]
    }
   ],
   "source": [
    "numbers = [1, 8, 3]\n",
    "print(numbers)\n",
    "vegetables = ['Spinat', 'Sellerie', 'Blumenkohl']\n",
    "print(vegetables)"
   ]
  },
  {
   "cell_type": "markdown",
   "metadata": {
    "id": "H22ClUTKCaUf"
   },
   "source": [
    "### Auf Elemente einer Liste zugreifen\n",
    "\n",
    "Die Elemente einer Liste sind geordnet und indexiert. Geordnet heisst,\n",
    "dass die Liste die Reihenfolge der Elemente so behält, wie sie erstellt\n",
    "wird - zumindest solange die Liste nicht verändert wird. Indexiert\n",
    "heisst, dass jedes Element einer Liste eine Nummer erhält. Allerdings\n",
    "beginnt man mit Null zu zählen. Das bedeutet, dass der `Sellerie` in der Liste `vegetables`den Index `1` hat.\n",
    "\n",
    "Um das zweite Element der Liste auszugeben, muss Python nach dem Element\n",
    "mit dem Index `1` der entsprechenden Liste gefragt werden:"
   ]
  },
  {
   "cell_type": "code",
   "execution_count": 2,
   "metadata": {
    "colab": {
     "base_uri": "https://localhost:8080/"
    },
    "id": "dXTe-503CaUg",
    "outputId": "b7c3a2b6-6b35-4e46-a12d-61f6db0234a0"
   },
   "outputs": [
    {
     "name": "stdout",
     "output_type": "stream",
     "text": [
      "Sellerie\n"
     ]
    }
   ],
   "source": [
    "print(vegetables[1])"
   ]
  },
  {
   "cell_type": "markdown",
   "metadata": {
    "id": "uSuZZmQvCaUh"
   },
   "source": [
    "### List Comprehension\n",
    "\n",
    "Listen können auch mit einer sogenannten *list comprehension* erstellt werden."
   ]
  },
  {
   "cell_type": "code",
   "execution_count": 3,
   "metadata": {
    "colab": {
     "base_uri": "https://localhost:8080/"
    },
    "id": "wmdmWmFVCaUh",
    "outputId": "9bebf33d-2f20-402d-9393-e8ab31b9bb11"
   },
   "outputs": [
    {
     "name": "stdout",
     "output_type": "stream",
     "text": [
      "[1, 2, 3, 4, 5, 6, 7, 8, 9, 10, 11, 12, 13, 14, 15, 16, 17, 18, 19, 20]\n"
     ]
    }
   ],
   "source": [
    "numbers = [i for i in range(1,21)]\n",
    "print(numbers)"
   ]
  },
  {
   "cell_type": "markdown",
   "metadata": {
    "id": "du5b75h7CaUh"
   },
   "source": [
    "Eine *list comprehension* funktioniert ähnlich, wie die Beschreibung einer Menge in\n",
    "der Mathematik ($\\{x \\in \\mathbb{N} \\mid 1 \\geq x > 21\\}$).\n",
    "```Python\n",
    "for i in range(1,21)\n",
    "```\n",
    "ist bereits bei der Konstruktion der Bahnhofsuhr vorgekommen. `1` ist\n",
    "der Startwert für den Zähler `i` und 21 die obere Grenze.\n",
    "\n",
    "### Über Listen iterieren\n",
    "\n",
    "Listen sind nützliche Datenstrukturen, weil sie durchlaufen werden\n",
    "können und dabei jedes einzelne Element als Parameter einer Funktion\n",
    "übergeben werden kann.\n",
    "\n",
    "Als Beispiel wird die Quadratzahl jedes Elements in `numbers` berechnet\n",
    "und ausgegeben."
   ]
  },
  {
   "cell_type": "code",
   "execution_count": null,
   "metadata": {
    "colab": {
     "base_uri": "https://localhost:8080/"
    },
    "id": "7HvZzt3HCaUi",
    "outputId": "7b689037-a8da-4449-dd05-ac70f3dc5874",
    "tags": []
   },
   "outputs": [],
   "source": [
    "for number in numbers:\n",
    "    print(number ** 2)"
   ]
  },
  {
   "cell_type": "markdown",
   "metadata": {
    "id": "ARyKYoOMCaUi"
   },
   "source": [
    "Es hat sich eingebürgert, für Listen Namen von Variablen im Plural zu\n",
    "wählen. Dann können die einzelnen Elemente im Singular bezeichnet\n",
    "werden. Dies ist jedoch reine Konvention und technisch nicht\n",
    "erforderlich. Um das zu zeigen, findet sich unten ein Beispiel, das sich\n",
    "*nicht* an diese Konvention hält. Dazu wird die Liste `numbers` zuerst der Variablen $y$ zugewiesen."
   ]
  },
  {
   "cell_type": "code",
   "execution_count": null,
   "metadata": {
    "colab": {
     "base_uri": "https://localhost:8080/"
    },
    "id": "giy8ck8mCaUi",
    "outputId": "11860cf3-b520-4f4e-f875-514a2bfcec6e",
    "tags": []
   },
   "outputs": [],
   "source": [
    "y = numbers\n",
    "for x in y:\n",
    "    print(x ** 2)"
   ]
  },
  {
   "cell_type": "markdown",
   "metadata": {
    "id": "RqjFLQHfCaUi"
   },
   "source": [
    "### Leere Listen\n",
    "\n",
    "Listen können auch leer sein. Eine leere Liste wird folgendermassen erstellt:"
   ]
  },
  {
   "cell_type": "code",
   "execution_count": 6,
   "metadata": {
    "id": "EXLuzi6ZCaUi"
   },
   "outputs": [],
   "source": [
    "leere_liste = []"
   ]
  },
  {
   "cell_type": "markdown",
   "metadata": {
    "id": "oTf-xU25CaUi"
   },
   "source": [
    "### Listen ergänzen\n",
    "\n",
    "Wenn einer bestehenden Liste ein Element angefügt werden soll, stellt\n",
    "Python die Funktion `listenname.append(Element)` zur Verfügung."
   ]
  },
  {
   "cell_type": "code",
   "execution_count": 7,
   "metadata": {
    "colab": {
     "base_uri": "https://localhost:8080/"
    },
    "id": "HXOwZgSkCaUj",
    "outputId": "76d69230-1deb-4ed7-9036-74e0c2f7ea56"
   },
   "outputs": [
    {
     "name": "stdout",
     "output_type": "stream",
     "text": [
      "[2, 5, 1]\n",
      "[2, 5, 1, 7]\n"
     ]
    }
   ],
   "source": [
    "ein_paar_elemente = [2, 5, 1]\n",
    "print(ein_paar_elemente)\n",
    "ein_paar_elemente.append(7)\n",
    "print(ein_paar_elemente)"
   ]
  },
  {
   "cell_type": "markdown",
   "metadata": {
    "id": "pzxvOUm2CaUj"
   },
   "source": [
    "## Anwendung\n",
    "\n",
    "### Liste aus Literalen erstellen\n",
    "\n",
    "Als nächstes nehmen Sie die gemessenen Grössen in der Klasse in eine\n",
    "Liste `measurements` auf. Die entsprechenden Werte finden Sie im File\n",
    "[Koerpergroessen.CSV](Koerpergroessen.CSV). Berücksichtigen Sie dabei,\n",
    "dass nicht alle vorhandenen Daten in der richtigen Form vorliegen."
   ]
  },
  {
   "cell_type": "code",
   "execution_count": 8,
   "metadata": {
    "id": "3QAU5RjkCaUj"
   },
   "outputs": [],
   "source": [
    "measurements = [179, 160, 167, 180, 169, 175, 177, 182, 161, 166, 177, 179, 178,\n",
    "                172, 170, 164, 155, 171, 173, 161, 185, 158, 169, 172, 170, 175]"
   ]
  },
  {
   "cell_type": "markdown",
   "metadata": {
    "id": "84srPq0EhBbW"
   },
   "source": [
    "### Listen erstellen durch Import der Daten\n",
    "\n",
    "*Für Fortgeschrittene*\n",
    "\n",
    "Kurze Listen, wie hier die Körpergrössen Ihrer Kolleginnen und Kollegen,\n",
    "können ohne weiteres manuell erstellt werden. Wenn die Listen aber eine\n",
    "grosse Zahl von Elementen enthalten, ist es sinnvoll, diese Daten zu\n",
    "importieren und die Liste aus diesem Datenimport zu erstellen. In vielen\n",
    "Fällen werden die Daten in CSV-Files (Comma Separated Values) zur\n",
    "Verfügung gestellt. Python verfügt über eine eigene Library um solche\n",
    "CSV-Files zu lesen und auch zu schreiben. Für *Data Science* Projekte\n",
    "hat sich aber die\n",
    "[pandas](https://pandas.pydata.org/)\n",
    "Data Analysis Library als Quasistandard etabliert.\n",
    "\n",
    "An dieser Stelle soll entsprechend die pandas Library vorgestellt werden. In der\n",
    "folgenden Zelle wird die Library importiert."
   ]
  },
  {
   "cell_type": "code",
   "execution_count": 9,
   "metadata": {
    "id": "eUE5nW83kOOw"
   },
   "outputs": [],
   "source": [
    "import pandas as pd"
   ]
  },
  {
   "cell_type": "markdown",
   "metadata": {
    "id": "K5WATLHtkU7m"
   },
   "source": [
    "Um eine Tabelle mit mehreren Zeilen und Spalten als Ganzes einzulesen, verwendet man einen sogenannten *data frame*. Ein *data frame* ist eine zweidimensionale Struktur mit Spalten und Zeilen. Die Syntax dafür lautet `df = pd.read_csv('name_der_quelle.csv')`, wobei `df` auch durch eine andere Variable ersetzt werden kann.\n",
    "\n",
    "Der so importierte *data frame* kann durch `print(df.to_string())` ausgegeben (und kontrolliert werden)."
   ]
  },
  {
   "cell_type": "code",
   "execution_count": null,
   "metadata": {
    "colab": {
     "base_uri": "https://localhost:8080/"
    },
    "id": "qwadW_M5lPzF",
    "outputId": "9e5c486e-090f-48a6-9431-77fea77d3220",
    "tags": []
   },
   "outputs": [],
   "source": [
    "df = pd.read_csv('Koerpergroessen.CSV')\n",
    "\n",
    "print(df.to_string())"
   ]
  },
  {
   "cell_type": "markdown",
   "metadata": {
    "id": "UHEA8MHCmQw9"
   },
   "source": [
    "Um ein Histogramm der Körpergrössen zu erstellen, braucht es nur die Spalte \"Koerpergroesse in cm\". Im folgenden soll aus dieser Spalte eine Liste erstellt werden. Dazu braucht es die folgende Befehlssequenz:\n",
    "\n",
    "`chosen_column = df['header'].to_list()`\n",
    "\n",
    "Dabei kann `chosen_column` durch einen sinnvollen Namen eigener Wahl ersetzt werden. Anstelle von `'header'` wird der Titel der gewünschten Spalte eingesetzt."
   ]
  },
  {
   "cell_type": "code",
   "execution_count": 11,
   "metadata": {
    "colab": {
     "base_uri": "https://localhost:8080/"
    },
    "id": "2iFtryeLnXlZ",
    "outputId": "667c0589-41e1-46ff-9b60-d74e71aa5f2d",
    "scrolled": true
   },
   "outputs": [
    {
     "name": "stdout",
     "output_type": "stream",
     "text": [
      "['1.79', '160', '167', '180', '169', '175', '177cm', '182', '161', '1.66 m', '177', '179', '178', '172', '170', '164cm', '155', '171', '173 cm', '161', '185', '158', '169', '172', '170', '175']\n"
     ]
    }
   ],
   "source": [
    "measurements_from_df = df['Koerpgergroesse in cm '].to_list()\n",
    "print(measurements_from_df)"
   ]
  },
  {
   "cell_type": "markdown",
   "metadata": {
    "id": "pfrQgj5FnneN"
   },
   "source": [
    "Mit `print(measurements_from_df)` kann die so erzeugte Liste angezeigt\n",
    "werden. Dabei fällt auf (wie schon im angezeigten Dataframe), dass die\n",
    "Daten einerseits als String vorliegen und anderseits nicht einheitlich\n",
    "erfasst worden sind. Auch hier gilt, dass bei relativ wenigen Daten die\n",
    "Bereinigung manuell erfolgen kann. Wenn es sich aber um einen\n",
    "grossen Datensatz handelt, muss die Bereinigung automatisiert werden.\n",
    "\n",
    "Eine einfache Vorgehensweise sucht dabei alle Fehlertypen und iteriert dann über die Liste um jeden Fehlertypen zu eliminieren. Im vorliegenden Beispiel sind die Fehler \".\", \" m\" und \"cm\". Diese drei Fehlertypen können mithilfe der Methode `.replace(\"str\", \"str\")` und einer *list comprehension* gefunden und korrigiert werden. Anstelle des ersten Strings wird der gesuchte Fehlertyp eingefüllt und als Korrektur wird ein leerer String angegeben. Für den Fehler \".\" lautet die Syntax dann `measurements_cleaned = [measure.replace(\".\", \"\") for measure in measurements_from_df]`. Wenn das für alle Fehlertypen gemacht worden ist, werden die Strings in einer weiteren *list comprehension* in Integer umgewandelt."
   ]
  },
  {
   "cell_type": "code",
   "execution_count": 12,
   "metadata": {
    "colab": {
     "base_uri": "https://localhost:8080/"
    },
    "id": "9NJS5RDyu2Af",
    "outputId": "99f5256c-89f6-4f41-b4b4-c82c31665ab7"
   },
   "outputs": [
    {
     "name": "stdout",
     "output_type": "stream",
     "text": [
      "['179', '160', '167', '180', '169', '175', '177', '182', '161', '166', '177', '179', '178', '172', '170', '164', '155', '171', '173 ', '161', '185', '158', '169', '172', '170', '175']\n",
      "[179, 160, 167, 180, 169, 175, 177, 182, 161, 166, 177, 179, 178, 172, 170, 164, 155, 171, 173, 161, 185, 158, 169, 172, 170, 175]\n"
     ]
    }
   ],
   "source": [
    "measurements_cleaned = [measure.replace(\".\", \"\") for measure in measurements_from_df]\n",
    "measurements_cleaned = [measure.replace(\"cm\", \"\") for measure in measurements_cleaned]\n",
    "measurements_cleaned = [measure.replace(\" m\", \"\") for measure in measurements_cleaned]\n",
    "print(measurements_cleaned)\n",
    "measurements_as_int = [int(measure) for measure in measurements_cleaned]\n",
    "print(measurements_as_int)"
   ]
  },
  {
   "cell_type": "markdown",
   "metadata": {
    "id": "SQsjq584CaUk"
   },
   "source": [
    "### Einteilung der Daten in Klassen\n",
    "\n",
    "Damit aus der Liste der Körpergrössen ein Histogramm gezeichnet werden\n",
    "kann, müssen die Körpergrössen in Klassen (engl. bin) eingeteilt werden\n",
    "und die Elemente einer Klasse gezählt werden.\n",
    "\n",
    "Für das vorliegende Histogramm sollen die Körpergrössen in Klassen mit 5cm Abstand eingeteilt werden. Das\n",
    "heisst, eine Klasse sind zum Beispiel alle Werte von 160cm bis 164cm.\n",
    "\n",
    "Als Beispiel sehen Sie in der folgenden Zelle eine Schleife, die einmal über alle\n",
    "Grössen iteriert und dabei zählt, wie viele Werte zwischen 160cm bis 164cm liegen."
   ]
  },
  {
   "cell_type": "code",
   "execution_count": 13,
   "metadata": {
    "colab": {
     "base_uri": "https://localhost:8080/"
    },
    "id": "CmFdn-GeCaUk",
    "outputId": "615f1359-9d1e-4eb3-cba9-d48cd76568e6"
   },
   "outputs": [
    {
     "name": "stdout",
     "output_type": "stream",
     "text": [
      "4\n"
     ]
    }
   ],
   "source": [
    "bin_160_bis_164 = 0\n",
    "for measure in measurements:\n",
    "    if measure >= 160 and measure < 165:\n",
    "        bin_160_bis_164 += 1\n",
    "\n",
    "print(bin_160_bis_164)"
   ]
  },
  {
   "cell_type": "markdown",
   "metadata": {
    "id": "u7gOGj9pCaUk"
   },
   "source": [
    "### `if`-Statement\n",
    "\n",
    "Dieses Code Snippet führt eine Bedingung ein.\n",
    "Bedingungen oder\n",
    "sogenannte `if`-Statements stellen sicher, dass bestimmter Code nur\n",
    "ausgeführt wird, wenn die Bedingung, die geprüft wird, eingehalten wird. Im\n",
    "Beispiel werden zwei Bedingungen geprüft, die kumulativ erfüllt sein\n",
    "müssen (erste Bedinung `measure >= 160`, zweite Bedingung\n",
    "`measure < 165`). Das heisst, wenn beide Bedingungen erfüllt sind, wird\n",
    "`bin_160_bis_164 += 1` ausgeführt. Dies ist eine Kurzschreibweise für\n",
    "`bin_160_bis_164 = bin_160_bis_164 + 1`. Es wird also jedesmal, wenn die Bedingung erfüllt ist, `bin_160_bis_164` um 1 hochgezählt.\n",
    "\n",
    "Damit dies für alle 5-cm-Klassen in der Liste verallgemeinert werden kann, muss der kleinste und der grösste Wert der Liste bekannt sein.\n",
    "\n",
    "Das Minimum einer Liste kann folgendermassen ermittelt werden:"
   ]
  },
  {
   "cell_type": "code",
   "execution_count": 14,
   "metadata": {
    "colab": {
     "base_uri": "https://localhost:8080/"
    },
    "id": "7lT0kRtSCaUl",
    "outputId": "4e6920a5-04fa-4a4f-d4cf-fd9814e3fd0f"
   },
   "outputs": [
    {
     "name": "stdout",
     "output_type": "stream",
     "text": [
      "155\n"
     ]
    }
   ],
   "source": [
    "def get_minimum(input : list[int]) -> int:\n",
    "    minimum = input[0]\n",
    "\n",
    "    for value in input:\n",
    "        if value < minimum:\n",
    "            minimum = value\n",
    "\n",
    "    return minimum\n",
    "\n",
    "print(get_minimum(measurements))"
   ]
  },
  {
   "cell_type": "markdown",
   "metadata": {
    "id": "KXNtNqSECaUl"
   },
   "source": [
    "Schreiben Sie eine vergleichbare Funktion, die das Maximum einer Liste ausgibt."
   ]
  },
  {
   "cell_type": "code",
   "execution_count": 15,
   "metadata": {
    "colab": {
     "base_uri": "https://localhost:8080/"
    },
    "id": "mkZ4OewdCaUl",
    "outputId": "f6748a57-f32b-4f80-db81-456a62daed91"
   },
   "outputs": [
    {
     "name": "stdout",
     "output_type": "stream",
     "text": [
      "185\n"
     ]
    }
   ],
   "source": [
    "def get_maximum(input : list[int]) -> int:\n",
    "    maximum = input[0]\n",
    "\n",
    "    for value in input:\n",
    "        if value > maximum:\n",
    "            maximum = value\n",
    "\n",
    "    return maximum\n",
    "print(get_maximum(measurements))"
   ]
  },
  {
   "cell_type": "markdown",
   "metadata": {
    "id": "vjnFZulgCaUl"
   },
   "source": [
    "### Vertiefung `if`-Statements\n",
    "\n",
    "Um die Möglichkeiten, welche `if`-Statements bieten, noch etwas weiter zu\n",
    "illustrieren, finden Sie in der nächsten Zelle eine Schleife, welche\n",
    "gerade Zahlen quadriert und ungerade mit drei potenziert. Falls statt\n",
    "einer Zahl ein anderer Datentyp auftaucht, wird der String `unzulässiger\n",
    "Input` in die Liste der Resultate eingetragen."
   ]
  },
  {
   "cell_type": "code",
   "execution_count": 16,
   "metadata": {
    "colab": {
     "base_uri": "https://localhost:8080/"
    },
    "id": "Ou2wd3EmCaUl",
    "outputId": "c053af96-f526-4f73-ed8d-7bef423ad5f8"
   },
   "outputs": [
    {
     "name": "stdout",
     "output_type": "stream",
     "text": [
      "[1, 4, 27, 16, 125, 'unzulässiger Input', 343, 64, 729]\n"
     ]
    }
   ],
   "source": [
    "demo_list = [1, 2, 3, 4, 5, 'hallo', 7, 8, 9]\n",
    "\n",
    "def if_demo(numbers : list[int]) -> list[int]:\n",
    "    results = []\n",
    "    for number in numbers:\n",
    "        if type(number) != int:\n",
    "            results.append('unzulässiger Input')\n",
    "        elif number % 2 == 0:\n",
    "            results.append(number ** 2)\n",
    "        else:\n",
    "            results.append(number ** 3)\n",
    "    return results\n",
    "\n",
    "print(if_demo(demo_list))"
   ]
  },
  {
   "cell_type": "markdown",
   "metadata": {
    "id": "b2zVJWYqCaUm"
   },
   "source": [
    "In diesem Beispiel bedeutet `!=` **nicht**. Es wird\n",
    "geprüft, ob `number` vom Typ `int` ist, wenn dies nicht der Fall ist, wird\n",
    "in der Resultatliste `unzulässiger Input` eingetragen. Mit `elif` wird\n",
    "eine zweite Bedingung geprüft. Im Beispiel ob die Zahl ohne Rest durch 2\n",
    "teilbar ist (`number % 2 == 0`). Damit Python zwischen einem Vergleich\n",
    "und einer Zuweisung unterscheiden kann, wird bei Vergleichen ein\n",
    "doppeltes Gleichheitszeichen verwendet. Falls keine der beiden geprüften\n",
    "Bedingungen erfüllt ist, wird mit `else` angezeigt, was mit dem Rest der\n",
    "Fälle zu geschehen habe.\n",
    "\n",
    "Aus den obigen Beispielen geht implizit hervor, dass sowohl `elif` wie\n",
    "auch `else` optional sind. Mit `elif` werden die Bedinungen $2, 3, ...,\n",
    "n$ eingefügt. Weil mit `else` das *default* verhalten festgelegt wird,\n",
    "kann `else` nur einmal vorkommen."
   ]
  },
  {
   "cell_type": "markdown",
   "metadata": {
    "id": "yVGoAacnCaUm"
   },
   "source": [
    "### Systemeigene Python Funktion `min()` und `max()`\n",
    "\n",
    "Dass das Minimum oder das Maximum aus einer Liste mit Werten gesucht wird, ist relativ häufig.\n",
    "Python stellt daher eine systemeigene Funktion `min()` und `max()` zur Verfügung, welche das Miniumum bzw. das Maximum einer Liste ausgeben. Trotzdem war das eine gute Fingerübung, um sich mit der\n",
    "Funktion von Bedingungen vertraut zu machen.\n",
    "\n",
    "### Zählen der Werte für die einzelnen Klassen\n",
    "\n",
    "Nun sollten Sie in der Lage sein, den Beispiel-Code für die Grössen\n",
    "zwischen 160cm und 164cm zu verallgemeinern, so dass die\n",
    "ganze Liste der Körpergrössen in 5cm Bins \"abgefüllt\" wird.\n",
    "\n",
    "Hinweis: Die einzelnen Bins sind ihrerseits Elemente einer Liste."
   ]
  },
  {
   "cell_type": "code",
   "execution_count": 17,
   "metadata": {
    "colab": {
     "base_uri": "https://localhost:8080/"
    },
    "id": "BUl3NIpfCaUm",
    "outputId": "570a23a7-c044-420f-adaf-c81cc4fd742b"
   },
   "outputs": [
    {
     "name": "stdout",
     "output_type": "stream",
     "text": [
      "[2, 4, 4, 6, 7, 2, 1]\n"
     ]
    }
   ],
   "source": [
    "def measure_to_bin(measurements : list[int]) -> list[float]:\n",
    "    bins = []\n",
    "    total = len(measurements)\n",
    "    lower_end = min(measurements) // 5 * 5\n",
    "    upper_end = max(measurements) // 5 * 5 + 5\n",
    "    counter = 0\n",
    "\n",
    "    for i in range(lower_end, upper_end, 5):\n",
    "        for measure in measurements:\n",
    "            if measure >= i and measure < i + 5:\n",
    "                counter += 1\n",
    "        bins.append(counter)\n",
    "        counter = 0\n",
    "\n",
    "    return bins\n",
    "\n",
    "zahlen = measure_to_bin(measurements)\n",
    "\n",
    "print(measure_to_bin(measurements))"
   ]
  },
  {
   "cell_type": "markdown",
   "metadata": {
    "id": "v9YhiXgJCaUm"
   },
   "source": [
    "## Visualisierung\n",
    "\n",
    "Die so gruppierten Werte können nun visualisiert werden. Dazu braucht es\n",
    "eine Funktion, welche eine Liste als Parameter entgegennimmt und eine\n",
    "Liste mit Grafiken (Rechtecken mit der entsprechenden Länge) zurückgibt.\n",
    "\n",
    "### Histogramm mit PyTamaro\n",
    "\n",
    "Die dafür nötigen PyTamaro Funktionen werden in der folgenden Zelle importiert."
   ]
  },
  {
   "cell_type": "code",
   "execution_count": 18,
   "metadata": {
    "id": "pYsOKGdvCaUm"
   },
   "outputs": [],
   "source": [
    "from pytamaro.de import (rechteck, text, Grafik,\n",
    "                         blau, schwarz, transparent, rgb_farbe,\n",
    "                         fixiere, kombiniere, drehe, ueber, ueberlagere, neben,\n",
    "                         unten_links, unten_rechts, oben_rechts, oben_links,\n",
    "                         mitte_rechts, mitte_links, oben_mitte, unten_mitte,\n",
    "                         zeige_grafik)"
   ]
  },
  {
   "cell_type": "markdown",
   "metadata": {
    "id": "tNL7GwNZv1Bw"
   },
   "source": [
    "Mit Hilfe von PyTamaro kann nun eine Funktion geschrieben werden, die\n",
    "Säulen mit fixer Breite und variabler Höhe in einer Liste ausgeben."
   ]
  },
  {
   "cell_type": "code",
   "execution_count": 19,
   "metadata": {
    "id": "spCNyueYCaUm"
   },
   "outputs": [],
   "source": [
    "def create_pillars(heights : list[float]) -> list[Grafik]:\n",
    "    fill_color = rgb_farbe(50, 255, 255)\n",
    "    width = 10\n",
    "    pillars = []\n",
    "\n",
    "    for height in heights:\n",
    "        contour = rechteck(width, height, schwarz)\n",
    "        if height > 2:\n",
    "            fill = rechteck(width - 2, height - 2, fill_color)\n",
    "            pillar = ueberlagere(fill, contour)\n",
    "        else:\n",
    "            pillar = contour\n",
    "        pillars.append(pillar)\n",
    "\n",
    "    return pillars\n",
    "\n",
    "saeulen = create_pillars(zahlen)"
   ]
  },
  {
   "cell_type": "markdown",
   "metadata": {
    "id": "zf0pnOXcCaUm"
   },
   "source": [
    "Abschliessend müssen die Säulen noch nebeneinander angeordnet werden.\n",
    "Dazu werden die Funktionen `fixiere()` und `kombiniere()` verwendet."
   ]
  },
  {
   "cell_type": "code",
   "execution_count": 20,
   "metadata": {
    "colab": {
     "base_uri": "https://localhost:8080/",
     "height": 34
    },
    "id": "HpyypIAACaUn",
    "outputId": "1237c06b-29f7-43d1-9755-f7849d66bb8d"
   },
   "outputs": [
    {
     "data": {
      "image/png": "[encoded data removed]",
      "text/plain": [
       "<PIL.PngImagePlugin.PngImageFile image mode=RGBA size=70x7>"
      ]
     },
     "metadata": {},
     "output_type": "display_data"
    }
   ],
   "source": [
    "def draw_histogram(pillars : list[Grafik]) -> Grafik:\n",
    "    histogram = fixiere(unten_rechts, pillars[0])\n",
    "\n",
    "    for i in range(1, len(pillars)):\n",
    "        histogram = kombiniere(histogram, fixiere(unten_links, pillars[i]))\n",
    "        histogram = fixiere(unten_rechts, histogram)\n",
    "\n",
    "    return(histogram)\n",
    "\n",
    "resultat = draw_histogram(saeulen)\n",
    "zeige_grafik(resultat)"
   ]
  },
  {
   "cell_type": "markdown",
   "metadata": {
    "id": "8aKSDA1SZaj2"
   },
   "source": [
    "### Skalierung\n",
    "\n",
    "Das Histogramm mit den absoluten, unbearbeiteten Zahlen ist etwas flach. Entsprechend muss die Darstellung skaliert werden. Eine Lösung könnte die Überhöhung der Werte sein."
   ]
  },
  {
   "cell_type": "code",
   "execution_count": 21,
   "metadata": {
    "colab": {
     "base_uri": "https://localhost:8080/",
     "height": 87
    },
    "id": "DeTl2JRuZ4Ot",
    "outputId": "313f1304-d653-46ab-8b97-68ca71ba4c52"
   },
   "outputs": [
    {
     "data": {
      "image/png": "[encoded data removed]",
      "text/plain": [
       "<PIL.PngImagePlugin.PngImageFile image mode=RGBA size=70x70>"
      ]
     },
     "metadata": {},
     "output_type": "display_data"
    }
   ],
   "source": [
    "zahlen_ueberhoeht = [zahl * 10 for zahl in zahlen]\n",
    "ueberhoehte_saeulen = create_pillars(zahlen_ueberhoeht)\n",
    "histogram_ueberhoeht = draw_histogram(ueberhoehte_saeulen)\n",
    "\n",
    "zeige_grafik(histogram_ueberhoeht)"
   ]
  },
  {
   "cell_type": "markdown",
   "metadata": {
    "id": "sHSiHTN1a3Xh"
   },
   "source": [
    "Eine andere Variante ist die Arbeit mit relativen Werten. Die Zahlen in\n",
    "den einzelnen Klassen werden in Prozenten ausgedrückt. Die Prozentwerte\n",
    "werden dann als Histogramm dargestellt. Dies bietet den zusätzlichen Vorteil, dass\n",
    "verschiedene Samples besser miteinander verglichen werden können."
   ]
  },
  {
   "cell_type": "code",
   "execution_count": 22,
   "metadata": {
    "colab": {
     "base_uri": "https://localhost:8080/",
     "height": 44
    },
    "id": "D3zQvvH4bnBP",
    "outputId": "b9b444b7-91f8-4b39-aae1-c716ddeda735"
   },
   "outputs": [
    {
     "data": {
      "image/png": "[encoded data removed]",
      "text/plain": [
       "<PIL.PngImagePlugin.PngImageFile image mode=RGBA size=70x27>"
      ]
     },
     "metadata": {},
     "output_type": "display_data"
    }
   ],
   "source": [
    "zahlen_relativ = [zahl / sum(zahlen) * 100 for zahl in zahlen]\n",
    "relative_saeulen = create_pillars(zahlen_relativ)\n",
    "histogram_relativ = draw_histogram(relative_saeulen)\n",
    "\n",
    "zeige_grafik(histogram_relativ)"
   ]
  },
  {
   "cell_type": "markdown",
   "metadata": {
    "id": "CAeVUQmvcgBQ"
   },
   "source": [
    "Das ganze ist immer noch etwas klein. In einem nächsten Schritt kann\n",
    "auch dieses Resultat noch skaliert werden."
   ]
  },
  {
   "cell_type": "code",
   "execution_count": 23,
   "metadata": {},
   "outputs": [
    {
     "data": {
      "image/png": "[encoded data removed]",
      "text/plain": [
       "<PIL.PngImagePlugin.PngImageFile image mode=RGBA size=70x54>"
      ]
     },
     "metadata": {},
     "output_type": "display_data"
    }
   ],
   "source": [
    "zahlen_relativ_ueberhoeht = [zahl / sum(zahlen) * 100 * 2 for zahl in zahlen]\n",
    "ueberhoehte_relative_saeulen = create_pillars(zahlen_relativ_ueberhoeht)\n",
    "histogram_relativ_ueberhoeht = draw_histogram(ueberhoehte_relative_saeulen)\n",
    "\n",
    "zeige_grafik(histogram_relativ_ueberhoeht)"
   ]
  },
  {
   "cell_type": "markdown",
   "metadata": {
    "id": "MVXcLNP8CaUn"
   },
   "source": [
    "### Abschluss\n",
    "\n",
    "Damit das Erstellen eines Histogramms für den Nutzer etwas komfortabler\n",
    "möglich ist, sollen nun die einzelnen Funktionen so kombiniert werden,\n",
    "dass einer Funktion eine Liste mit Werten übergeben werden kann und\n",
    "diese dann ein Histogramm zurückgibt."
   ]
  },
  {
   "cell_type": "code",
   "execution_count": 26,
   "metadata": {
    "id": "1gbTKopRCaUo"
   },
   "outputs": [],
   "source": [
    "def get_histogram(values : list[float]) -> Grafik:\n",
    "    bins = measure_to_bin(values)\n",
    "    relative_hights = relativierung_mit_ueberhoehung(bins)\n",
    "    pillars = create_pillars(relative_hights)\n",
    "    histogram = draw_histogram(pillars)\n",
    "    \n",
    "    return histogram\n",
    "\n",
    "\n",
    "def measure_to_bins(measurements : list[int]) -> list[float]:\n",
    "    bins = []\n",
    "    total = len(measurements)\n",
    "    lower_end = min(measurements) // 5 * 5\n",
    "    upper_end = max(measurements) // 5 * 5 + 5\n",
    "    counter = 0\n",
    "\n",
    "    for i in range(lower_end, upper_end, 5):\n",
    "        for measure in measurements:\n",
    "            if measure >= i and measure < i + 5:\n",
    "                counter += 1\n",
    "        bins.append(counter)\n",
    "        counter = 0\n",
    "\n",
    "    return bins\n",
    "\n",
    "def relativierung_mit_ueberhoehung(bins : list[int]) -> list[float]:\n",
    "    return[bin / sum(bins) * 100 * 2 for bin in bins]\n",
    "\n",
    "def create_pillars(heights : list[float]) -> list[Grafik]:\n",
    "    fill_color = rgb_farbe(50, 255, 255)\n",
    "    width = 10\n",
    "    pillars = []\n",
    "\n",
    "    for height in heights:\n",
    "        contour = rechteck(width, height, schwarz)\n",
    "        if height > 2:\n",
    "            fill = rechteck(width - 2, height - 2, fill_color)\n",
    "            pillar = ueberlagere(fill, contour)\n",
    "        else:\n",
    "            pillar = contour\n",
    "        pillars.append(pillar)\n",
    "\n",
    "    return pillars\n",
    "\n",
    "def draw_histogram(pillars : list[Grafik]) -> Grafik:\n",
    "    histogram = fixiere(unten_rechts, pillars[0])\n",
    "\n",
    "    for i in range(1, len(pillars)):\n",
    "        histogram = kombiniere(histogram, fixiere(unten_links, pillars[i]))\n",
    "        histogram = fixiere(unten_rechts, histogram)\n",
    "\n",
    "    return(histogram)"
   ]
  },
  {
   "cell_type": "code",
   "execution_count": 27,
   "metadata": {},
   "outputs": [
    {
     "data": {
      "image/png": "[encoded data removed]",
      "text/plain": [
       "<PIL.PngImagePlugin.PngImageFile image mode=RGBA size=70x54>"
      ]
     },
     "metadata": {},
     "output_type": "display_data"
    }
   ],
   "source": [
    "zeige_grafik(get_histogram(measurements))"
   ]
  }
 ],
 "metadata": {
  "colab": {
   "include_colab_link": true,
   "provenance": [],
   "toc_visible": true
  },
  "kernelspec": {
   "display_name": "Python 3 (ipykernel)",
   "language": "python",
   "name": "python3"
  },
  "language_info": {
   "codemirror_mode": {
    "name": "ipython",
    "version": 3
   },
   "file_extension": ".py",
   "mimetype": "text/x-python",
   "name": "python",
   "nbconvert_exporter": "python",
   "pygments_lexer": "ipython3",
   "version": "3.11.6"
  }
 },
 "nbformat": 4,
 "nbformat_minor": 4
}

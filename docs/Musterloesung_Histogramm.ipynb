{
  "cells": [
    {
      "cell_type": "markdown",
      "metadata": {
        "id": "view-in-github",
        "colab_type": "text"
      },
      "source": [
        "<a href=\"https://colab.research.google.com/github/Jacques-Mock-Schindler/Studienleistung1/blob/master/docs/Musterloesung_Histogramm.ipynb\" target=\"_parent\"><img src=\"https://colab.research.google.com/assets/colab-badge.svg\" alt=\"Open In Colab\"/></a>"
      ]
    },
    {
      "cell_type": "markdown",
      "metadata": {
        "id": "F5iNpl3ZCaUZ"
      },
      "source": [
        "# Histogramme zeichnen mit Pytamaro\n",
        "\n",
        "Ein Histogramm ist eine grafische Darstellung der Häufigkeitsverteilung\n",
        "kardinal skalierter Merkmale. Es erfordert die Einteilung der Daten in\n",
        "Klassen (englisch bins), die eine konstante oder variable Breite haben\n",
        "können. Es werden direkt nebeneinanderliegende Rechtecke von der Breite\n",
        "der jeweiligen Klasse gezeichnet, deren Flächeninhalte die (relativen\n",
        "oder absoluten) Klassenhäufigkeiten darstellen. Die Höhe jedes Rechtecks\n",
        "stellt dann die (relative oder absolute) Häufigkeitsdichte dar, also die\n",
        "(relative oder absolute) Häufigkeit dividiert durch die Breite der\n",
        "entsprechenden Klasse.\n",
        "\n",
        "[Text von Wikipedia](https://de.wikipedia.org/wiki/Histogramm)\n",
        "\n",
        "![Histogramm Beispiel](https://upload.wikimedia.org/wikipedia/commons/thumb/8/82/Thist_german.png/440px-Thist_german.png)"
      ]
    },
    {
      "cell_type": "markdown",
      "metadata": {
        "id": "rWRptfRnCaUc"
      },
      "source": [
        "In dieser Übung zeichnen Sie ein Histogramm mit der Verteilung der\n",
        "Körpergrössen der Schülerinnen und Schüler in Ihrer Klasse."
      ]
    },
    {
      "cell_type": "markdown",
      "metadata": {
        "id": "TmSfAVOLCaUc"
      },
      "source": [
        "Hier folgt die Zelle zum Laden von PyTamaro in google colaboratory:"
      ]
    },
    {
      "cell_type": "code",
      "execution_count": null,
      "metadata": {
        "id": "SkyMq9ziCaUd",
        "colab": {
          "base_uri": "https://localhost:8080/"
        },
        "outputId": "0b826d12-7229-4a82-f7f6-7a10d8d09d36"
      },
      "outputs": [
        {
          "output_type": "stream",
          "name": "stdout",
          "text": [
            "Collecting pytamaro\n",
            "  Downloading pytamaro-0.5.2-py3-none-any.whl (33 kB)\n",
            "Requirement already satisfied: Pillow<10.0.0,>=9.0.0 in /usr/local/lib/python3.10/dist-packages (from pytamaro) (9.4.0)\n",
            "Collecting skia-python<88.0,>=87.4 (from pytamaro)\n",
            "  Downloading skia_python-87.5-cp310-cp310-manylinux_2_17_x86_64.manylinux2014_x86_64.whl (10.8 MB)\n",
            "\u001b[2K     \u001b[90m━━━━━━━━━━━━━━━━━━━━━━━━━━━━━━━━━━━━━━━━\u001b[0m \u001b[32m10.8/10.8 MB\u001b[0m \u001b[31m32.3 MB/s\u001b[0m eta \u001b[36m0:00:00\u001b[0m\n",
            "\u001b[?25hRequirement already satisfied: numpy in /usr/local/lib/python3.10/dist-packages (from skia-python<88.0,>=87.4->pytamaro) (1.23.5)\n",
            "Collecting pybind11>=2.6 (from skia-python<88.0,>=87.4->pytamaro)\n",
            "  Downloading pybind11-2.11.1-py3-none-any.whl (227 kB)\n",
            "\u001b[2K     \u001b[90m━━━━━━━━━━━━━━━━━━━━━━━━━━━━━━━━━━━━━━━━\u001b[0m \u001b[32m227.7/227.7 kB\u001b[0m \u001b[31m17.7 MB/s\u001b[0m eta \u001b[36m0:00:00\u001b[0m\n",
            "\u001b[?25hInstalling collected packages: pybind11, skia-python, pytamaro\n",
            "Successfully installed pybind11-2.11.1 pytamaro-0.5.2 skia-python-87.5\n"
          ]
        }
      ],
      "source": [
        "! pip install pytamaro"
      ]
    },
    {
      "cell_type": "markdown",
      "metadata": {
        "id": "kDugg1LDCaUe"
      },
      "source": [
        "## Listen\n",
        "\n",
        "Damit die\n",
        "Körpergrössen in Python sinnvoll verarbeitet werden können, brauchen wir\n",
        "die Datenstruktur *Liste*.\n",
        "\n",
        "In Python werden Listen dazu verwendet, mehrere Werte geordnet einer Variablen zuzuweisen.\n",
        "Listen sind allerdings nur eine von vier in Python standardmässig zur\n",
        "Verfügung stehenden Datenstrukturen, die das können.\n",
        "\n",
        "### Listen erstellen\n",
        "\n",
        "Am einfachsten werden Listen durch Literale erstell. Dazu werden die Werte der Liste durch Kommas getrennt in eckigen Klammern geschrieben:"
      ]
    },
    {
      "cell_type": "code",
      "execution_count": null,
      "metadata": {
        "id": "-JopSBpPCaUe"
      },
      "outputs": [],
      "source": [
        "numbers = [1, 8, 3]\n",
        "print(numbers)\n",
        "vegetables = ['Spinat', 'Sellerie', 'Blumenkohl']\n",
        "print(vegetables)"
      ]
    },
    {
      "cell_type": "markdown",
      "source": [
        "### Listen erstellen durch Import der Daten\n",
        "\n",
        "Kurze Listen können ohne weiteres manuell erstellt werden. Wenn die Listen aber eine grosse Zahl von Elementen enthalten, ist es sinnvoll, dies Daten zu importieren und die Liste aus diesem Datenimport zu erstellen. In vielen Fällen werden die Daten in CSV-Files (Comma Separated Values) zur Verfügung gestellt. Pyhton verfügt über eine eigene Library um solche CSV-Files zu lesen und auch zu schreiben.\n",
        "\n",
        "An dieser Stelle soll aber ein CSV-File mit Hilfe der\n",
        "[pandas](https://pandas.pydata.org/) Data Analysis Library eingelesen werden. Dafür muss als erstes diese Library importiert werden."
      ],
      "metadata": {
        "id": "84srPq0EhBbW"
      }
    },
    {
      "cell_type": "code",
      "source": [
        "import pandas as pd"
      ],
      "metadata": {
        "id": "eUE5nW83kOOw"
      },
      "execution_count": 1,
      "outputs": []
    },
    {
      "cell_type": "markdown",
      "source": [
        "Um eine Tabelle mit mehreren Zeilen und Spalten als ganzes einzulesen, verwendet man einen sogenannten *data frame*. Ein *data frame* ist eine zweidimensionale Struktur mit Spalten und Zeilen. Die Syntax dafür lautet `df = pd.read_csv('name_der_quelle.csv')`, wobei df auch durch eine andere Variable ersetzt werden kann.\n",
        "\n",
        "Der so importierte *data frame* kann durch `print(df.to_string())` ausgegeben (und kontrolliert werden)."
      ],
      "metadata": {
        "id": "K5WATLHtkU7m"
      }
    },
    {
      "cell_type": "code",
      "source": [
        "df = pd.read_csv('Koerpergroessen.CSV')\n",
        "\n",
        "print(df.to_string())"
      ],
      "metadata": {
        "colab": {
          "base_uri": "https://localhost:8080/"
        },
        "id": "qwadW_M5lPzF",
        "outputId": "c9561c19-67ca-4a0e-af62-4cc3caf07d5a"
      },
      "execution_count": 4,
      "outputs": [
        {
          "output_type": "stream",
          "name": "stdout",
          "text": [
            "   Koerpgergroesse in cm  Geschlecht (f, m, d)   Jahrgang (yyyy) \n",
            "0                    1.79             maennlich              2009\n",
            "1                     160                     f              2009\n",
            "2                     167                     f              2009\n",
            "3                     180                     m              2008\n",
            "4                     169                     m              2008\n",
            "5                     175                     m              2008\n",
            "6                   177cm                     m              2008\n",
            "7                     182                     m              2009\n",
            "8                     161                     f              2008\n",
            "9                  1.66 m                     f              2009\n",
            "10                    177                     m              2008\n",
            "11                    179                     m              2008\n",
            "12                    178                     m              2007\n",
            "13                    172                     f              2008\n",
            "14                    170                     m              2008\n",
            "15                  164cm                     f              2009\n",
            "16                    155                     f              2009\n",
            "17                    171                     f              2008\n",
            "18                 173 cm                     m              2008\n",
            "19                    161                     f              2008\n",
            "20                    185                     m              2008\n",
            "21                    158                     f              2009\n",
            "22                    169                     f              2007\n",
            "23                    172                     m              2007\n",
            "24                    170                     m              2008\n",
            "25                    175                     m              2008\n"
          ]
        }
      ]
    },
    {
      "cell_type": "markdown",
      "source": [
        "Um ein Histogramm der Körpergrössen zu erstellen, braucht es nur die Spalte \"Koerpergroesse in cm\". Im folgenden soll aus dieser Spalte eine Liste erstellt werden. Dazu braucht es die folgende Befehlssequenz:\n",
        "\n",
        "`chosen_column = df['header'].to_list()`\n",
        "\n",
        "Dabei kann `chosen_column` durch einen sinnvollen Namen eigener Wahl ersetzt werden. Anstelle von `'header'` wird der Titel der gewünschten Spalte eingesetzt."
      ],
      "metadata": {
        "id": "UHEA8MHCmQw9"
      }
    },
    {
      "cell_type": "code",
      "source": [
        "measurements_from_df = df['Koerpgergroesse in cm '].to_list()\n",
        "print(measurements_from_df)"
      ],
      "metadata": {
        "colab": {
          "base_uri": "https://localhost:8080/"
        },
        "id": "2iFtryeLnXlZ",
        "outputId": "07b7e1ae-bedb-4253-a2dd-4dd46177c53c"
      },
      "execution_count": 6,
      "outputs": [
        {
          "output_type": "stream",
          "name": "stdout",
          "text": [
            "['1.79', '160', '167', '180', '169', '175', '177cm', '182', '161', '1.66 m', '177', '179', '178', '172', '170', '164cm', '155', '171', '173 cm', '161', '185', '158', '169', '172', '170', '175']\n"
          ]
        }
      ]
    },
    {
      "cell_type": "markdown",
      "source": [
        "Mit `print(measurements_from_df)` kann die so erzeugte Liste angezeigt werden. Dabei fällt auf (wie schon im Angezeigten Dataframe), dass die Daten einerseits als String vorliegen und anderseits nicht einheitlich erfasst worden sind. Auch hier gilt, bei relativ wenigen Daten, kann die Bereinigung manuell erfolgen. Wenn es sich aber um einen grossen Datensatz handelt, muss die Bereinigung automatisiert werden.\n",
        "\n",
        "Eine einfache Vorgehensweise sucht dabei alle Fehlertypen und iteriert dann über die Liste um jeden Fehlertypen zu eliminieren. Im vorliegenden Beispiel sind die Fehler \".\", \" \", \"m\" und \"cm\". Diese vier Fehlertypen können mithilfe der Methode `.replace(\"str\", \"str\")` und einer *list comprehension* gefunden und korrigiert werden. Anstelle des ersten Strings wird der gesuchte Fehlertyp eingefüllt und als Korrektur wird ein leerer String angegeben. Für den Fehler \".\" lautet die Syntax dann `measurements_cleaned = measure.replace(\".\", \"\") for measure in measurements_from_df]`. Wenn das für alle Fehlertypen gemacht worden ist, werden die Strings in einer weiteren *list comprehension* in Integer umgegwandelt."
      ],
      "metadata": {
        "id": "pfrQgj5FnneN"
      }
    },
    {
      "cell_type": "code",
      "source": [
        "measurements_cleaned = [measure.replace(\".\", \"\") for measure in measurements_from_df]\n",
        "measurements_cleaned = [measure.replace(\" \", \"\") for measure in measurements_cleaned]\n",
        "measurements_cleaned = [measure.replace(\"cm\", \"\") for measure in measurements_cleaned]\n",
        "measurements_cleaned = [measure.replace(\"m\", \"\") for measure in measurements_cleaned]\n",
        "print(measurements_cleaned)\n",
        "measurements_as_int = [int(measure) for measure in measurements_cleaned]\n",
        "print(measurements_as_int)"
      ],
      "metadata": {
        "id": "9NJS5RDyu2Af",
        "outputId": "8aa8cab6-19e2-4860-8ce0-7ce31b99488f",
        "colab": {
          "base_uri": "https://localhost:8080/"
        }
      },
      "execution_count": 13,
      "outputs": [
        {
          "output_type": "stream",
          "name": "stdout",
          "text": [
            "['179', '160', '167', '180', '169', '175', '177', '182', '161', '166', '177', '179', '178', '172', '170', '164', '155', '171', '173', '161', '185', '158', '169', '172', '170', '175']\n",
            "[179, 160, 167, 180, 169, 175, 177, 182, 161, 166, 177, 179, 178, 172, 170, 164, 155, 171, 173, 161, 185, 158, 169, 172, 170, 175]\n"
          ]
        }
      ]
    },
    {
      "cell_type": "markdown",
      "metadata": {
        "id": "H22ClUTKCaUf"
      },
      "source": [
        "### Auf Elemente einer Liste zugreifen\n",
        "\n",
        "Die Elemente einer Liste sind geordnet und indexiert. Geordnet heisst,\n",
        "dass die Liste die Reihenfolge der Elemente so behält, wie sie erstellt\n",
        "wird - zumindest solange die Liste nicht verändert wird. Indexiert\n",
        "heisst, dass jedes Element einer Liste eine Nummer erhält. Allerdings\n",
        "beginnt man mit Null zu zählen. Das bedeutet, dass der `Sellerie` in der Liste `vegetables`den Index `1` hat.\n",
        "\n",
        "Um das zweite Element der Liste auszugeben, muss Python nach dem Element\n",
        "mit dem Index `1` der entsprechenden Liste gefragt werden:"
      ]
    },
    {
      "cell_type": "code",
      "execution_count": null,
      "metadata": {
        "id": "dXTe-503CaUg"
      },
      "outputs": [],
      "source": [
        "print(vegetables[1])"
      ]
    },
    {
      "cell_type": "markdown",
      "metadata": {
        "id": "uSuZZmQvCaUh"
      },
      "source": [
        "Listen können auch mit einer sogenannten *list comprehenison* erstellt werden."
      ]
    },
    {
      "cell_type": "code",
      "execution_count": null,
      "metadata": {
        "id": "wmdmWmFVCaUh"
      },
      "outputs": [],
      "source": [
        "numbers = [i for i in range(1,21)]\n",
        "print(numbers)"
      ]
    },
    {
      "cell_type": "markdown",
      "metadata": {
        "id": "du5b75h7CaUh"
      },
      "source": [
        "Eine *list comprehension* funktioniert ähnlich, wie die Beschreibung einer Menge in\n",
        "der Mathematik ($\\{x \\in \\mathbb{N} \\mid 1 \\geq x > 21\\}$).\n",
        "```Python\n",
        "for i in range(1,21)\n",
        "```\n",
        "ist bereits bei der Konstruktion der Bahnhofsuhr vorgekommen. `1` ist\n",
        "der Startwert für den Zähler `i` und 21 die obere Grenze.\n",
        "\n",
        "Listen sind nützliche Datenstrukturen, weil sie durchlaufen werden\n",
        "können und dabei jedes einzelne Element als Parameter einer Funktion\n",
        "übergeben werden kann.\n",
        "\n",
        "Als Beispiel wird die Quadratzahl jedes Elements in `numbers` berechnet\n",
        "und ausgegeben."
      ]
    },
    {
      "cell_type": "code",
      "execution_count": null,
      "metadata": {
        "id": "7HvZzt3HCaUi"
      },
      "outputs": [],
      "source": [
        "for number in numbers:\n",
        "    print(number ** 2)"
      ]
    },
    {
      "cell_type": "markdown",
      "metadata": {
        "id": "ARyKYoOMCaUi"
      },
      "source": [
        "Es hat sich eingebürgert, für Listen Namen von Variablen im Plural zu\n",
        "wählen. Dann können die einzelnen Elemente im Singular bezeichnet\n",
        "werden. Dies ist jedoch reine Konvention und technisch nicht\n",
        "erforderlich. Um das zu zeigen findet sich unten ein Beispiel, das sich\n",
        "*nicht* an diese Konvention hält. Dazu wird die Liste `numbers` zuerst der Variablen $y$ zugewiesen."
      ]
    },
    {
      "cell_type": "code",
      "execution_count": null,
      "metadata": {
        "id": "giy8ck8mCaUi"
      },
      "outputs": [],
      "source": [
        "y = numbers\n",
        "for x in y:\n",
        "    print(x ** 2)"
      ]
    },
    {
      "cell_type": "markdown",
      "metadata": {
        "id": "RqjFLQHfCaUi"
      },
      "source": [
        "Listen können auch leer sein. Eine leere Liste wird folgendermassen erstellt:"
      ]
    },
    {
      "cell_type": "code",
      "execution_count": null,
      "metadata": {
        "id": "EXLuzi6ZCaUi"
      },
      "outputs": [],
      "source": [
        "leere_liste = []"
      ]
    },
    {
      "cell_type": "markdown",
      "metadata": {
        "id": "oTf-xU25CaUi"
      },
      "source": [
        "Wenn einer bestehenden Liste ein Element angefügt werden soll, stellt\n",
        "Python die Funktion `listenname.append(Element)` zur Verfügung."
      ]
    },
    {
      "cell_type": "code",
      "execution_count": null,
      "metadata": {
        "id": "HXOwZgSkCaUj"
      },
      "outputs": [],
      "source": [
        "ein_paar_elemente = [2, 5, 1]\n",
        "print(ein_paar_elemente)\n",
        "ein_paar_elemente.append(7)\n",
        "print(ein_paar_elemente)"
      ]
    },
    {
      "cell_type": "markdown",
      "metadata": {
        "id": "pzxvOUm2CaUj"
      },
      "source": [
        "### Anwendung\n",
        "\n",
        "Als nächstes nehmen Sie die gemessenen Grössen in der Klasse in eine\n",
        "Liste `measurements` auf."
      ]
    },
    {
      "cell_type": "code",
      "execution_count": null,
      "metadata": {
        "id": "3QAU5RjkCaUj"
      },
      "outputs": [],
      "source": [
        "measurements = [179,160,167,180,169,175,177,182,161,166,177,179,178,172,170,164,155,171,173,161,185,158,169,172,170,175]"
      ]
    },
    {
      "cell_type": "markdown",
      "metadata": {
        "id": "SQsjq584CaUk"
      },
      "source": [
        "Damit aus der Liste der Körpergrössen ein Histogramm gezeichnet werden\n",
        "kann, müssen die Körpergrössen in Gruppen (engl. bin) eingeteilt werden\n",
        "und die Elemente einer Gruppe gezählt werden.\n",
        "\n",
        "Für diese Übung sollen die Körpergrössen in Gruppen mit 5cm Abstand eingeteilt werden. Das\n",
        "heisst, eine Gruppe sind zum Beispiel alle Werte von 160cm bis 164cm.\n",
        "\n",
        "Als Vorbereitung sehen Sie in der folgenden Zelle eine Schleife, die einmal über alle\n",
        "Grössen läuft und zählt, wie viele Werte zwischen 160cm bis 164cm liegen."
      ]
    },
    {
      "cell_type": "code",
      "execution_count": null,
      "metadata": {
        "id": "CmFdn-GeCaUk"
      },
      "outputs": [],
      "source": [
        "bin_160_bis_164 = 0\n",
        "for measure in measurements:\n",
        "    if measure >= 160 and measure < 165:\n",
        "        bin_160_bis_164 += 1\n",
        "\n",
        "print(bin_160_bis_164)"
      ]
    },
    {
      "cell_type": "markdown",
      "metadata": {
        "id": "u7gOGj9pCaUk"
      },
      "source": [
        "Dieses Code Snippet führt eine Bedingung ein.\n",
        "Bedingungen oder\n",
        "sogenannte `if`-Statements stellen sicher, dass bestimmter Code nur\n",
        "ausgeführt wird, wenn die Bedingung, die geprüft wird, eingehalten wird. Im\n",
        "Beispiel werden zwei Bedingungen geprüft, die kumulativ erfüllt sein\n",
        "müssen (erste Bedinung `measure >= 160`, zweite Bedingung\n",
        "`measure < 165`). Das heisst, wenn beide Bedingungen erfüllt sind, wird\n",
        "`bin_160_bis_164 += 1` ausgeführt. Dies ist eine Kurzschreibweise für\n",
        "`bin_160_bis_164 = bin_160_bis_164 + 1`. Es wird also jedesmal, wenn die Bedingung erfüllt ist, `bin_160_bis_164` um 1 hochgezählt.\n",
        "\n",
        "Damit dies für die ganze Liste verallgemeinert werden kann, muss der kleinste und der grösste Wert der Liste bekannt sein.\n",
        "\n",
        "Das Minimum einer Liste kann folgendermassen ermittelt werden:"
      ]
    },
    {
      "cell_type": "code",
      "execution_count": null,
      "metadata": {
        "id": "7lT0kRtSCaUl"
      },
      "outputs": [],
      "source": [
        "def get_minimum(input : list[int]) -> int:\n",
        "    minimum = input[0]\n",
        "\n",
        "    for value in input:\n",
        "        if value < minimum:\n",
        "            minimum = value\n",
        "\n",
        "    return minimum\n",
        "\n",
        "print(get_minimum(measurements))"
      ]
    },
    {
      "cell_type": "markdown",
      "metadata": {
        "id": "KXNtNqSECaUl"
      },
      "source": [
        "Schreiben Sie eine vergleichbare Funktion, die das Maximum einer Liste ausgibt."
      ]
    },
    {
      "cell_type": "code",
      "execution_count": null,
      "metadata": {
        "id": "mkZ4OewdCaUl"
      },
      "outputs": [],
      "source": [
        "def get_maximum(input : list[int]) -> int:\n",
        "    # TODO: Funktion zur Suche des Maximums in einer Liste\n",
        "    # pass löschen und durch eigenen Code ersetzen\n",
        "    pass\n",
        "\n",
        "print(get_maximum(measurements))"
      ]
    },
    {
      "cell_type": "markdown",
      "metadata": {
        "id": "vjnFZulgCaUl"
      },
      "source": [
        "Um die Möglichkeiten, welche `if`-Statements bieten noch etwas weiter zu\n",
        "illustrieren, finden Sie in der nächsten Zelle eine Schleife, welche\n",
        "gerade Zahlen quadriert und ungerade mit drei potenziert. Falls statt\n",
        "einer Zahl ein anderer Datentyp auftaucht, wird der String `unzulässiger\n",
        "Input` in die Liste der Resultate eingetragen."
      ]
    },
    {
      "cell_type": "code",
      "execution_count": null,
      "metadata": {
        "id": "Ou2wd3EmCaUl"
      },
      "outputs": [],
      "source": [
        "demo_list = [1, 2, 3, 4, 5, 'hallo', 7, 8, 9]\n",
        "\n",
        "def if_demo(numbers : list[int]) -> list[int]:\n",
        "    results = []\n",
        "    for number in numbers:\n",
        "        if type(number) != int:\n",
        "            results.append('unzulässiger Input')\n",
        "        elif number % 2 == 0:\n",
        "            results.append(number ** 2)\n",
        "        else:\n",
        "            results.append(number ** 3)\n",
        "    return results\n",
        "\n",
        "print(if_demo(demo_list))"
      ]
    },
    {
      "cell_type": "markdown",
      "metadata": {
        "id": "b2zVJWYqCaUm"
      },
      "source": [
        "In diesem Beispiel bedeutet `!=` **nicht**. Es wird\n",
        "geprüft, ob number vom Typ `int` ist, wenn dies nicht der Fall ist, wird\n",
        "in der Resultatliste `unzulässiger Input` eingetragen. Mit `elif` wird\n",
        "eine zweite Bedingung geprüft. Im Beispiel ob die Zahl ohne Rest durch 2\n",
        "teilbar ist (`number % 2 == 0`). Damit Python zwischen einem Vergleich\n",
        "und einer Zuweisung unterscheiden kann, wird bei Vergleichen ein\n",
        "doppeltes Gleichheitszeichen verwendet. Falls keine der beiden geprüften\n",
        "Bedingungen erfüllt ist, wird mit `else` angezeigt, was mit dem Rest der\n",
        "Fälle zu geschehen habe.\n",
        "\n",
        "Aus den obigen Beispielen geht implizit hervor, dass sowohl `elif` wie\n",
        "auch `else` optional sind. `elif` Bedingungen können beliebig viele\n",
        "eingefügt werden, `else` kann nur einmal vorkommen."
      ]
    },
    {
      "cell_type": "markdown",
      "metadata": {
        "id": "yVGoAacnCaUm"
      },
      "source": [
        "Python stellt eine Funktion `min()` und `max()` zur Verfügung, welche das Miniumum bzw. das Maximum einer Liste ausgeben. Trotzdem war das eine gute Fingerübung, um sich mit der\n",
        "Funktion von Bedingungen vertraut zu machen.\n",
        "\n",
        "Nun sollten Sie in der Lage sein, den Beispiel Code für die Grössen\n",
        "zwischen 160cm und 164cm zu verallgemeinern, so dass die\n",
        "ganze Liste der Körpergrössen in 5cm Bins \"abgefüllt\" wird.\n",
        "\n",
        "Hinweis: Die einzelnen Bins sind ihrerseits Elemente einer Liste."
      ]
    },
    {
      "cell_type": "code",
      "execution_count": null,
      "metadata": {
        "id": "BUl3NIpfCaUm"
      },
      "outputs": [],
      "source": [
        "def measure_to_bin(measurements : list[int]) -> list[float]:\n",
        "    bins = []\n",
        "    total = len(measurements)\n",
        "    pass\n",
        "    # TODO: Funktion schreiben, welche die konkreten Körpergrössen in\n",
        "    # die entsprechenden bins abfüllt."
      ]
    },
    {
      "cell_type": "markdown",
      "metadata": {
        "id": "v9YhiXgJCaUm"
      },
      "source": [
        "Die so gruppierten Werte können nun visualisiert werden. Dazu braucht es\n",
        "eine Funktion, welche eine Liste als Parameter entgegennimmt und eine\n",
        "Liste mit Grafiken (Rechtecken mit der entsprechenden Länge) zurückgibt."
      ]
    },
    {
      "cell_type": "code",
      "execution_count": null,
      "metadata": {
        "id": "pYsOKGdvCaUm"
      },
      "outputs": [],
      "source": [
        "from pytamaro.de import (rechteck, Grafik,\n",
        "                         blau,\n",
        "                         fixiere, kombiniere,\n",
        "                         unten_links, unten_rechts,\n",
        "                         zeige_grafik)"
      ]
    },
    {
      "cell_type": "code",
      "execution_count": null,
      "metadata": {
        "id": "spCNyueYCaUm"
      },
      "outputs": [],
      "source": [
        "def create_pillars(heights : list[float]) -> list[Grafik]:\n",
        "    width = 5\n",
        "    pillars = []\n",
        "    pass\n",
        "    # TODO: Schreiben Sie eine Funktion, welche eine Liste von\n",
        "    # Rechtecken zurückgibt, deren Länge die Anzahl Elemente eines bin repräsentiert."
      ]
    },
    {
      "cell_type": "markdown",
      "metadata": {
        "id": "zf0pnOXcCaUm"
      },
      "source": [
        "Abschliessend müssen die Säulen noch nebeneinander angeordnet werden.\n",
        "Dazu werden die Funktionen `fixiere()` und `kombiniere()` verwendet."
      ]
    },
    {
      "cell_type": "code",
      "execution_count": null,
      "metadata": {
        "id": "HpyypIAACaUn"
      },
      "outputs": [],
      "source": [
        "def draw_histogram(pillars : list[Grafik]) -> Grafik:\n",
        "    pass\n",
        "    # TODO: Schreiben Sie eine Funktion, welche aus der Liste an Säulen\n",
        "    # eine einzige Grafik erstellt."
      ]
    },
    {
      "cell_type": "markdown",
      "metadata": {
        "id": "MVXcLNP8CaUn"
      },
      "source": [
        "Damit das Erstellen eines Histogramms für den Nutzer etwas komfortabler\n",
        "möglich ist, sollen nun die einzelnen Funktionen so kombiniert werden,\n",
        "dass einer Funktion eine Liste mit Werten übergeben werden kann und\n",
        "diese dann ein Histogramm zurückgibt."
      ]
    },
    {
      "cell_type": "code",
      "execution_count": null,
      "metadata": {
        "id": "1gbTKopRCaUo"
      },
      "outputs": [],
      "source": [
        "def get_histogram(values : list[float]) -> Grafik:\n",
        "    # TODO: schreiben Sie eine kombinierte Funktion\n",
        "    pass"
      ]
    }
  ],
  "metadata": {
    "colab": {
      "provenance": [],
      "include_colab_link": true
    },
    "kernelspec": {
      "display_name": "Python 3 (ipykernel)",
      "language": "python",
      "name": "python3"
    },
    "language_info": {
      "codemirror_mode": {
        "name": "ipython",
        "version": 3
      },
      "file_extension": ".py",
      "mimetype": "text/x-python",
      "name": "python",
      "nbconvert_exporter": "python",
      "pygments_lexer": "ipython3",
      "version": "3.11.5"
    }
  },
  "nbformat": 4,
  "nbformat_minor": 0
}
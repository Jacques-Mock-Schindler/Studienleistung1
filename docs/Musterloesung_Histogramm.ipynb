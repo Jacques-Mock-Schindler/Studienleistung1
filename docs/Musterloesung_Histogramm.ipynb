{
 "cells": [
  {
   "cell_type": "markdown",
   "metadata": {
    "colab_type": "text",
    "id": "view-in-github"
   },
   "source": [
    "<a href=\"https://colab.research.google.com/github/Jacques-Mock-Schindler/Studienleistung1/blob/musterloesung/docs/Musterloesung_Histogramm.ipynb\" target=\"_parent\"><img src=\"https://colab.research.google.com/assets/colab-badge.svg\" alt=\"Open In Colab\"/></a>"
   ]
  },
  {
   "cell_type": "markdown",
   "metadata": {
    "id": "F5iNpl3ZCaUZ"
   },
   "source": [
    "# Histogramme zeichnen mit PyTamaro"
   ]
  },
  {
   "cell_type": "markdown",
   "metadata": {},
   "source": [
    "In einem Histogramm wird die Verteilung der Häufigkeit von Werten\n",
    "dargestellt. So kann zum Beispiel die Prüfungsleistung einer Schulklasse\n",
    "in einem Histogramm dargestellt werden. Dabei wird gezählt, wie viele\n",
    "Schülerinnen und Schüler eine Note zwischen 1 und 1.9, 2 und 2.9, ... , 5\n",
    "und 6 erreicht haben. Für die grafische Darstellung werden dann\n",
    "Rechtecke mit einer fixen Breite und einer Höhe, die proportional zur\n",
    "Anzahl der jeweiligen Leistungen gezeichnet. Diese Rechtecke werden dann\n",
    "nach der Leistung sortiert nebeneinander dargestellt.\n",
    "\n",
    "Die Darstellung kann variert werden, in dem die Gruppierung der Werte\n",
    "verändert wird (Anstatt die Anzahl der Noten zwischen 4 und 5, die\n",
    "Anzahl der Noten zwischen 4.1 und 4.5 sowie 4.6 und 5).\n",
    "\n",
    "Für die Darstellung der Häufigkeit bestimmter Werte kann sowohl auf\n",
    "deren Anzahl oder auf deren prozentualen Anteil an allen Werten\n",
    "abgestellt werden.\n",
    "\n",
    "Die folgende Grafik ist ein Beispiel für ein Histogramm, welches die\n",
    "Verteilung der Noten in einer Prüfung des obligatorischen Fachs\n",
    "Informatik darstellt."
   ]
  },
  {
   "cell_type": "markdown",
   "metadata": {},
   "source": [
    "<img src=\"data:image/png;base64,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\">"
   ]
  },
  {
   "cell_type": "markdown",
   "metadata": {
    "id": "rWRptfRnCaUc"
   },
   "source": [
    "In dieser Übung zeichnen Sie ein Histogramm mit der Verteilung der\n",
    "Körpergrössen der Schülerinnen und Schüler in Ihrer Klasse."
   ]
  },
  {
   "cell_type": "markdown",
   "metadata": {
    "id": "TmSfAVOLCaUc"
   },
   "source": [
    "Hier folgt die Zelle zum Laden von PyTamaro in Google Colaboratory\n",
    "(diese Zelle muss nur ausgeführt werden, wenn in Google Colaboratory\n",
    "gearbeitet wird):"
   ]
  },
  {
   "cell_type": "code",
   "execution_count": null,
   "metadata": {
    "colab": {
     "base_uri": "https://localhost:8080/"
    },
    "id": "SkyMq9ziCaUd",
    "outputId": "af09e9d8-fb9c-4455-ce2d-d7e7a64c75aa"
   },
   "outputs": [],
   "source": [
    "! pip install pytamaro"
   ]
  },
  {
   "cell_type": "markdown",
   "metadata": {
    "id": "kDugg1LDCaUe"
   },
   "source": [
    "## Listen in Python (Einführung)"
   ]
  },
  {
   "cell_type": "markdown",
   "metadata": {},
   "source": [
    "Damit die\n",
    "Körpergrössen in Python sinnvoll verarbeitet werden können, brauchen wir\n",
    "die Datenstruktur *Liste*.\n",
    "\n",
    "In Python können Listen dazu verwendet werden, einer Variabel mehrere Werte\n",
    "zuzuweisen. Die Werte behalten dabei grundsätzlich ihre ursprüngliche\n",
    "Reihenfolge bei."
   ]
  },
  {
   "cell_type": "markdown",
   "metadata": {},
   "source": [
    "### Listen erstellen"
   ]
  },
  {
   "cell_type": "markdown",
   "metadata": {},
   "source": [
    "Am einfachsten werden Listen durch die Eingabe von konkreten Werten des\n",
    "betrachteten Datentypen erstellt. Dazu werden die\n",
    "Werte der Liste durch Kommas getrennt in eckigen Klammern geschrieben:"
   ]
  },
  {
   "cell_type": "code",
   "execution_count": 2,
   "metadata": {
    "colab": {
     "base_uri": "https://localhost:8080/"
    },
    "id": "-JopSBpPCaUe",
    "outputId": "57a57691-ed5d-4552-f4ff-91e50ec9b7c9"
   },
   "outputs": [
    {
     "name": "stdout",
     "output_type": "stream",
     "text": [
      "[1, 8, 3]\n",
      "['Spinat', 'Sellerie', 'Blumenkohl']\n"
     ]
    }
   ],
   "source": [
    "numbers = [1, 8, 3]\n",
    "print(numbers)\n",
    "vegetables = ['Spinat', 'Sellerie', 'Blumenkohl']\n",
    "print(vegetables)"
   ]
  },
  {
   "cell_type": "markdown",
   "metadata": {
    "id": "H22ClUTKCaUf"
   },
   "source": [
    "### Auf Elemente einer Liste zugreifen"
   ]
  },
  {
   "cell_type": "markdown",
   "metadata": {},
   "source": [
    "Die Elemente einer Liste sind geordnet und indexiert. Geordnet heisst,\n",
    "dass die Liste die Reihenfolge der Elemente so behält, wie sie erstellt\n",
    "wird - zumindest solange die Liste nicht verändert wird. Indexiert\n",
    "heisst, dass jedes Element einer Liste eine Nummer erhält. Allerdings\n",
    "beginnt man mit Null zu zählen. Das bedeutet, dass der `Sellerie` in der\n",
    "Liste `vegetables`den Index `1` hat. \n",
    "\n",
    "Um das zweite Element der Liste auszugeben, muss Python nach dem Element\n",
    "mit dem Index `1` der entsprechenden Liste gefragt werden:"
   ]
  },
  {
   "cell_type": "code",
   "execution_count": 3,
   "metadata": {
    "colab": {
     "base_uri": "https://localhost:8080/"
    },
    "id": "dXTe-503CaUg",
    "outputId": "b7c3a2b6-6b35-4e46-a12d-61f6db0234a0"
   },
   "outputs": [
    {
     "name": "stdout",
     "output_type": "stream",
     "text": [
      "Sellerie\n"
     ]
    }
   ],
   "source": [
    "print(vegetables[1])"
   ]
  },
  {
   "cell_type": "markdown",
   "metadata": {},
   "source": [
    "### List Comprehension"
   ]
  },
  {
   "cell_type": "markdown",
   "metadata": {
    "id": "uSuZZmQvCaUh"
   },
   "source": [
    "Listen können auch mit einer sogenannten *list comprehension* erstellt werden."
   ]
  },
  {
   "cell_type": "code",
   "execution_count": 1,
   "metadata": {
    "colab": {
     "base_uri": "https://localhost:8080/"
    },
    "id": "wmdmWmFVCaUh",
    "outputId": "9bebf33d-2f20-402d-9393-e8ab31b9bb11"
   },
   "outputs": [
    {
     "name": "stdout",
     "output_type": "stream",
     "text": [
      "[1, 2, 3, 4, 5, 6, 7, 8, 9, 10, 11, 12, 13, 14, 15, 16, 17, 18, 19, 20]\n"
     ]
    }
   ],
   "source": [
    "example_numbers = [i for i in range(1,21)]\n",
    "print(example_numbers)"
   ]
  },
  {
   "cell_type": "markdown",
   "metadata": {},
   "source": [
    "Eine *list comprehension* funktioniert ähnlich, wie die Beschreibung\n",
    "einer Menge in \n",
    "der Mathematik ($\\{x \\in \\mathbb{N} \\mid \\color{red} 1 \\geq x > 21\\color{black}\\}$).\n",
    "\n",
    "Der Teil\n",
    "\n",
    "```Python\n",
    "for i in range(1,21)\n",
    "```\n",
    "entspricht dabei der Bedingung (oben rot dargestellt) in der Beschreibung einer Menge. `1` ist\n",
    "der Startwert für den Zähler `i` und 21 die obere Grenze."
   ]
  },
  {
   "cell_type": "markdown",
   "metadata": {},
   "source": [
    "### Über Listen iterieren"
   ]
  },
  {
   "cell_type": "markdown",
   "metadata": {
    "id": "du5b75h7CaUh"
   },
   "source": [
    "Listen sind nützliche Datenstrukturen, weil sie Element für Element durchlaufen werden\n",
    "können. Dabei kann jedes einzelne Element als Parameter einer Funktion\n",
    "übergeben werden.\n",
    "\n",
    "Dies kann mit Hilfe einer `for`-Schleife erfolgen. Als Beispiel werden\n",
    "alle Werte der Liste `example_numbers` quadriert.\n"
   ]
  },
  {
   "cell_type": "code",
   "execution_count": 7,
   "metadata": {},
   "outputs": [
    {
     "name": "stdout",
     "output_type": "stream",
     "text": [
      "1\n",
      "4\n",
      "9\n",
      "16\n",
      "25\n",
      "36\n",
      "49\n",
      "64\n",
      "81\n",
      "100\n",
      "121\n",
      "144\n",
      "169\n",
      "196\n",
      "225\n",
      "256\n",
      "289\n",
      "324\n",
      "361\n",
      "400\n"
     ]
    }
   ],
   "source": [
    "for i in range(20):\n",
    "    print(example_numbers[i] ** 2)"
   ]
  },
  {
   "cell_type": "markdown",
   "metadata": {},
   "source": [
    "Diese Schreibweise erfordert, dass wir wissen, wie lange die zu\n",
    "bearbeitende Liste ist."
   ]
  },
  {
   "cell_type": "markdown",
   "metadata": {},
   "source": [
    "Python stellt eine Vereinfachung zur Verfügung. Dabei wird Element für\n",
    "Element immer der gleichen Variabel zugewiesen. Die gewünschte Operation\n",
    "wird dann mit dieser Variabel durchgeführt. Die entsprechende Syntax\n",
    "zeigt das folgende Beispiel."
   ]
  },
  {
   "cell_type": "code",
   "execution_count": 2,
   "metadata": {
    "colab": {
     "base_uri": "https://localhost:8080/"
    },
    "id": "7HvZzt3HCaUi",
    "outputId": "7b689037-a8da-4449-dd05-ac70f3dc5874",
    "tags": []
   },
   "outputs": [
    {
     "name": "stdout",
     "output_type": "stream",
     "text": [
      "1\n",
      "4\n",
      "9\n",
      "16\n",
      "25\n",
      "36\n",
      "49\n",
      "64\n",
      "81\n",
      "100\n",
      "121\n",
      "144\n",
      "169\n",
      "196\n",
      "225\n",
      "256\n",
      "289\n",
      "324\n",
      "361\n",
      "400\n"
     ]
    }
   ],
   "source": [
    "for example in example_numbers:\n",
    "    print(example ** 2)"
   ]
  },
  {
   "cell_type": "markdown",
   "metadata": {
    "id": "ARyKYoOMCaUi"
   },
   "source": [
    "Es hat sich eingebürgert, für Listen Namen von Variablen im Plural zu\n",
    "wählen. Dann können die einzelnen Elemente im Singular bezeichnet\n",
    "werden. Dies ist jedoch reine Konvention und technisch nicht\n",
    "erforderlich. Um das zu zeigen, findet sich unten ein Beispiel, das sich\n",
    "*nicht* an diese Konvention hält. Dazu wird die Liste `example_numbers` zuerst der Variablen $y$ zugewiesen."
   ]
  },
  {
   "cell_type": "code",
   "execution_count": 3,
   "metadata": {
    "colab": {
     "base_uri": "https://localhost:8080/"
    },
    "id": "giy8ck8mCaUi",
    "outputId": "11860cf3-b520-4f4e-f875-514a2bfcec6e",
    "tags": []
   },
   "outputs": [
    {
     "name": "stdout",
     "output_type": "stream",
     "text": [
      "1\n",
      "4\n",
      "9\n",
      "16\n",
      "25\n",
      "36\n",
      "49\n",
      "64\n",
      "81\n",
      "100\n",
      "121\n",
      "144\n",
      "169\n",
      "196\n",
      "225\n",
      "256\n",
      "289\n",
      "324\n",
      "361\n",
      "400\n"
     ]
    }
   ],
   "source": [
    "y = example_numbers\n",
    "for x in y:\n",
    "    print(x ** 2)"
   ]
  },
  {
   "cell_type": "markdown",
   "metadata": {},
   "source": [
    "### Leere Listen"
   ]
  },
  {
   "cell_type": "markdown",
   "metadata": {
    "id": "RqjFLQHfCaUi"
   },
   "source": [
    "Listen können auch leer sein. Eine leere Liste wird folgendermassen\n",
    "erstellt: "
   ]
  },
  {
   "cell_type": "code",
   "execution_count": null,
   "metadata": {
    "id": "EXLuzi6ZCaUi"
   },
   "outputs": [],
   "source": [
    "leere_liste = []"
   ]
  },
  {
   "cell_type": "markdown",
   "metadata": {},
   "source": [
    "### Listen ergänzen"
   ]
  },
  {
   "cell_type": "markdown",
   "metadata": {
    "id": "oTf-xU25CaUi"
   },
   "source": [
    "Wenn einer bestehenden Liste ein Element angefügt werden soll, stellt\n",
    "Python die Funktion `listenname.append(Element)` zur Verfügung."
   ]
  },
  {
   "cell_type": "code",
   "execution_count": 6,
   "metadata": {
    "colab": {
     "base_uri": "https://localhost:8080/"
    },
    "id": "HXOwZgSkCaUj",
    "outputId": "76d69230-1deb-4ed7-9036-74e0c2f7ea56"
   },
   "outputs": [
    {
     "name": "stdout",
     "output_type": "stream",
     "text": [
      "[2, 5, 1]\n",
      "[2, 5, 1, 7]\n"
     ]
    }
   ],
   "source": [
    "ein_paar_elemente = [2, 5, 1]\n",
    "print(ein_paar_elemente)\n",
    "ein_paar_elemente.append(7)\n",
    "print(ein_paar_elemente)"
   ]
  },
  {
   "cell_type": "markdown",
   "metadata": {},
   "source": [
    "## Anwendung"
   ]
  },
  {
   "cell_type": "markdown",
   "metadata": {},
   "source": [
    "### Erstellen einer Liste aus ihren Elementen"
   ]
  },
  {
   "cell_type": "markdown",
   "metadata": {
    "id": "pzxvOUm2CaUj"
   },
   "source": [
    "Als nächstes nehmen Sie die gemessenen Grössen in der Klasse in eine\n",
    "Liste `measurements` auf. Die entsprechenden Werte finden Sie im File\n",
    "[Koerpergroessen.CSV](Koerpergroessen.CSV). Berücksichtigen Sie dabei,\n",
    "dass nicht alle vorhandenen Daten in der richtigen Form vorliegen."
   ]
  },
  {
   "cell_type": "code",
   "execution_count": 7,
   "metadata": {
    "id": "3QAU5RjkCaUj"
   },
   "outputs": [],
   "source": [
    "measurements = [179, 160, 167, 180, 169, 175, 177, 182, 161, 166, \n",
    "                177, 179, 178, 172, 170, 164, 155, 171, 173, 161, \n",
    "                185, 158, 169, 172, 170, 175]"
   ]
  },
  {
   "cell_type": "markdown",
   "metadata": {},
   "source": [
    "### Einteilung der Daten in Intervalle"
   ]
  },
  {
   "cell_type": "markdown",
   "metadata": {
    "id": "SQsjq584CaUk"
   },
   "source": [
    "Damit aus der Liste der Körpergrössen ein Histogramm gezeichnet werden\n",
    "kann, müssen die Körpergrössen in Intervalle (engl. bin) eingeteilt werden\n",
    "und die Elemente einer Klasse gezählt werden.\n",
    "\n",
    "Für das vorliegende Histogramm sollen die Körpergrössen in Intervalle\n",
    "mit 5cm Abstand eingeteilt werden. Das heisst, ein Intervall sind zum\n",
    "Beispiel alle Werte von 160cm bis 164cm.\n",
    "\n",
    "Als Beispiel sehen Sie in der folgenden Zelle eine Schleife, die einmal über alle\n",
    "Grössen iteriert und dabei zählt, wie viele Werte zwischen 160cm bis 164cm liegen."
   ]
  },
  {
   "cell_type": "code",
   "execution_count": 14,
   "metadata": {
    "colab": {
     "base_uri": "https://localhost:8080/"
    },
    "id": "CmFdn-GeCaUk",
    "outputId": "615f1359-9d1e-4eb3-cba9-d48cd76568e6"
   },
   "outputs": [
    {
     "name": "stdout",
     "output_type": "stream",
     "text": [
      "4\n"
     ]
    }
   ],
   "source": [
    "bin_160_bis_164 = 0\n",
    "for measure in measurements:\n",
    "    if measure >= 160 and measure < 165:\n",
    "        bin_160_bis_164 += 1\n",
    "\n",
    "print(bin_160_bis_164)"
   ]
  },
  {
   "cell_type": "markdown",
   "metadata": {},
   "source": [
    "### `if`-Statement"
   ]
  },
  {
   "cell_type": "markdown",
   "metadata": {
    "id": "u7gOGj9pCaUk"
   },
   "source": [
    "Dieses Code Snippet führt eine Bedingung ein.\n",
    "Bedingungen oder\n",
    "sogenannte `if`-Statements stellen sicher, dass bestimmter Code nur\n",
    "ausgeführt wird, wenn die Bedingung, die geprüft wird, eingehalten wird. Im\n",
    "Beispiel werden zwei Bedingungen geprüft, die kumulativ erfüllt sein\n",
    "müssen (erste Bedinung `measure >= 160`, zweite Bedingung\n",
    "`measure < 165`). Das heisst, wenn beide Bedingungen erfüllt sind, wird\n",
    "`bin_160_bis_164 += 1` ausgeführt. Dies ist eine Kurzschreibweise für\n",
    "`bin_160_bis_164 = bin_160_bis_164 + 1`. Es wird also jedesmal, wenn die Bedingung erfüllt ist, `bin_160_bis_164` um 1 hochgezählt.\n",
    "\n",
    "Damit dies für alle 5-cm-Klassen in der Liste verallgemeinert werden kann, muss der kleinste und der grösste Wert der Liste bekannt sein.\n",
    "\n",
    "Das Minimum einer Liste kann folgendermassen ermittelt werden:"
   ]
  },
  {
   "cell_type": "code",
   "execution_count": 15,
   "metadata": {
    "colab": {
     "base_uri": "https://localhost:8080/"
    },
    "id": "7lT0kRtSCaUl",
    "outputId": "4e6920a5-04fa-4a4f-d4cf-fd9814e3fd0f"
   },
   "outputs": [
    {
     "name": "stdout",
     "output_type": "stream",
     "text": [
      "155\n"
     ]
    }
   ],
   "source": [
    "def get_minimum(input : list[int]) -> int:\n",
    "    minimum = input[0]\n",
    "\n",
    "    for value in input:\n",
    "        if value < minimum:\n",
    "            minimum = value\n",
    "\n",
    "    return minimum\n",
    "\n",
    "print(get_minimum(measurements))"
   ]
  },
  {
   "cell_type": "markdown",
   "metadata": {
    "id": "KXNtNqSECaUl"
   },
   "source": [
    "Schreiben Sie eine vergleichbare Funktion, die das Maximum einer Liste ausgibt."
   ]
  },
  {
   "cell_type": "code",
   "execution_count": 16,
   "metadata": {
    "colab": {
     "base_uri": "https://localhost:8080/"
    },
    "id": "mkZ4OewdCaUl",
    "outputId": "f6748a57-f32b-4f80-db81-456a62daed91"
   },
   "outputs": [
    {
     "name": "stdout",
     "output_type": "stream",
     "text": [
      "185\n"
     ]
    }
   ],
   "source": [
    "def get_maximum(input : list[int]) -> int:\n",
    "    maximum = input[0]\n",
    "\n",
    "    for value in input:\n",
    "        if value > maximum:\n",
    "            maximum = value\n",
    "\n",
    "    return maximum\n",
    "print(get_maximum(measurements))"
   ]
  },
  {
   "cell_type": "markdown",
   "metadata": {},
   "source": [
    "### Vertiefung `if`-Statements"
   ]
  },
  {
   "cell_type": "markdown",
   "metadata": {
    "id": "vjnFZulgCaUl"
   },
   "source": [
    "Um die Möglichkeiten, welche `if`-Statements bieten, noch etwas weiter zu\n",
    "illustrieren, finden Sie in der nächsten Zelle eine Schleife, welche\n",
    "gerade Zahlen quadriert und ungerade mit drei potenziert. Falls statt\n",
    "einer Zahl ein anderer Datentyp auftaucht, wird der String `unzulässiger\n",
    "Input` in die Liste der Resultate eingetragen."
   ]
  },
  {
   "cell_type": "code",
   "execution_count": 17,
   "metadata": {
    "colab": {
     "base_uri": "https://localhost:8080/"
    },
    "id": "Ou2wd3EmCaUl",
    "outputId": "c053af96-f526-4f73-ed8d-7bef423ad5f8"
   },
   "outputs": [
    {
     "name": "stdout",
     "output_type": "stream",
     "text": [
      "[1, 4, 27, 16, 125, 'unzulässiger Input', 343, 64, 729]\n"
     ]
    }
   ],
   "source": [
    "demo_list = [1, 2, 3, 4, 5, 'hallo', 7, 8, 9]\n",
    "\n",
    "def if_demo(numbers : list[int]) -> list[int]:\n",
    "    results = []\n",
    "    for number in numbers:\n",
    "        if type(number) != int:\n",
    "            results.append('unzulässiger Input')\n",
    "        elif number % 2 == 0:\n",
    "            results.append(number ** 2)\n",
    "        else:\n",
    "            results.append(number ** 3)\n",
    "    return results\n",
    "\n",
    "print(if_demo(demo_list))"
   ]
  },
  {
   "cell_type": "markdown",
   "metadata": {},
   "source": [
    "Das Beispiel `if_demo()` sieht als Flussdiagramm dargestellt folgendermassen aus:\n"
   ]
  },
  {
   "cell_type": "markdown",
   "metadata": {},
   "source": [
    "<img src=\"data:image/png;base64,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>"
   ]
  },
  {
   "cell_type": "markdown",
   "metadata": {},
   "source": [
    "Als Struktogramm sieht das Beispiel `if-demo()` folgendermassen aus:"
   ]
  },
  {
   "cell_type": "markdown",
   "metadata": {},
   "source": [
    "![`if-demo()` als Struktogramm](struktogram.png)"
   ]
  },
  {
   "cell_type": "markdown",
   "metadata": {
    "id": "b2zVJWYqCaUm"
   },
   "source": [
    "In diesem Beispiel bedeutet `!=` **nicht**. Es wird\n",
    "geprüft, ob `number` vom Typ `int` ist, wenn dies nicht der Fall ist, wird\n",
    "in der Resultatliste `unzulässiger Input` eingetragen. Mit `elif` wird\n",
    "eine zweite Bedingung geprüft. Im Beispiel ob die Zahl ohne Rest durch 2\n",
    "teilbar ist (`number % 2 == 0`). Damit Python zwischen einem Vergleich\n",
    "und einer Zuweisung unterscheiden kann, wird bei Vergleichen ein\n",
    "doppeltes Gleichheitszeichen verwendet. Falls keine der beiden geprüften\n",
    "Bedingungen erfüllt ist, wird mit `else` angezeigt, was mit dem Rest der\n",
    "Fälle zu geschehen habe.\n",
    "\n",
    "Aus den obigen Beispielen geht implizit hervor, dass sowohl `elif` wie\n",
    "auch `else` optional sind. Mit `elif` werden die Bedinungen $2, 3, ...,\n",
    "n$ eingefügt. Weil mit `else` das *default* verhalten festgelegt wird,\n",
    "kann `else` nur einmal vorkommen."
   ]
  },
  {
   "cell_type": "markdown",
   "metadata": {},
   "source": [
    "### Systemeigene Python Funktion `min()` und `max()`"
   ]
  },
  {
   "cell_type": "markdown",
   "metadata": {},
   "source": [
    "Dass das Minimum oder das Maximum aus einer Liste mit Werten gesucht wird, ist relativ häufig.\n",
    "Python stellt daher eine systemeigene Funktion `min()` und `max()` zur Verfügung, welche das Miniumum bzw. das Maximum einer Liste ausgeben. Trotzdem war das eine gute Fingerübung, um sich mit der\n",
    "Funktion von Bedingungen vertraut zu machen."
   ]
  },
  {
   "cell_type": "markdown",
   "metadata": {},
   "source": [
    "### Zählen der Werte für die einzelnen Klassen"
   ]
  },
  {
   "cell_type": "markdown",
   "metadata": {
    "id": "yVGoAacnCaUm"
   },
   "source": [
    "Nun sollten Sie in der Lage sein, den Beispiel-Code für die Grössen\n",
    "zwischen 160cm und 164cm zu verallgemeinern, so dass die\n",
    "ganze Liste der Körpergrössen in 5cm Bins \"abgefüllt\" wird.\n",
    "\n",
    "Hinweis: Die einzelnen Bins sind ihrerseits Elemente einer Liste."
   ]
  },
  {
   "cell_type": "code",
   "execution_count": 18,
   "metadata": {
    "colab": {
     "base_uri": "https://localhost:8080/"
    },
    "id": "BUl3NIpfCaUm",
    "outputId": "570a23a7-c044-420f-adaf-c81cc4fd742b"
   },
   "outputs": [
    {
     "name": "stdout",
     "output_type": "stream",
     "text": [
      "[2, 4, 4, 6, 7, 2, 1]\n"
     ]
    }
   ],
   "source": [
    "def measure_to_bin(measurements : list[int]) -> list[float]:\n",
    "    bins = []\n",
    "    total = len(measurements)\n",
    "    lower_end = min(measurements) // 5 * 5\n",
    "    upper_end = max(measurements) // 5 * 5 + 5\n",
    "    counter = 0\n",
    "\n",
    "    for i in range(lower_end, upper_end, 5):\n",
    "        for measure in measurements:\n",
    "            if measure >= i and measure < i + 5:\n",
    "                counter += 1\n",
    "        bins.append(counter)\n",
    "        counter = 0\n",
    "\n",
    "    return bins\n",
    "\n",
    "zahlen = measure_to_bin(measurements)\n",
    "\n",
    "print(measure_to_bin(measurements))"
   ]
  },
  {
   "cell_type": "markdown",
   "metadata": {},
   "source": [
    "## Visualisierung"
   ]
  },
  {
   "cell_type": "markdown",
   "metadata": {},
   "source": [
    "Die so gruppierten Werte können nun visualisiert werden. Dazu braucht es\n",
    "eine Funktion, welche eine Liste als Parameter entgegennimmt und eine\n",
    "Liste mit Grafiken (Rechtecken mit der entsprechenden Länge) zurückgibt."
   ]
  },
  {
   "cell_type": "markdown",
   "metadata": {},
   "source": [
    "### Histogramm mit PyTamaro"
   ]
  },
  {
   "cell_type": "markdown",
   "metadata": {
    "id": "v9YhiXgJCaUm"
   },
   "source": [
    "Die dafür nötigen PyTamaro Funktionen werden in der folgenden Zelle importiert."
   ]
  },
  {
   "cell_type": "code",
   "execution_count": 19,
   "metadata": {
    "id": "pYsOKGdvCaUm"
   },
   "outputs": [],
   "source": [
    "from pytamaro.de import (rechteck, text, Grafik,\n",
    "                         blau, schwarz, transparent, rgb_farbe,\n",
    "                         fixiere, kombiniere, drehe, ueber, ueberlagere, neben,\n",
    "                         unten_links, unten_rechts, oben_rechts, oben_links,\n",
    "                         mitte_rechts, mitte_links, oben_mitte, unten_mitte,\n",
    "                         zeige_grafik)"
   ]
  },
  {
   "cell_type": "markdown",
   "metadata": {
    "id": "tNL7GwNZv1Bw"
   },
   "source": [
    "Mit Hilfe von PyTamaro kann nun eine Funktion geschrieben werden, die\n",
    "Säulen mit fixer Breite und variabler Höhe in einer Liste ausgeben."
   ]
  },
  {
   "cell_type": "code",
   "execution_count": 20,
   "metadata": {
    "id": "spCNyueYCaUm"
   },
   "outputs": [],
   "source": [
    "def create_pillars(heights : list[float]) -> list[Grafik]:\n",
    "    fill_color = rgb_farbe(50, 255, 255)\n",
    "    width = 10\n",
    "    pillars = []\n",
    "\n",
    "    for height in heights:\n",
    "        contour = rechteck(width, height, schwarz)\n",
    "        if height > 2:\n",
    "            fill = rechteck(width - 2, height - 2, fill_color)\n",
    "            pillar = ueberlagere(fill, contour)\n",
    "        else:\n",
    "            pillar = contour\n",
    "        pillars.append(pillar)\n",
    "\n",
    "    return pillars\n",
    "\n",
    "saeulen = create_pillars(zahlen)"
   ]
  },
  {
   "cell_type": "markdown",
   "metadata": {
    "id": "zf0pnOXcCaUm"
   },
   "source": [
    "Abschliessend müssen die Säulen noch nebeneinander angeordnet werden.\n",
    "Dazu werden die Funktionen `fixiere()` und `kombiniere()` verwendet."
   ]
  },
  {
   "cell_type": "code",
   "execution_count": 21,
   "metadata": {
    "colab": {
     "base_uri": "https://localhost:8080/",
     "height": 34
    },
    "id": "HpyypIAACaUn",
    "outputId": "1237c06b-29f7-43d1-9755-f7849d66bb8d"
   },
   "outputs": [
    {
     "data": {
      "image/png": "[encoded data removed]",
      "text/plain": [
       "<PIL.PngImagePlugin.PngImageFile image mode=RGBA size=70x7>"
      ]
     },
     "metadata": {},
     "output_type": "display_data"
    }
   ],
   "source": [
    "def draw_histogram(pillars : list[Grafik]) -> Grafik:\n",
    "    histogram = fixiere(unten_rechts, pillars[0])\n",
    "\n",
    "    for i in range(1, len(pillars)):\n",
    "        histogram = kombiniere(histogram, fixiere(unten_links, pillars[i]))\n",
    "        histogram = fixiere(unten_rechts, histogram)\n",
    "\n",
    "    return(histogram)\n",
    "\n",
    "resultat = draw_histogram(saeulen)\n",
    "zeige_grafik(resultat)"
   ]
  },
  {
   "cell_type": "markdown",
   "metadata": {},
   "source": [
    "### Skalierung"
   ]
  },
  {
   "cell_type": "markdown",
   "metadata": {
    "id": "8aKSDA1SZaj2"
   },
   "source": [
    "Das Histogramm mit den absoluten, unbearbeiteten Zahlen ist etwas flach.\n",
    "Entsprechend muss die Darstellung skaliert werden. Eine Lösung könnte\n",
    "die Überhöhung der Werte sein. "
   ]
  },
  {
   "cell_type": "code",
   "execution_count": 22,
   "metadata": {
    "colab": {
     "base_uri": "https://localhost:8080/",
     "height": 87
    },
    "id": "DeTl2JRuZ4Ot",
    "outputId": "313f1304-d653-46ab-8b97-68ca71ba4c52"
   },
   "outputs": [
    {
     "data": {
      "image/png": "[encoded data removed]",
      "text/plain": [
       "<PIL.PngImagePlugin.PngImageFile image mode=RGBA size=70x70>"
      ]
     },
     "metadata": {},
     "output_type": "display_data"
    }
   ],
   "source": [
    "zahlen_ueberhoeht = [zahl * 10 for zahl in zahlen]\n",
    "ueberhoehte_saeulen = create_pillars(zahlen_ueberhoeht)\n",
    "histogram_ueberhoeht = draw_histogram(ueberhoehte_saeulen)\n",
    "\n",
    "zeige_grafik(histogram_ueberhoeht)"
   ]
  },
  {
   "cell_type": "markdown",
   "metadata": {
    "id": "sHSiHTN1a3Xh"
   },
   "source": [
    "Eine andere Variante ist die Arbeit mit relativen Werten. Die Zahlen in\n",
    "den einzelnen Klassen werden in Prozenten ausgedrückt. Die Prozentwerte\n",
    "werden dann als Histogramm dargestellt. Dies bietet den zusätzlichen Vorteil, dass\n",
    "verschiedene Samples besser miteinander verglichen werden können."
   ]
  },
  {
   "cell_type": "code",
   "execution_count": 23,
   "metadata": {
    "colab": {
     "base_uri": "https://localhost:8080/",
     "height": 44
    },
    "id": "D3zQvvH4bnBP",
    "outputId": "b9b444b7-91f8-4b39-aae1-c716ddeda735"
   },
   "outputs": [
    {
     "data": {
      "image/png": "[encoded data removed]",
      "text/plain": [
       "<PIL.PngImagePlugin.PngImageFile image mode=RGBA size=70x27>"
      ]
     },
     "metadata": {},
     "output_type": "display_data"
    }
   ],
   "source": [
    "zahlen_relativ = [zahl / sum(zahlen) * 100 for zahl in zahlen]\n",
    "relative_saeulen = create_pillars(zahlen_relativ)\n",
    "histogram_relativ = draw_histogram(relative_saeulen)\n",
    "\n",
    "zeige_grafik(histogram_relativ)"
   ]
  },
  {
   "cell_type": "markdown",
   "metadata": {
    "id": "CAeVUQmvcgBQ"
   },
   "source": [
    "Das ganze ist immer noch etwas klein. In einem nächsten Schritt kann\n",
    "auch dieses Resultat noch skaliert werden."
   ]
  },
  {
   "cell_type": "code",
   "execution_count": 24,
   "metadata": {},
   "outputs": [
    {
     "data": {
      "image/png": "[encoded data removed]",
      "text/plain": [
       "<PIL.PngImagePlugin.PngImageFile image mode=RGBA size=70x54>"
      ]
     },
     "metadata": {},
     "output_type": "display_data"
    }
   ],
   "source": [
    "zahlen_relativ_ueberhoeht = [zahl / sum(zahlen) * 100 * 2 for zahl in zahlen]\n",
    "ueberhoehte_relative_saeulen = create_pillars(zahlen_relativ_ueberhoeht)\n",
    "histogram_relativ_ueberhoeht = draw_histogram(ueberhoehte_relative_saeulen)\n",
    "\n",
    "zeige_grafik(histogram_relativ_ueberhoeht)"
   ]
  },
  {
   "cell_type": "markdown",
   "metadata": {},
   "source": [
    "### Abschluss"
   ]
  },
  {
   "cell_type": "markdown",
   "metadata": {
    "id": "MVXcLNP8CaUn"
   },
   "source": [
    "Damit das Erstellen eines Histogramms für den Nutzer etwas komfortabler\n",
    "möglich ist, sollen nun die einzelnen Funktionen so kombiniert werden,\n",
    "dass einer Funktion eine Liste mit Werten übergeben werden kann und\n",
    "diese dann ein Histogramm zurückgibt."
   ]
  },
  {
   "cell_type": "code",
   "execution_count": 25,
   "metadata": {
    "id": "1gbTKopRCaUo"
   },
   "outputs": [],
   "source": [
    "def get_histogram(values : list[float]) -> Grafik:\n",
    "    bins = measure_to_bin(values)\n",
    "    relative_hights = relativierung_mit_ueberhoehung(bins)\n",
    "    pillars = create_pillars(relative_hights)\n",
    "    histogram = draw_histogram(pillars)\n",
    "    \n",
    "    return histogram\n",
    "\n",
    "\n",
    "def measure_to_bins(measurements : list[int]) -> list[float]:\n",
    "    bins = []\n",
    "    total = len(measurements)\n",
    "    lower_end = min(measurements) // 5 * 5\n",
    "    upper_end = max(measurements) // 5 * 5 + 5\n",
    "    counter = 0\n",
    "\n",
    "    for i in range(lower_end, upper_end, 5):\n",
    "        for measure in measurements:\n",
    "            if measure >= i and measure < i + 5:\n",
    "                counter += 1\n",
    "        bins.append(counter)\n",
    "        counter = 0\n",
    "\n",
    "    return bins\n",
    "\n",
    "def relativierung_mit_ueberhoehung(bins : list[int]) -> list[float]:\n",
    "    return[bin / sum(bins) * 100 * 2 for bin in bins]\n",
    "\n",
    "def create_pillars(heights : list[float]) -> list[Grafik]:\n",
    "    fill_color = rgb_farbe(50, 255, 255)\n",
    "    width = 10\n",
    "    pillars = []\n",
    "\n",
    "    for height in heights:\n",
    "        contour = rechteck(width, height, schwarz)\n",
    "        if height > 2:\n",
    "            fill = rechteck(width - 2, height - 2, fill_color)\n",
    "            pillar = ueberlagere(fill, contour)\n",
    "        else:\n",
    "            pillar = contour\n",
    "        pillars.append(pillar)\n",
    "\n",
    "    return pillars\n",
    "\n",
    "def draw_histogram(pillars : list[Grafik]) -> Grafik:\n",
    "    histogram = fixiere(unten_rechts, pillars[0])\n",
    "\n",
    "    for i in range(1, len(pillars)):\n",
    "        histogram = kombiniere(histogram, fixiere(unten_links, pillars[i]))\n",
    "        histogram = fixiere(unten_rechts, histogram)\n",
    "\n",
    "    return(histogram)"
   ]
  },
  {
   "cell_type": "code",
   "execution_count": 26,
   "metadata": {},
   "outputs": [
    {
     "data": {
      "image/png": "[encoded data removed]",
      "text/plain": [
       "<PIL.PngImagePlugin.PngImageFile image mode=RGBA size=70x54>"
      ]
     },
     "metadata": {},
     "output_type": "display_data"
    }
   ],
   "source": [
    "zeige_grafik(get_histogram(measurements))"
   ]
  },
  {
   "cell_type": "markdown",
   "metadata": {},
   "source": [
    "## Ausblick auf weitere Arten der Datenvisualisierung"
   ]
  },
  {
   "cell_type": "markdown",
   "metadata": {},
   "source": [
    "Weitere Formen der Datenvisualisierung werden im Lehrmittel *Informatik -\n",
    "Data Science und Sicherheit: Grundlagen der Informatik für Schweizer\n",
    "Maturitätsschulen*, Michael Barot et al., 1. Auflage Aufl., Baar 2022, im\n",
    "Kapitel 6, *Aus Daten lernen*, dargestellt. Wertvolle Anregungen finden\n",
    "sich insbesondere auch auf der Website des\n",
    "[Data Viz Project](https://datavizproject.com/),\n",
    "wo aufgezeigt wird, welche Form der Darstellung sich für welche Art von\n",
    "Daten eignet."
   ]
  },
  {
   "cell_type": "markdown",
   "metadata": {},
   "source": [
    "Die Aufbereitung von datenlastigen Inhalten kann in Jupyter\n",
    "Notebooks erfolgen. Dafür ist es nicht nötig, die Visualisierung von\n",
    "Grund auf selber zu programmieren. In Pyhton stehen dafür Libraries wie\n",
    "[pandas](https://pandas.pydata.org/)\n",
    "oder\n",
    "[matplotlib](https://matplotlib.org/)\n",
    "zur Verfügung."
   ]
  }
 ],
 "metadata": {
  "colab": {
   "include_colab_link": true,
   "provenance": [],
   "toc_visible": true
  },
  "kernelspec": {
   "display_name": "Python 3 (ipykernel)",
   "language": "python",
   "name": "python3"
  },
  "language_info": {
   "codemirror_mode": {
    "name": "ipython",
    "version": 3
   },
   "file_extension": ".py",
   "mimetype": "text/x-python",
   "name": "python",
   "nbconvert_exporter": "python",
   "pygments_lexer": "ipython3",
   "version": "3.11.6"
  }
 },
 "nbformat": 4,
 "nbformat_minor": 4
}

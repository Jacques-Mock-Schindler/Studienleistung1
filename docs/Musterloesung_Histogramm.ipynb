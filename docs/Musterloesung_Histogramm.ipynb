{
 "cells": [
  {
   "cell_type": "markdown",
   "metadata": {
    "colab_type": "text",
    "id": "view-in-github"
   },
   "source": [
    "<a href=\"https://colab.research.google.com/github/Jacques-Mock-Schindler/Studienleistung1/blob/musterloesung/docs/Musterloesung_Histogramm.ipynb\" target=\"_parent\"><img src=\"https://colab.research.google.com/assets/colab-badge.svg\" alt=\"Open In Colab\"/></a>"
   ]
  },
  {
   "cell_type": "markdown",
   "metadata": {
    "id": "F5iNpl3ZCaUZ"
   },
   "source": [
    "# Histogramme zeichnen mit PyTamaro"
   ]
  },
  {
   "cell_type": "markdown",
   "metadata": {},
   "source": [
    "In einem Histogramm wird die Verteilung der Häufigkeit von Werten\n",
    "dargestellt. So kann zum Beispiel die Prüfungsleistung einer Schulklasse\n",
    "in einem Histogramm dargestellt werden. Dabei wird gezählt, wie viele\n",
    "Schülerinnen und Schüler eine Note zwischen 1 und 1.9, 2 und 2.9, ... , 5\n",
    "und 6 erreicht haben. Für die grafische Darstellung werden dann\n",
    "Rechtecke mit einer fixen Breite und einer Höhe, die proportional zur\n",
    "Anzahl der jeweiligen Leistungen ist, gezeichnet. Diese Rechtecke werden dann\n",
    "nach der Leistung sortiert nebeneinander dargestellt.\n",
    "\n",
    "Die Darstellung kann variert werden, in dem die Gruppierung der Werte\n",
    "verändert wird (anstatt die Anzahl der Noten zwischen 4 und 5, die\n",
    "Anzahl der Noten zwischen 4.1 und 4.5 sowie 4.6 und 5).\n",
    "\n",
    "Für die Darstellung der Häufigkeit bestimmter Werte kann sowohl auf\n",
    "deren Anzahl als auch auf deren prozentualen Anteil an allen Werten\n",
    "abgestellt werden.\n",
    "\n",
    "Die folgende Grafik ist ein Beispiel für ein Histogramm, welches die\n",
    "Verteilung der Noten in einer Prüfung des obligatorischen Fachs\n",
    "Informatik darstellt."
   ]
  },
  {
   "cell_type": "markdown",
   "metadata": {},
   "source": [
    "![Beispiel Histogramm (Notenverteilung einer Schulklasse im OFI)](../visualisierung/histogram_example.png)"
   ]
  },
  {
   "cell_type": "markdown",
   "metadata": {
    "id": "rWRptfRnCaUc"
   },
   "source": [
    "In der folgenden Übung zeichnen Sie mit Hilfe von PyTamarao ein Histogramm mit der Verteilung der\n",
    "Körpergrössen der Schülerinnen und Schüler in Ihrer Klasse."
   ]
  },
  {
   "cell_type": "markdown",
   "metadata": {
    "id": "TmSfAVOLCaUc"
   },
   "source": [
    "Die folgende Zelle dient dem Laden von PyTamaro in Google Colaboratory\n",
    "(diese Zelle muss nur ausgeführt werden, wenn in Google Colaboratory\n",
    "gearbeitet wird):"
   ]
  },
  {
   "cell_type": "code",
   "execution_count": null,
   "metadata": {
    "colab": {
     "base_uri": "https://localhost:8080/"
    },
    "id": "SkyMq9ziCaUd",
    "outputId": "af09e9d8-fb9c-4455-ce2d-d7e7a64c75aa"
   },
   "outputs": [],
   "source": [
    "! pip install pytamaro"
   ]
  },
  {
   "cell_type": "markdown",
   "metadata": {
    "id": "kDugg1LDCaUe"
   },
   "source": [
    "## Listen in Python (Einführung)"
   ]
  },
  {
   "cell_type": "markdown",
   "metadata": {},
   "source": [
    "Damit die\n",
    "Körpergrössen in Python sinnvoll verarbeitet werden können, brauchen wir\n",
    "die Datenstruktur *Liste*.\n",
    "\n",
    "In Python können Listen dazu verwendet werden, einer Variabel mehrere Werte\n",
    "zuzuweisen. Die Werte behalten dabei grundsätzlich ihre ursprüngliche\n",
    "Reihenfolge bei.\n",
    "Listen werden nach der Art Ihrer Elemente benannt. Wenn eine Liste von\n",
    "Namen erstellt wird, wird sie beispielsweise der Variablen `names`\n",
    "zugewiesen. Die Variable wird als Kennzeichen dafür, dass sie auf eine\n",
    "Liste verweist, in den Plural gesetzt.  "
   ]
  },
  {
   "cell_type": "markdown",
   "metadata": {},
   "source": [
    ">### Hintergrund der Datenstruktur Liste in Python (Exkurs)\n",
    ">\n",
    ">Im Verlauf der Entwicklung haben sich für die Ablage einer Datenreihe\n",
    ">die Datenstrukturen Liste und Array herausgebildet. Die beiden\n",
    ">Datenstrukturen weisen Ähnlichkeiten auf, unterscheiden sich aber auch\n",
    ">in wesentlichen Punkten. Ähnlich sind sie sich darin, dass sie die\n",
    ">Daten in einer vorgegebenen Reihenfolge speichern.  \n",
    ">Unterschiede bestehen bezüglich der Anzahl Elemente, die sie aufnehmen\n",
    ">können, sowie bezüglich des Zugriffs auf die einzelnen Elemente.\n",
    ">Eine Liste kann grundsätzlich eine unbeschränkte Anzahl von Elementen\n",
    ">aufnehmen. Begrenzt ist ihre Länge lediglich durch den physischen\n",
    ">Speicherplatz des Computers. Im Gegensatz dazu muss bei einem Array\n",
    ">grundsätzlich von Anfang an festgelegt werden, wie viele\n",
    ">Elemente es aufnehmen kann.  \n",
    ">Wenn auf ein Element einer Liste zugegriffen werden soll, muss in einer\n",
    ">Liste am Beginn der Liste gestartet werden und dann Element für Element\n",
    ">durch die Liste durchgegangen werden, bis man beim gewünschten Element\n",
    ">angekommen ist. In einem Array ist der direkte Zugriff auf jedes\n",
    ">Element möglich.\n",
    ">\n",
    ">Die Datenstruktur der Liste in Python verbindet aus der Sicht des\n",
    ">Programms die Eigenschaften von Listen und Arrays. Eine Liste in Python\n",
    ">kann jederzeit zusätzliche Elemente aufnehmen oder nicht mehr benötigte\n",
    ">Elemente können gelöscht werden. Trotzdem kann mit Hilfe eines Index'\n",
    ">direkt auf jeden Wert zugegriffen werden. Aus technischer Sicht handelt\n",
    ">es sich daher bei Listen in Python nicht um Listen im allgemeinen Sinn\n",
    ">der Informatik, sondern um dynamische Arrays.\n",
    ">\n",
    ">Für eine vertiefte Auseinandersetzung mit dem Thema sei auf das\n",
    ">Lehrmittel Hromkovic Juraj, Gallenbacher Jens, Komm Dennis, Lacher\n",
    ">Regula und Pierhöfer Harald; Informatik - >Algorithmen und Künstliche\n",
    ">Intelligenz: Grundlagen der Informatik für Schweizer Maturitätsschulen;\n",
    ">Baar: Klett und Balmer, 2022; Kapitel 1 Ordnung und Suche, Abschnitt\n",
    ">*Datenablage im Speicher mit Datenstrukturen - Arrays und Listen*;\n",
    ">Seiten 14 - 23, verwiesen.\n"
   ]
  },
  {
   "cell_type": "markdown",
   "metadata": {},
   "source": [
    "### Listen erstellen"
   ]
  },
  {
   "cell_type": "markdown",
   "metadata": {},
   "source": [
    "Am einfachsten werden Listen durch die Eingabe von konkreten Werten des\n",
    "betrachteten Datentypen erstellt. Dazu werden die\n",
    "Werte der Liste durch Kommas getrennt in eckigen Klammern geschrieben:"
   ]
  },
  {
   "cell_type": "code",
   "execution_count": 2,
   "metadata": {
    "colab": {
     "base_uri": "https://localhost:8080/"
    },
    "id": "-JopSBpPCaUe",
    "outputId": "57a57691-ed5d-4552-f4ff-91e50ec9b7c9"
   },
   "outputs": [
    {
     "name": "stdout",
     "output_type": "stream",
     "text": [
      "[1, 8, 3]\n",
      "['Spinat', 'Sellerie', 'Blumenkohl']\n"
     ]
    }
   ],
   "source": [
    "numbers = [1, 8, 3]\n",
    "print(numbers)\n",
    "vegetables = ['Spinat', 'Sellerie', 'Blumenkohl']\n",
    "print(vegetables)"
   ]
  },
  {
   "cell_type": "markdown",
   "metadata": {
    "id": "H22ClUTKCaUf"
   },
   "source": [
    "### Auf Elemente einer Liste zugreifen"
   ]
  },
  {
   "cell_type": "markdown",
   "metadata": {},
   "source": [
    "Die Elemente einer Liste sind geordnet und indexiert. Geordnet heisst,\n",
    "dass die Liste die Reihenfolge der Elemente so behält, wie sie erstellt\n",
    "wird - zumindest solange die Liste nicht verändert wird. Indexiert\n",
    "heisst, dass jedes Element einer Liste eine Nummer erhält. Allerdings\n",
    "beginnt man mit Null zu zählen. Das bedeutet, dass der `Sellerie` in der\n",
    "Liste `vegetables` den Index `1` hat. \n",
    "\n",
    "Um das zweite Element der Liste auszugeben, muss Python nach dem Element\n",
    "mit dem Index `1` der entsprechenden Liste gefragt werden:"
   ]
  },
  {
   "cell_type": "code",
   "execution_count": 3,
   "metadata": {
    "colab": {
     "base_uri": "https://localhost:8080/"
    },
    "id": "dXTe-503CaUg",
    "outputId": "b7c3a2b6-6b35-4e46-a12d-61f6db0234a0"
   },
   "outputs": [
    {
     "name": "stdout",
     "output_type": "stream",
     "text": [
      "Sellerie\n"
     ]
    }
   ],
   "source": [
    "print(vegetables[1])"
   ]
  },
  {
   "cell_type": "markdown",
   "metadata": {},
   "source": [
    "### List Comprehension"
   ]
  },
  {
   "cell_type": "markdown",
   "metadata": {
    "id": "uSuZZmQvCaUh"
   },
   "source": [
    "Listen können auch mit einer sogenannten *list comprehension* erstellt werden."
   ]
  },
  {
   "cell_type": "code",
   "execution_count": 1,
   "metadata": {
    "colab": {
     "base_uri": "https://localhost:8080/"
    },
    "id": "wmdmWmFVCaUh",
    "outputId": "9bebf33d-2f20-402d-9393-e8ab31b9bb11"
   },
   "outputs": [
    {
     "name": "stdout",
     "output_type": "stream",
     "text": [
      "[1, 2, 3, 4, 5, 6, 7, 8, 9, 10, 11, 12, 13, 14, 15, 16, 17, 18, 19, 20]\n"
     ]
    }
   ],
   "source": [
    "example_numbers = [i for i in range(1,21)]\n",
    "print(example_numbers)"
   ]
  },
  {
   "cell_type": "markdown",
   "metadata": {},
   "source": [
    "Eine *list comprehension* funktioniert ähnlich, wie die Beschreibung\n",
    "einer Menge in \n",
    "der Mathematik ($\\{x \\in \\mathbb{N} \\mid \\color{red} 1 \\geq x > 21\\color{black}\\}$).\n",
    "\n",
    "Der Teil\n",
    "\n",
    "```Python\n",
    "for i in range(1,21)\n",
    "```\n",
    "entspricht dabei der Bedingung (oben rot dargestellt) in der Beschreibung einer Menge. `1` ist\n",
    "der Startwert bei dem die Variabel `i` zu zählen beginnt. Man nennt eine\n",
    "Variable wie `i` eine Laufvariable. 21 ist die obere Grenze. Die Grenze\n",
    "selber wird nicht mitgezählt."
   ]
  },
  {
   "cell_type": "markdown",
   "metadata": {},
   "source": [
    "### Über Listen iterieren"
   ]
  },
  {
   "cell_type": "markdown",
   "metadata": {
    "id": "du5b75h7CaUh"
   },
   "source": [
    "Listen sind nützliche Datenstrukturen, weil sie Element für Element durchlaufen werden\n",
    "können. Dabei kann jedes einzelne Element als Parameter einer Funktion\n",
    "übergeben werden.\n",
    "\n",
    "Dies kann mit Hilfe einer `for`-Schleife erfolgen. Als Beispiel werden\n",
    "alle Werte der Liste `example_numbers` quadriert.\n"
   ]
  },
  {
   "cell_type": "code",
   "execution_count": 7,
   "metadata": {},
   "outputs": [
    {
     "name": "stdout",
     "output_type": "stream",
     "text": [
      "1\n",
      "4\n",
      "9\n",
      "16\n",
      "25\n",
      "36\n",
      "49\n",
      "64\n",
      "81\n",
      "100\n",
      "121\n",
      "144\n",
      "169\n",
      "196\n",
      "225\n",
      "256\n",
      "289\n",
      "324\n",
      "361\n",
      "400\n"
     ]
    }
   ],
   "source": [
    "for i in range(20):\n",
    "    print(example_numbers[i] ** 2)"
   ]
  },
  {
   "cell_type": "markdown",
   "metadata": {},
   "source": [
    "Der Startwert der Variabel `i` is dabei `0`. Der Endwert ist `20` und\n",
    "wird nicht mitgezählt.\n",
    "\n",
    "Diese Schreibweise erfordert, dass wir wissen, wie lange die zu\n",
    "bearbeitende Liste ist."
   ]
  },
  {
   "cell_type": "markdown",
   "metadata": {},
   "source": [
    "Python stellt eine Vereinfachung zur Verfügung. Dabei wird Element für\n",
    "Element der Wert des Elements immer der gleichen Variabel zugewiesen.\n",
    "Die gewünschte Operation wird dann mit dieser Variabel durchgeführt. Die\n",
    "entsprechende Syntax zeigt das folgende Beispiel."
   ]
  },
  {
   "cell_type": "code",
   "execution_count": 2,
   "metadata": {
    "colab": {
     "base_uri": "https://localhost:8080/"
    },
    "id": "7HvZzt3HCaUi",
    "outputId": "7b689037-a8da-4449-dd05-ac70f3dc5874",
    "tags": []
   },
   "outputs": [
    {
     "name": "stdout",
     "output_type": "stream",
     "text": [
      "1\n",
      "4\n",
      "9\n",
      "16\n",
      "25\n",
      "36\n",
      "49\n",
      "64\n",
      "81\n",
      "100\n",
      "121\n",
      "144\n",
      "169\n",
      "196\n",
      "225\n",
      "256\n",
      "289\n",
      "324\n",
      "361\n",
      "400\n"
     ]
    }
   ],
   "source": [
    "for example in example_numbers:\n",
    "    print(example ** 2)"
   ]
  },
  {
   "cell_type": "markdown",
   "metadata": {
    "id": "ARyKYoOMCaUi"
   },
   "source": [
    "Weil für Listen Namen von Variablen im Plural verwendet werden, können\n",
    "die einzelnen Elemente im Singular bezeichnet \n",
    "werden. Dies ist jedoch reine Konvention und technisch nicht\n",
    "erforderlich. Um das zu zeigen, findet sich unten ein Beispiel, das sich\n",
    "*nicht* an diese Konvention hält. Dazu wird die Liste `example_numbers` zuerst der Variablen $y$ zugewiesen."
   ]
  },
  {
   "cell_type": "code",
   "execution_count": 3,
   "metadata": {
    "colab": {
     "base_uri": "https://localhost:8080/"
    },
    "id": "giy8ck8mCaUi",
    "outputId": "11860cf3-b520-4f4e-f875-514a2bfcec6e",
    "tags": []
   },
   "outputs": [
    {
     "name": "stdout",
     "output_type": "stream",
     "text": [
      "1\n",
      "4\n",
      "9\n",
      "16\n",
      "25\n",
      "36\n",
      "49\n",
      "64\n",
      "81\n",
      "100\n",
      "121\n",
      "144\n",
      "169\n",
      "196\n",
      "225\n",
      "256\n",
      "289\n",
      "324\n",
      "361\n",
      "400\n"
     ]
    }
   ],
   "source": [
    "y = example_numbers\n",
    "for x in y:\n",
    "    print(x ** 2)"
   ]
  },
  {
   "cell_type": "markdown",
   "metadata": {},
   "source": [
    "### Leere Listen"
   ]
  },
  {
   "cell_type": "markdown",
   "metadata": {
    "id": "RqjFLQHfCaUi"
   },
   "source": [
    "Listen können auch leer sein. Eine leere Liste wird folgendermassen\n",
    "erstellt: "
   ]
  },
  {
   "cell_type": "code",
   "execution_count": null,
   "metadata": {
    "id": "EXLuzi6ZCaUi"
   },
   "outputs": [],
   "source": [
    "leere_liste = []"
   ]
  },
  {
   "cell_type": "markdown",
   "metadata": {},
   "source": [
    "### Listen ergänzen"
   ]
  },
  {
   "cell_type": "markdown",
   "metadata": {
    "id": "oTf-xU25CaUi"
   },
   "source": [
    "Wenn einer bestehenden Liste ein Element angefügt werden soll, stellt\n",
    "Python die Funktion `listenname.append(Element)` zur Verfügung."
   ]
  },
  {
   "cell_type": "code",
   "execution_count": 6,
   "metadata": {
    "colab": {
     "base_uri": "https://localhost:8080/"
    },
    "id": "HXOwZgSkCaUj",
    "outputId": "76d69230-1deb-4ed7-9036-74e0c2f7ea56"
   },
   "outputs": [
    {
     "name": "stdout",
     "output_type": "stream",
     "text": [
      "[2, 5, 1]\n",
      "[2, 5, 1, 7]\n"
     ]
    }
   ],
   "source": [
    "ein_paar_elemente = [2, 5, 1]\n",
    "print(ein_paar_elemente)\n",
    "ein_paar_elemente.append(7)\n",
    "print(ein_paar_elemente)"
   ]
  },
  {
   "cell_type": "markdown",
   "metadata": {},
   "source": [
    "## Anwendung"
   ]
  },
  {
   "cell_type": "markdown",
   "metadata": {},
   "source": [
    "### Erstellen einer Liste aus ihren Elementen"
   ]
  },
  {
   "cell_type": "markdown",
   "metadata": {
    "id": "pzxvOUm2CaUj"
   },
   "source": [
    "Als nächstes nehmen Sie die gemessenen Grössen in der Klasse in eine\n",
    "Liste `measurements` auf. Die entsprechenden Werte finden Sie im File\n",
    "[Koerpergroessen.CSV](Koerpergroessen.CSV). Berücksichtigen Sie dabei,\n",
    "dass nicht alle vorhandenen Daten in der richtigen Form vorliegen."
   ]
  },
  {
   "cell_type": "code",
   "execution_count": 7,
   "metadata": {
    "id": "3QAU5RjkCaUj"
   },
   "outputs": [],
   "source": [
    "measurements = [179, 160, 167, 180, 169, 175, 177, 182, 161, 166, \n",
    "                177, 179, 178, 172, 170, 164, 155, 171, 173, 161, \n",
    "                185, 158, 169, 172, 170, 175]"
   ]
  },
  {
   "cell_type": "markdown",
   "metadata": {},
   "source": [
    "### Einteilung der Daten in Intervalle"
   ]
  },
  {
   "cell_type": "markdown",
   "metadata": {
    "id": "SQsjq584CaUk"
   },
   "source": [
    "Damit aus der Liste der Körpergrössen ein Histogramm gezeichnet werden\n",
    "kann, müssen die Körpergrössen in Intervalle (engl. bin) eingeteilt werden\n",
    "und die Elemente einer Klasse gezählt werden.\n",
    "\n",
    "Für das vorliegende Histogramm sollen die Körpergrössen in Intervalle\n",
    "mit 5cm Abstand eingeteilt werden. Das heisst, ein Intervall sind zum\n",
    "Beispiel alle Werte von 160cm bis 164cm.\n"
   ]
  },
  {
   "cell_type": "markdown",
   "metadata": {},
   "source": [
    ">### Wahl der Grösse des Intervalls (Exkurs)\n",
    ">\n",
    ">Bei der Wahl der Grössse des konkreten Intervalls für die\n",
    ">Visualisierung eines Datensatzes muss gelegentlich etwas experimentiert\n",
    ">werden.  \n",
    ">Wenn das Beispielhistogramm aus der Einführung mit Intervallgrösse 0.3\n",
    ">(10 Intervalle zwischen 2.7 und 5.7)\n",
    ">gezeichnet wird, hat es keine Ähnlichkeit mit dem aus der Einführung. "
   ]
  },
  {
   "cell_type": "markdown",
   "metadata": {},
   "source": [
    "><img alt=\"Histogramm mit Intervall 0.3\" src=\"data:image/png;base64,iVBORw0KGgoAAAANSUhEUgAAAioAAAHHCAYAAACRAnNyAAAAOXRFWHRTb2Z0d2FyZQBNYXRwbG90bGliIHZlcnNpb24zLjcuMSwgaHR0cHM6Ly9tYXRwbG90bGliLm9yZy/bCgiHAAAACXBIWXMAAA9hAAAPYQGoP6dpAAAu20lEQVR4nO3deVxWZf7/8fcNGJgIai7oiJCKuGtpqZm7jTnmVuYyjglW1uSSo+XoVCLWJDmVtpjZJmWS27jUKKmZy6hRilpEi0uoVCCjGSDZrcL5/dHP+9vNovetwH3h/Xo+HvcjznWuc87nXJzg7dmwWZZlCQAAwEA+ni4AAACgJAQVAABgLIIKAAAwFkEFAAAYi6ACAACMRVABAADGIqgAAABjEVQAAICxCCoAAMBYBBV4pfDwcEVFRXm6DFyG+Ph42Ww2HTlyxNOlVAg2m00zZ850TDN+qGgIKqjwLvzg3bNnT7Hzu3fvrpYtW17xdtavX+/0Ax/meOWVVxQfH+9yf5vNpvHjx1/WthISEjRv3rzLWrai+fnnnzV27FjVqlVLVapUUY8ePbR3716Xln399dfVrVs31alTR/7+/rr++usVHR1NQILbCCrwSt9++61ef/11t5ZZv369YmNjy6giuGrUqFE6c+aMwsLCHG3uBpUr4S1BpaCgQP369VNCQoLGjx+vOXPmKCsrS927d9fBgwcvufy+fft0/fXXa+rUqVqwYIH+8pe/KDExUTfddJN+/PHHctgDXC38PF0A4An+/v6eLsFteXl5qlKliqfL8DhfX1/5+vp6uoxSVVBQoLNnzyogIMDTpTisXLlSu3bt0ooVKzRkyBBJ0tChQ9WkSRPFxMQoISHhosu/8sorRdoGDRqk9u3b65133tG0adPKpG5cfTijAq9U+B6Vc+fOKTY2VhEREQoICNB1112nW2+9VZs2bZIkRUVFaf78+ZJ+u2xw4XNBXl6epkyZotDQUPn7+ysyMlLPPvusCv9x8jNnzmjixImqWbOmqlatqgEDBuiHH34och/BzJkzZbPZ9NVXX+nPf/6zqlevrltvvVWS9MUXXygqKkoNGzZUQECAQkJCNGbMGJ08edJpWxfWceDAAf3lL39RcHCwatWqpSeeeEKWZSk9PV0DBw5UUFCQQkJC9Nxzzzktv3XrVtlsNi1fvlyxsbH6wx/+oKpVq2rIkCHKzs6W3W7XpEmTVLt2bQUGBio6Olp2u/2SY3/hUtwXX3yhbt266dprr1Xjxo21cuVKSdK2bdvUoUMHVa5cWZGRkfroo4+cli98j0V4eLhSU1O1bds2x/ele/ful6yjpH395z//qfr16ysgIEC9evXSoUOHnGpft26djh496thWeHi4Y77dbldMTIwaN24sf39/hYaGaurUqUXG5cKlpyVLlqhFixby9/fXBx98oBo1aig6OrpIfTk5OQoICNAjjzwiSTp79qxmzJihdu3aKTg4WFWqVFGXLl20ZcsWt/b7YlauXKk6derozjvvdLTVqlVLQ4cO1dq1a136Xhd2Yax+/vnnUqoS3oAzKrhqZGdn68SJE0Xaz507d8llZ86cqdmzZ+u+++7TzTffrJycHO3Zs0d79+7VbbfdpgceeEA//vijNm3apMWLFzsta1mWBgwYoC1btujee+9V27ZttWHDBj366KP64YcfNHfuXEffqKgoLV++XKNGjVLHjh21bds29evXr8S67r77bkVEROjpp592hJ5Nmzbpu+++U3R0tEJCQpSamqrXXntNqampSkpKcgpQkjRs2DA1a9ZMcXFxWrdunZ566inVqFFDCxcuVM+ePfXMM89oyZIleuSRR3TTTTepa9euTsvPnj1blStX1rRp03To0CG99NJLqlSpknx8fHTq1CnNnDlTSUlJio+P1/XXX68ZM2ZccrxPnTqlO+64Q8OHD9fdd9+tBQsWaPjw4VqyZIkmTZqkBx98UH/+85/1r3/9S0OGDFF6erqqVq1a7LrmzZunCRMmKDAwUI899pgkqU6dOpesoThxcXHy8fHRI488ouzsbM2ZM0cjR47Up59+Kkl67LHHlJ2dre+//97xfQ0MDJT021mRAQMGaMeOHRo7dqyaNWumlJQUzZ07VwcOHNCaNWuctvXxxx9r+fLlGj9+vGrWrKmIiAgNHjxYq1at0sKFC3XNNdc4+q5Zs0Z2u13Dhw+X9FtweeONNzRixAjdf//9ys3N1Ztvvqk+ffros88+U9u2bS9r/39v3759uvHGG+Xj4/zv2ZtvvlmvvfaaDhw4oFatWl1yPSdPnlR+fr6OHTumWbNmSZJ69ep1xfXBi1hABbdo0SJL0kU/LVq0cFomLCzMGj16tGO6TZs2Vr9+/S66nXHjxlnF/S+zZs0aS5L11FNPObUPGTLEstls1qFDhyzLsqzk5GRLkjVp0iSnflFRUZYkKyYmxtEWExNjSbJGjBhRZHu//PJLkbb33nvPkmRt3769yDrGjh3raDt//rxVv359y2azWXFxcY72U6dOWZUrV3Yaky1btliSrJYtW1pnz551tI8YMcKy2WxW3759nWro1KmTFRYWVqS2wrp162ZJshISEhxt33zzjSXJ8vHxsZKSkhztGzZssCRZixYtcrRd+H6npaU52lq0aGF169btktu+QJI1bty4IvvarFkzy263O9pfeOEFS5KVkpLiaOvXr1+x+7l48WLLx8fH+u9//+vU/uqrr1qSrJ07dzpt38fHx0pNTXXqe2F/P/jgA6f2P/3pT1bDhg0d0+fPn3eq07J++x7WqVPHGjNmTJF9/f2xVdz4FadKlSpF1mVZlrVu3TpLkvXhhx9edPkL/P39Hf8fXnfdddaLL77o0nLABVz6wVVj/vz52rRpU5FP69atL7lstWrVlJqa6tJNgoWtX79evr6+mjhxolP7lClTZFmWEhMTJUkffvihJOmhhx5y6jdhwoQS1/3ggw8WaatcubLj619//VUnTpxQx44dJanYJzLuu+8+x9e+vr5q3769LMvSvffe62ivVq2aIiMj9d133xVZ/p577lGlSpUc0x06dJBlWRozZoxTvw4dOig9PV3nz58vcX8uCAwMdJwdkKTIyEhVq1ZNzZo1U4cOHZzWKanYuspCdHS005mMLl26uLz9FStWqFmzZmratKlOnDjh+PTs2VOSilyW6datm5o3b+7U1rNnT9WsWVPLli1ztJ06dUqbNm3SsGHDHG2+vr6OOgsKCvTTTz/p/Pnzat++vctP5VzKmTNnir2X68J9NGfOnHFpPYmJiVq/fr2ee+45NWjQQHl5eaVSH7wHl35w1bj55pvVvn37Iu3Vq1cv9pLQ782aNUsDBw5UkyZN1LJlS91+++0aNWqUSyHn6NGjqlevXpFLE82aNXPMv/BfHx8fXX/99U79GjduXOK6C/eVpJ9++kmxsbFaunSpsrKynOZlZ2cX6d+gQQOn6eDgYAUEBKhmzZpF2gvf51LS8pIUGhpapL2goEDZ2dm67rrrStwnSapfv36RS1TBwcHFrlP67Zd1eSi8r9WrV3d5+wcPHtTXX3+tWrVqFTu/8PequO+tn5+f7rrrLiUkJMhut8vf31+rVq3SuXPnnIKKJL399tt67rnn9M033zhd3ixuvZejcuXKxd6H8uuvvzrmu6JHjx6SpL59+2rgwIFq2bKlAgMDL/vxcHgfggogqWvXrjp8+LDWrl2rjRs36o033tDcuXP16quvOp2RKG/F/TIYOnSodu3apUcffVRt27ZVYGCgCgoKdPvtt6ugoKBI/+KekCnpqRmr0M2/F+vrzjrKY52l4Uq2X1BQoFatWun5558vdn7hEFbSL/rhw4dr4cKFSkxM1KBBg7R8+XI1bdpUbdq0cfR59913FRUVpUGDBunRRx9V7dq15evrq9mzZ+vw4cOXrNUVdevWVUZGRpH2C2316tVze52NGjXSDTfcoCVLlhBU4DKCCvD/XXjiIjo6WqdPn1bXrl01c+ZMR1ApfAbggrCwMH300UfKzc11OqvyzTffOOZf+G9BQYHS0tIUERHh6Pf7p0ou5dSpU9q8ebNiY2Odblq9nEtWV5OSvjflua1GjRrp888/V69eva6onq5du6pu3bpatmyZbr31Vn388ceOm4QvWLlypRo2bKhVq1Y5bSsmJuayt1tY27Zt9d///lcFBQVON9R++umnuvbaa9WkSZPLWu+ZM2cu64kheC/uUQGkIpc8AgMD1bhxY6cfqBfeYVL40co//elPys/P18svv+zUPnfuXNlsNvXt21eS1KdPH0lF3y/x0ksvuVznhX/xF/4Xvje8gOxiqlSpUm6PvFapUqXYS2xDhw7VDz/8UOyLBM+cOePyvRk+Pj4aMmSIPvjgAy1evFjnz58vctmnuOPg008/1SeffOLOrlzUkCFDdPz4ca1atcrRduLECa1YsUL9+/d3un/l8OHDTmdyzp8/X+zlss8++0wpKSnFXqIFSsIZFUBS8+bN1b17d7Vr1041atTQnj17tHLlSqfT0+3atZMkTZw4UX369JGvr6+GDx+u/v37q0ePHnrsscd05MgRtWnTRhs3btTatWs1adIkNWrUyLH8XXfdpXnz5unkyZOOx5MPHDggybWzAkFBQeratavmzJmjc+fO6Q9/+IM2btyotLS0MhiViqNdu3ZasGCBnnrqKTVu3Fi1a9d23MRaFttatmyZJk+erJtuukmBgYHq37+/Ro0apeXLl+vBBx/Uli1b1LlzZ+Xn5+ubb77R8uXLtWHDBpd/QQ8bNkwvvfSSYmJi1KpVK8f9ThfccccdWrVqlQYPHqx+/fopLS1Nr776qpo3b67Tp0+Xyn4OGTJEHTt2VHR0tL766ivVrFlTr7zyivLz84u8ofnC48YX3m1z+vRphYaGatiwYWrRooWqVKmilJQULVq0SMHBwXriiSdKpUZ4B4IKoN/Cx/vvv6+NGzfKbrcrLCxMTz31lB599FFHnzvvvFMTJkzQ0qVL9e6778qyLA0fPlw+Pj56//33NWPGDC1btkyLFi1SeHi4/vWvf2nKlClO23nnnXcUEhKi9957T6tXr1bv3r21bNkyRUZGuvxW0oSEBE2YMEHz58+XZVn64x//qMTExMu6Z+BqMWPGDB09elRz5sxRbm6uunXrVmZB5aGHHtL+/fu1aNEizZ07V2FhYerfv798fHy0Zs0azZ07V++8845Wr16ta6+9Vg0bNtTDDz/s1qWSW265RaGhoUpPTy9yNkX67X08mZmZWrhwoTZs2KDmzZvr3Xff1YoVK7R169ZS2U9fX1+tX79ejz76qF588UWdOXNGN910k+Lj4xUZGXnRZa+99lrdd9992rJli1auXKkzZ86oXr16GjFihB5//HGnl+QBl2KzyusuNQDF2r9/v2644Qa9++67GjlypKfLAQCjcI8KUI6Ke/fEvHnz5OPjU+SNsAAALv0A5WrOnDlKTk5Wjx495Ofnp8TERCUmJmrs2LFFHl8FAHDpByhXmzZtUmxsrL766iudPn1aDRo00KhRo/TYY4/Jz49/NwBAYQQVAABgLO5RAQAAxiKoAAAAY1Xoi+IFBQX68ccfVbVq1XJ9hTYAALh8lmUpNzdX9erVc/oTDcWp0EHlxx9/5EkJAAAqqPT0dNWvX/+ifSp0ULnwB+DS09MVFBTk4WoAAIArcnJyFBoa6vSHXEtSoYPKhcs9QUFBBBUAACoYV27b4GZaAABgLIIKAAAwFkEFAAAYi6ACAACMRVABAADGIqgAAABjEVQAAICxCCoAAMBYBBUAAGAsggoAADCWR4PKzJkzZbPZnD5Nmzb1ZEkAAMAgHv9bPy1atNBHH33kmPbz83hJAADAEB5PBX5+fgoJCfF0GQAAwEAev0fl4MGDqlevnho2bKiRI0fq2LFjni4JAAAYwqNnVDp06KD4+HhFRkYqIyNDsbGx6tKli7788ktVrVq1SH+73S673e6YzsnJKc9yAQBAObNZlmV5uogLfv75Z4WFhen555/XvffeW2T+zJkzFRsbW6Q9OztbQUFB5VEiIEkKn7bO0yW47UhcP0+XAACSfjvREBwc7NLvb49f+vm9atWqqUmTJjp06FCx86dPn67s7GzHJz09vZwrBAAA5cmooHL69GkdPnxYdevWLXa+v7+/goKCnD4AAODq5dGg8sgjj2jbtm06cuSIdu3apcGDB8vX11cjRozwZFkAAMAQHr2Z9vvvv9eIESN08uRJ1apVS7feequSkpJUq1YtT5YFAAAM4dGgsnTpUk9uHgAAGM6oe1QAAAB+j6ACAACMRVABAADGIqgAAABjEVQAAICxCCoAAMBYBBUAAGAsggoAADAWQQUAABiLoAIAAIxFUAEAAMYiqAAAAGMRVAAAgLEIKgAAwFgEFQAAYCyCCgAAMBZBBQAAGIugAgAAjEVQAQAAxiKoAAAAYxFUAACAsQgqAADAWAQVAABgLIIKAAAwFkEFAAAYi6ACAACMRVABAADGIqgAAABjEVQAAICxCCoAAMBYBBUAAGAsggoAADAWQQUAABiLoAIAAIxFUAEAAMYiqAAAAGMRVAAAgLEIKgAAwFgEFQAAYCyCCgAAMBZBBQAAGIugAgAAjEVQAQAAxiKoAAAAYxFUAACAsQgqAADAWAQVAABgLIIKAAAwFkEFAAAYi6ACAACMRVABAADGIqgAAABjEVQAAICxCCoAAMBYBBUAAGAsggoAADAWQQUAABiLoAIAAIxFUAEAAMYiqAAAAGMZE1Ti4uJks9k0adIkT5cCAAAMYURQ2b17txYuXKjWrVt7uhQAAGAQjweV06dPa+TIkXr99ddVvXp1T5cDAAAM4vGgMm7cOPXr10+9e/e+ZF+73a6cnBynDwAAuHr5eXLjS5cu1d69e7V7926X+s+ePVuxsbFlXBUAXL7waes8XYLbjsT183QJQIk8dkYlPT1dDz/8sJYsWaKAgACXlpk+fbqys7Mdn/T09DKuEgAAeJLHzqgkJycrKytLN954o6MtPz9f27dv18svvyy73S5fX1+nZfz9/eXv71/epQIAAA/xWFDp1auXUlJSnNqio6PVtGlT/f3vfy8SUgAAgPfxWFCpWrWqWrZs6dRWpUoVXXfddUXaAQCAd/L4Uz8AAAAl8ehTP4Vt3brV0yUAAACDcEYFAAAYi6ACAACMRVABAADGIqgAAABjEVQAAICxCCoAAMBYBBUAAGAsggoAADAWQQUAABiLoAIAAIxFUAEAAMYiqAAAAGMRVAAAgLEIKgAAwFgEFQAAYCyCCgAAMBZBBQAAGIugAgAAjEVQAQAAxiKoAAAAYxFUAACAsQgqAADAWAQVAABgLIIKAAAwFkEFAAAYi6ACAACMRVABAADGIqgAAABjEVQAAICxCCoAAMBYBBUAAGAsggoAADAWQQUAABiLoAIAAIxFUAEAAMYiqAAAAGMRVAAAgLEIKgAAwFgEFQAAYCyCCgAAMBZBBQAAGIugAgAAjEVQAQAAxiKoAAAAYxFUAACAsQgqAADAWAQVAABgLIIKAAAwFkEFAAAYi6ACAACMRVABAADGIqgAAABjEVQAAICxXA4qJ06c0NGjR53aUlNTFR0draFDhyohIaHUiwMAAN7N5aAyYcIEvfjii47prKwsdenSRbt375bdbldUVJQWL15cJkUCAADv5HJQSUpK0oABAxzT77zzjmrUqKH9+/dr7dq1evrppzV//vwyKRIAAHgnl4NKZmamwsPDHdMff/yx7rzzTvn5+UmSBgwYoIMHD5Z6gQAAwHu5HFSCgoL0888/O6Y/++wzdejQwTFts9lkt9tLtTgAAODdXA4qHTt21IsvvqiCggKtXLlSubm56tmzp2P+gQMHFBoaWiZFAgAA7+RyUHnyySf1/vvvq3Llyho2bJimTp2q6tWrO+YvXbpU3bp1c2vjCxYsUOvWrRUUFKSgoCB16tRJiYmJbq0DAABcvfxc7di6dWt9/fXX2rlzp0JCQpwu+0jS8OHD1bx5c7c2Xr9+fcXFxSkiIkKWZentt9/WwIEDtW/fPrVo0cKtdQEAgKuPy0FFkmrWrKmBAwcWO69fv35ub7x///5O0//85z+1YMECJSUlEVQAAIB7QUWSZs2addH5M2bMuKxC8vPztWLFCuXl5alTp06XtQ4AAHB1cTuorF692mn63LlzSktLk5+fnxo1auR2UElJSVGnTp3066+/KjAwUKtXry7xEpLdbnd6signJ8fd8gEAQAXidlDZt29fkbacnBxFRUVp8ODBbhcQGRmp/fv3Kzs7WytXrtTo0aO1bdu2YsPK7NmzFRsb6/Y2Llf4tHXltq3SciTO/Utw8A4V8XgGAJtlWVZprCglJUX9+/fXkSNHrmg9vXv3VqNGjbRw4cIi84o7oxIaGqrs7GwFBQVd0XaLUxF/sBNUykdFPDaAkvBzA+UtJydHwcHBLv3+dvuMSkmys7OVnZ19xespKCgo8cVx/v7+8vf3v+JtAACAisHtoPL7P0woSZZlKSMjQ4sXL1bfvn3dWtf06dPVt29fNWjQQLm5uUpISNDWrVu1YcMGd8sCAABXIbeDyty5c52mfXx8VKtWLY0ePVrTp093a11ZWVm65557lJGRoeDgYLVu3VobNmzQbbfd5m5ZAADgKuR2UElLSyu1jb/55pulti4AAHD1cfkV+iU5evSovvrqKxUUFJRGPQAAAA4uB5W33npLzz//vFPb2LFj1bBhQ7Vq1UotW7ZUenp6qRcIAAC8l8tB5bXXXnP6I4QffvihFi1apHfeeUe7d+9WtWrVyvUdJwAA4Orn8j0qBw8eVPv27R3Ta9eu1cCBAzVy5EhJ0tNPP63o6OjSrxAAAHgtl8+onDlzxumlLLt27VLXrl0d0w0bNlRmZmbpVgcAALyay0ElLCxMycnJkqQTJ04oNTVVnTt3dszPzMxUcHBw6VcIAAC8lsuXfkaPHq1x48YpNTVVH3/8sZo2bap27do55u/atUstW7YskyIBAIB3cjmoTJ06Vb/88otWrVqlkJAQrVixwmn+zp07NWLEiFIvEAAAeC+Xg4qPj49mzZqlWbNmFTu/cHABAAC4Ulf8wjcAAICyQlABAADGIqgAAABjEVQAAICxCCoAAMBYLj31M3nyZJdXWPgPFwIAAFwul4LKvn37XFqZzWa7omIAAAB+z6WgsmXLlrKuAwAAoAjuUQEAAMZy+c20F+Tl5SkuLk6bN29WVlaWCgoKnOZ/9913pVYcAADwbm4Hlfvuu0/btm3TqFGjVLduXe5LAQAAZcbtoJKYmKh169apc+fOZVEPAACAg9v3qFSvXl01atQoi1oAAACcuB1UnnzySc2YMUO//PJLWdQDAADg4NKlnxtuuMHpXpRDhw6pTp06Cg8PV6VKlZz67t27t3QrBAAAXsuloDJo0KAyLgMAAKAol4JKTExMWdcBAABQBC98AwAAxnL78eT8/HzNnTtXy5cv17Fjx3T27Fmn+T/99FOpFQcAALyb22dUYmNj9fzzz2vYsGHKzs7W5MmTdeedd8rHx0czZ84sgxIBAIC3cjuoLFmyRK+//rqmTJkiPz8/jRgxQm+88YZmzJihpKSksqgRAAB4KbeDSmZmplq1aiVJCgwMVHZ2tiTpjjvu0Lp160q3OgAA4NXcDir169dXRkaGJKlRo0bauHGjJGn37t3y9/cv3eoAAIBXczuoDB48WJs3b5YkTZgwQU888YQiIiJ0zz33aMyYMaVeIAAA8F5uP/UTFxfn+HrYsGEKCwvTrl27FBERof79+5dqcQAAwLu5HVQK69ixozp27FgatQAAADhx+9KPr6+vevToUeR9KcePH5evr2+pFQYAAOB2ULEsS3a7Xe3bt1dqamqReQAAAKXF7aBis9n073//W/3791enTp20du1ap3kAAACl5bLOqPj6+uqFF17Qs88+q2HDhumpp57ibAoAACh1V3Qz7dixYxUREaG7775b27dvL62aAAAAJF3GGZWwsDCnm2Z79OihpKQkpaenl2phAAAAbp9RSUtLK9LWuHFj7du3T8ePHy+VogAAAKQruPRz9uxZZWVlqaCgwNHGzbQAAKA0uR1UDhw4oHvvvVe7du1yarcsSzabTfn5+aVWHAAA8G5uB5Xo6Gj5+fnpP//5j+rWrctZFAAAUGbcDir79+9XcnKymjZtWhb1AAAAOLj91E/z5s114sSJsqgFAADAidtB5ZlnntHUqVO1detWnTx5Ujk5OU4fAACA0uL2pZ/evXtLknr16uXUzs20AACgtLkdVLZs2VIWdQAAABThdlDp1q1bifO+/PLLKyoGAADg99y+R6Ww3Nxcvfbaa7r55pvVpk2b0qgJAABA0hUEle3bt2v06NGqW7eunn32WfXs2VNJSUmlWRsAAPBybl36yczMVHx8vN58803l5ORo6NChstvtWrNmjZo3b15WNQIAAC/l8hmV/v37KzIyUl988YXmzZunH3/8US+99FJZ1gYAALycy2dUEhMTNXHiRP31r39VREREWdYEAAAgyY0zKjt27FBubq7atWunDh066OWXX+YNtQAAoEy5HFQ6duyo119/XRkZGXrggQe0dOlS1atXTwUFBdq0aZNyc3PLsk4AAOCF3H7qp0qVKhozZox27NihlJQUTZkyRXFxcapdu7YGDBhQFjUCAAAvdUXvUYmMjNScOXP0/fff67333iutmgAAACSVwgvfJMnX11eDBg3S+++/79Zys2fP1k033aSqVauqdu3aGjRokL799tvSKAkAAFwFSiWoXK5t27Zp3LhxSkpK0qZNm3Tu3Dn98Y9/VF5enifLAgAAhnD7b/2Upg8//NBpOj4+XrVr11ZycrK6du3qoaoAAIApPBpUCsvOzpYk1ahRo9j5drtddrvdMZ2Tk1MudQEAAM8wJqgUFBRo0qRJ6ty5s1q2bFlsn9mzZys2NracK0NZC5+2ztMlAAAM5dF7VH5v3Lhx+vLLL7V06dIS+0yfPl3Z2dmOT3p6ejlWCAAAypsRZ1TGjx+v//znP9q+fbvq169fYj9/f3/5+/uXY2UAAMCTPBpULMvShAkTtHr1am3dulXXX3+9J8sBAACG8WhQGTdunBISErR27VpVrVpVmZmZkqTg4GBVrlzZk6UBAAADePQelQULFig7O1vdu3dX3bp1HZ9ly5Z5siwAAGAIj1/6AQAAKIkxT/0AAAAURlABAADGIqgAAABjEVQAAICxCCoAAMBYBBUAAGAsggoAADAWQQUAABiLoAIAAIxFUAEAAMYiqAAAAGMRVAAAgLEIKgAAwFgEFQAAYCyCCgAAMBZBBQAAGIugAgAAjEVQAQAAxiKoAAAAYxFUAACAsQgqAADAWAQVAABgLIIKAAAwFkEFAAAYi6ACAACMRVABAADGIqgAAABjEVQAAICxCCoAAMBYBBUAAGAsggoAADAWQQUAABiLoAIAAIxFUAEAAMYiqAAAAGMRVAAAgLEIKgAAwFgEFQAAYCyCCgAAMBZBBQAAGIugAgAAjEVQAQAAxiKoAAAAYxFUAACAsQgqAADAWAQVAABgLIIKAAAwFkEFAAAYi6ACAACMRVABAADGIqgAAABjEVQAAICxCCoAAMBYBBUAAGAsggoAADAWQQUAABiLoAIAAIxFUAEAAMYiqAAAAGN5NKhs375d/fv3V7169WSz2bRmzRpPlgMAAAzj0aCSl5enNm3aaP78+Z4sAwAAGMrPkxvv27ev+vbt68kSAACAwTwaVNxlt9tlt9sd0zk5OR6sBgAAlLUKFVRmz56t2NhYT5dhtPBp6zxdAoAKpiL+3DgS18/TJVwWxtp9Feqpn+nTpys7O9vxSU9P93RJAACgDFWoMyr+/v7y9/f3dBkAAKCcVKgzKgAAwLt49IzK6dOndejQIcd0Wlqa9u/frxo1aqhBgwYerAwAAJjAo0Flz5496tGjh2N68uTJkqTRo0crPj7eQ1UBAABTeDSodO/eXZZlebIEAABgMO5RAQAAxiKoAAAAYxFUAACAsQgqAADAWAQVAABgLIIKAAAwFkEFAAAYi6ACAACMRVABAADGIqgAAABjEVQAAICxCCoAAMBYBBUAAGAsggoAADAWQQUAABiLoAIAAIxFUAEAAMYiqAAAAGMRVAAAgLEIKgAAwFgEFQAAYCyCCgAAMBZBBQAAGIugAgAAjEVQAQAAxiKoAAAAYxFUAACAsQgqAADAWAQVAABgLIIKAAAwFkEFAAAYi6ACAACMRVABAADGIqgAAABjEVQAAICxCCoAAMBYBBUAAGAsggoAADAWQQUAABiLoAIAAIxFUAEAAMYiqAAAAGMRVAAAgLEIKgAAwFgEFQAAYCyCCgAAMBZBBQAAGIugAgAAjEVQAQAAxiKoAAAAYxFUAACAsQgqAADAWAQVAABgLIIKAAAwFkEFAAAYi6ACAACMRVABAADGIqgAAABjEVQAAICxjAgq8+fPV3h4uAICAtShQwd99tlnni4JAAAYwONBZdmyZZo8ebJiYmK0d+9etWnTRn369FFWVpanSwMAAB7m8aDy/PPP6/7771d0dLSaN2+uV199Vddee63eeustT5cGAAA8zKNB5ezZs0pOTlbv3r0dbT4+Purdu7c++eQTD1YGAABM4OfJjZ84cUL5+fmqU6eOU3udOnX0zTffFOlvt9tlt9sd09nZ2ZKknJycMqmvwP5LmawXAHBlyurnflmriL9XymKsL6zTsqxL9vVoUHHX7NmzFRsbW6Q9NDTUA9UAADwleJ6nK/AeZTnWubm5Cg4OvmgfjwaVmjVrytfXV8ePH3dqP378uEJCQor0nz59uiZPnuyYLigo0E8//aTrrrtONputzOs1XU5OjkJDQ5Wenq6goCBPl1MhMGbuYbzcw3i5h/FyT0UeL8uylJubq3r16l2yr0eDyjXXXKN27dpp8+bNGjRokKTfwsfmzZs1fvz4Iv39/f3l7+/v1FatWrVyqLRiCQoKqnAHracxZu5hvNzDeLmH8XJPRR2vS51JucDjl34mT56s0aNHq3379rr55ps1b9485eXlKTo62tOlAQAAD/N4UBk2bJj+97//acaMGcrMzFTbtm314YcfFrnBFgAAeB+PBxVJGj9+fLGXeuAef39/xcTEFLk8hpIxZu5hvNzDeLmH8XKPt4yXzXLl2SAAAAAP8PibaQEAAEpCUAEAAMYiqAAAAGMRVAAAgLEIKhXIggUL1Lp1a8fLfTp16qTExMSLLrNixQo1bdpUAQEBatWqldavX19O1Xqeu+MVHx8vm83m9AkICCjHis0RFxcnm82mSZMmXbSfNx9fhbkyZt58jM2cObPIvjdt2vSiy3jz8eXueF3NxxZBpQKpX7++4uLilJycrD179qhnz54aOHCgUlNTi+2/a9cujRgxQvfee6/27dunQYMGadCgQfryyy/LuXLPcHe8pN/e8JiRkeH4HD16tBwrNsPu3bu1cOFCtW7d+qL9vP34+j1Xx0zy7mOsRYsWTvu+Y8eOEvtyfLk3XtJVfGxZqNCqV69uvfHGG8XOGzp0qNWvXz+ntg4dOlgPPPBAeZRmpIuN16JFi6zg4ODyLcgwubm5VkREhLVp0yarW7du1sMPP1xiX46v37gzZt58jMXExFht2rRxub+3H1/ujtfVfGxxRqWCys/P19KlS5WXl6dOnToV2+eTTz5R7969ndr69OmjTz75pDxKNIor4yVJp0+fVlhYmEJDQy959uVqNG7cOPXr16/IcVMcjq/fuDNmkncfYwcPHlS9evXUsGFDjRw5UseOHSuxL8eXe+MlXb3HlhFvpoXrUlJS1KlTJ/36668KDAzU6tWr1bx582L7ZmZmFvlTBHXq1FFmZmZ5lGoEd8YrMjJSb731llq3bq3s7Gw9++yzuuWWW5Samqr69euXc+Xlb+nSpdq7d692797tUn+OL/fHzJuPsQ4dOig+Pl6RkZHKyMhQbGysunTpoi+//FJVq1Yt0t/bjy93x+uqPrY8fUoH7rHb7dbBgwetPXv2WNOmTbNq1qxppaamFtu3UqVKVkJCglPb/Pnzrdq1a5dHqUZwZ7wKO3v2rNWoUSPr8ccfL+MqPe/YsWNW7dq1rc8//9zRdqnLGN5+fF3OmBXmTcdYYadOnbKCgoJKvBTr7cdXYZcar8KupmOLMyoVzDXXXKPGjRtLktq1a6fdu3frhRde0MKFC4v0DQkJ0fHjx53ajh8/rpCQkHKp1QTujFdhlSpV0g033KBDhw6VdZkel5ycrKysLN14442Otvz8fG3fvl0vv/yy7Ha7fH19nZbx9uPrcsasMG86xgqrVq2amjRpUuK+e/vxVdilxquwq+nY4h6VCq6goEB2u73YeZ06ddLmzZud2jZt2nTRezSudhcbr8Ly8/OVkpKiunXrlnFVnterVy+lpKRo//79jk/79u01cuRI7d+/v9hfuN5+fF3OmBXmTcdYYadPn9bhw4dL3HdvP74Ku9R4FXZVHVuePqUD102bNs3atm2blZaWZn3xxRfWtGnTLJvNZm3cuNGyLMsaNWqUNW3aNEf/nTt3Wn5+ftazzz5rff3111ZMTIxVqVIlKyUlxVO7UK7cHa/Y2Fhrw4YN1uHDh63k5GRr+PDhVkBAgMuXiq42hS9jcHxd2qXGzJuPsSlTplhbt2610tLSrJ07d1q9e/e2atasaWVlZVmWxfFVmLvjdTUfW1z6qUCysrJ0zz33KCMjQ8HBwWrdurU2bNig2267TZJ07Ngx+fj830myW265RQkJCXr88cf1j3/8QxEREVqzZo1atmzpqV0oV+6O16lTp3T//fcrMzNT1atXV7t27bRr164Sb771Nhxf7uMY+z/ff/+9RowYoZMnT6pWrVq69dZblZSUpFq1akni+CrM3fG6mo8tm2VZlqeLAAAAKA73qAAAAGMRVAAAgLEIKgAAwFgEFQAAYCyCCgAAMBZBBQAAGIugAgAAjEVQAQAAxiKoAChVUVFRstlsiouLc2pfs2aNbDaby+sJDw/XvHnzSrk6ABUNQQVAqQsICNAzzzyjU6dOeboUABUcQQVAqevdu7dCQkI0e/bsEvv8+9//VosWLeTv76/w8HA999xzjnndu3fX0aNH9be//U02m83pTMyOHTvUpUsXVa5cWaGhoZo4caLy8vIc88PDw/X0009rzJgxqlq1qho0aKDXXnutbHYUQJkjqAAodb6+vnr66af10ksv6fvvvy8yPzk5WUOHDtXw4cOVkpKimTNn6oknnlB8fLwkadWqVapfv75mzZqljIwMZWRkSJIOHz6s22+/XXfddZe++OILLVu2TDt27ND48eOd1v/cc8+pffv22rdvnx566CH99a9/1bffflvm+w2g9PFHCQGUqqioKP38889as2aNOnXqpObNm+vNN9/UmjVrNHjwYFmWpZEjR+p///ufNm7c6Fhu6tSpWrdunVJTUyX9dmZk0qRJmjRpkqPPfffdJ19fXy1cuNDRtmPHDnXr1k15eXkKCAhQeHi4unTposWLF0uSLMtSSEiIYmNj9eCDD5bPIAAoNZxRAVBmnnnmGb399tv6+uuvndq//vprde7c2amtc+fOOnjwoPLz80tc3+eff674+HgFBgY6Pn369FFBQYHS0tIc/Vq3bu342mazKSQkRFlZWaW0VwDKk5+nCwBw9eratav69Omj6dOnKyoq6orXd/r0aT3wwAOaOHFikXkNGjRwfF2pUiWneTabTQUFBVe8fQDlj6ACoEzFxcWpbdu2ioyMdLQ1a9ZMO3fudOq3c+dONWnSRL6+vpKka665psjZlRtvvFFfffWVGjduXPaFAzACl34AlKlWrVpp5MiRevHFFx1tU6ZM0ebNm/Xkk0/qwIEDevvtt/Xyyy/rkUcecfQJDw/X9u3b9cMPP+jEiROSpL///e/atWuXxo8fr/379+vgwYNau3ZtkZtpAVw9CCoAytysWbOcLr3ceOONWr58uZYuXaqWLVtqxowZmjVrltPloVmzZunIkSNq1KiRatWqJem3e0+2bdumAwcOqEuXLrrhhhs0Y8YM1atXr7x3CUA54akfAABgLM6oAAAAYxFUAACAsQgqAADAWAQVAABgLIIKAAAwFkEFAAAYi6ACAACMRVABAADGIqgAAABjEVQAAICxCCoAAMBYBBUAAGCs/wfQ9d6TB2oB6AAAAABJRU5ErkJggg==\" />"
   ]
  },
  {
   "cell_type": "markdown",
   "metadata": {},
   "source": [
    ">Erst die Anpassung der Intervallgrösse auf 0.5 hat ein anschauliches\n",
    ">Resultat hervorgebracht.  "
   ]
  },
  {
   "cell_type": "markdown",
   "metadata": {},
   "source": [
    "><img alt=\"Histogramm mit Intervall 0.5 und Startwrt 1.25\" src=\"data:image/png;base64,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\" />"
   ]
  },
  {
   "cell_type": "markdown",
   "metadata": {},
   "source": [
    "\n",
    "Als Beispiel sehen Sie in der folgenden Zelle eine Schleife, die einmal über alle\n",
    "Grössen iteriert und dabei zählt, wie viele Werte zwischen 160cm bis 164cm liegen."
   ]
  },
  {
   "cell_type": "code",
   "execution_count": 14,
   "metadata": {
    "colab": {
     "base_uri": "https://localhost:8080/"
    },
    "id": "CmFdn-GeCaUk",
    "outputId": "615f1359-9d1e-4eb3-cba9-d48cd76568e6"
   },
   "outputs": [
    {
     "name": "stdout",
     "output_type": "stream",
     "text": [
      "4\n"
     ]
    }
   ],
   "source": [
    "bin_160_bis_164 = 0\n",
    "for measure in measurements:\n",
    "    if measure >= 160 and measure < 165:\n",
    "        bin_160_bis_164 += 1\n",
    "\n",
    "print(bin_160_bis_164)"
   ]
  },
  {
   "cell_type": "markdown",
   "metadata": {},
   "source": [
    "### `if`-Statement"
   ]
  },
  {
   "cell_type": "markdown",
   "metadata": {
    "id": "u7gOGj9pCaUk"
   },
   "source": [
    "Dieses Code Snippet führt eine Bedingung ein.\n",
    "Bedingungen oder\n",
    "sogenannte `if`-Statements stellen sicher, dass bestimmte Anweisungen nur\n",
    "ausgeführt wird, wenn die Bedingung, die geprüft wird, eingehalten wird. Im\n",
    "Beispiel werden zwei Bedingungen geprüft, die kumulativ erfüllt sein\n",
    "müssen (erste Bedingung `measure >= 160`, zweite Bedingung\n",
    "`measure < 165`). Das heisst, wenn beide Bedingungen erfüllt sind, wird\n",
    "`bin_160_bis_164 += 1` ausgeführt. Dies ist eine Kurzschreibweise für\n",
    "`bin_160_bis_164 = bin_160_bis_164 + 1`. Es wird also jedesmal, wenn die Bedingung erfüllt ist, `bin_160_bis_164` um 1 hochgezählt.\n",
    "\n",
    "Damit dies für alle 5-cm-Klassen in der Liste verallgemeinert werden kann, muss der kleinste und der grösste Wert der Liste bekannt sein.\n",
    "\n",
    "Das Minimum einer Liste kann folgendermassen ermittelt werden:"
   ]
  },
  {
   "cell_type": "code",
   "execution_count": 15,
   "metadata": {
    "colab": {
     "base_uri": "https://localhost:8080/"
    },
    "id": "7lT0kRtSCaUl",
    "outputId": "4e6920a5-04fa-4a4f-d4cf-fd9814e3fd0f"
   },
   "outputs": [
    {
     "name": "stdout",
     "output_type": "stream",
     "text": [
      "155\n"
     ]
    }
   ],
   "source": [
    "def get_minimum(input : list[int]) -> int:\n",
    "    minimum = input[0]\n",
    "\n",
    "    for value in input:\n",
    "        if value < minimum:\n",
    "            minimum = value\n",
    "\n",
    "    return minimum\n",
    "\n",
    "print(get_minimum(measurements))"
   ]
  },
  {
   "cell_type": "markdown",
   "metadata": {
    "id": "KXNtNqSECaUl"
   },
   "source": [
    "Schreiben Sie eine vergleichbare Funktion, die das Maximum einer Liste ausgibt."
   ]
  },
  {
   "cell_type": "code",
   "execution_count": 16,
   "metadata": {
    "colab": {
     "base_uri": "https://localhost:8080/"
    },
    "id": "mkZ4OewdCaUl",
    "outputId": "f6748a57-f32b-4f80-db81-456a62daed91"
   },
   "outputs": [
    {
     "name": "stdout",
     "output_type": "stream",
     "text": [
      "185\n"
     ]
    }
   ],
   "source": [
    "def get_maximum(input : list[int]) -> int:\n",
    "    maximum = input[0]\n",
    "\n",
    "    for value in input:\n",
    "        if value > maximum:\n",
    "            maximum = value\n",
    "\n",
    "    return maximum\n",
    "print(get_maximum(measurements))"
   ]
  },
  {
   "cell_type": "markdown",
   "metadata": {},
   "source": [
    "### Vertiefung `if`-Statements"
   ]
  },
  {
   "cell_type": "markdown",
   "metadata": {
    "id": "vjnFZulgCaUl"
   },
   "source": [
    "Um die Möglichkeiten, welche `if`-Statements bieten, noch etwas weiter zu\n",
    "illustrieren, finden Sie in der nächsten Zelle eine Schleife, welche\n",
    "gerade Zahlen quadriert und ungerade mit drei potenziert. Falls statt\n",
    "einer Zahl ein anderer Datentyp auftaucht, wird der String `unzulässiger\n",
    "Input` in die Liste der Resultate eingetragen."
   ]
  },
  {
   "cell_type": "code",
   "execution_count": 17,
   "metadata": {
    "colab": {
     "base_uri": "https://localhost:8080/"
    },
    "id": "Ou2wd3EmCaUl",
    "outputId": "c053af96-f526-4f73-ed8d-7bef423ad5f8"
   },
   "outputs": [
    {
     "name": "stdout",
     "output_type": "stream",
     "text": [
      "[1, 4, 27, 16, 125, 'unzulässiger Input', 343, 64, 729]\n"
     ]
    }
   ],
   "source": [
    "demo_list = [1, 2, 3, 4, 5, 'hallo', 7, 8, 9]\n",
    "\n",
    "def if_demo(numbers : list[int]) -> list[int]:\n",
    "    results = []\n",
    "    for number in numbers:\n",
    "        if type(number) != int:\n",
    "            results.append('unzulässiger Input')\n",
    "        elif number % 2 == 0:\n",
    "            results.append(number ** 2)\n",
    "        else:\n",
    "            results.append(number ** 3)\n",
    "    return results\n",
    "\n",
    "print(if_demo(demo_list))"
   ]
  },
  {
   "cell_type": "markdown",
   "metadata": {},
   "source": [
    "Das Beispiel `if_demo()` sieht als Flussdiagramm dargestellt folgendermassen aus:\n"
   ]
  },
  {
   "cell_type": "markdown",
   "metadata": {},
   "source": [
    "![Flussdiagramm if_demo()](../visualisierung/flow_chart.svg)"
   ]
  },
  {
   "cell_type": "markdown",
   "metadata": {},
   "source": [
    "Als Struktogramm sieht das Beispiel `if_demo()` folgendermassen aus:"
   ]
  },
  {
   "cell_type": "markdown",
   "metadata": {},
   "source": [
    "![Struktogramm if_demo()](../visualisierung/struktogramm.svg)"
   ]
  },
  {
   "cell_type": "markdown",
   "metadata": {
    "id": "b2zVJWYqCaUm"
   },
   "source": [
    "In diesem Beispiel bedeutet `!=` *nicht*. Es wird\n",
    "geprüft, ob `number` vom Typ `int` ist, wenn dies nicht der Fall ist, wird\n",
    "in der Resultatliste `unzulässiger Input` eingetragen. Mit `elif` wird\n",
    "eine zweite Bedingung geprüft. Im Beispiel, ob die Zahl ohne Rest durch 2\n",
    "teilbar ist (`number % 2 == 0`). Damit Python zwischen einem Vergleich\n",
    "und einer Zuweisung unterscheiden kann, wird bei Vergleichen ein\n",
    "doppeltes Gleichheitszeichen verwendet. Falls keine der beiden geprüften\n",
    "Bedingungen erfüllt ist, wird mit `else` angezeigt, was mit dem Rest der\n",
    "Fälle zu geschehen habe.\n",
    "\n",
    "Aus den obigen Beispielen geht implizit hervor, dass sowohl `elif` wie\n",
    "auch `else` optional sind. Mit `elif` werden die Bedinungen $2, 3, ...,\n",
    "n$ eingefügt. Weil mit `else` das *default* Verhalten festgelegt wird,\n",
    "kann `else` nur einmal vorkommen."
   ]
  },
  {
   "cell_type": "markdown",
   "metadata": {},
   "source": [
    "### Systemeigene Python Funktion `min()` und `max()`"
   ]
  },
  {
   "cell_type": "markdown",
   "metadata": {},
   "source": [
    "Dass das Minimum oder das Maximum aus einer Liste mit Werten gesucht wird, ist relativ häufig.\n",
    "Python stellt daher eine systemeigene Funktion `min()` und `max()` zur Verfügung, welche das Miniumum bzw. das Maximum einer Liste ausgeben. Trotzdem war das eine gute Fingerübung, um sich mit der\n",
    "Funktion von Bedingungen vertraut zu machen."
   ]
  },
  {
   "cell_type": "markdown",
   "metadata": {},
   "source": [
    "### Zählen der Werte für die einzelnen Klassen"
   ]
  },
  {
   "cell_type": "markdown",
   "metadata": {
    "id": "yVGoAacnCaUm"
   },
   "source": [
    "Nun sollten Sie in der Lage sein, den Beispiel-Code für die Grössen\n",
    "zwischen 160cm und 164cm zu verallgemeinern, so dass die\n",
    "ganze Liste der Körpergrössen in 5cm Bins \"abgefüllt\" wird.\n",
    "\n",
    "Hinweis: Die einzelnen Bins sind ihrerseits Elemente einer Liste."
   ]
  },
  {
   "cell_type": "code",
   "execution_count": 18,
   "metadata": {
    "colab": {
     "base_uri": "https://localhost:8080/"
    },
    "id": "BUl3NIpfCaUm",
    "outputId": "570a23a7-c044-420f-adaf-c81cc4fd742b"
   },
   "outputs": [
    {
     "name": "stdout",
     "output_type": "stream",
     "text": [
      "[2, 4, 4, 6, 7, 2, 1]\n"
     ]
    }
   ],
   "source": [
    "def measure_to_bin(measurements : list[int]) -> list[float]:\n",
    "    bins = []\n",
    "    total = len(measurements)\n",
    "    lower_end = min(measurements) // 5 * 5\n",
    "    upper_end = max(measurements) // 5 * 5 + 5\n",
    "    counter = 0\n",
    "\n",
    "    for i in range(lower_end, upper_end, 5):\n",
    "        for measure in measurements:\n",
    "            if measure >= i and measure < i + 5:\n",
    "                counter += 1\n",
    "        bins.append(counter)\n",
    "        counter = 0\n",
    "\n",
    "    return bins\n",
    "\n",
    "zahlen = measure_to_bin(measurements)\n",
    "\n",
    "print(measure_to_bin(measurements))"
   ]
  },
  {
   "cell_type": "markdown",
   "metadata": {},
   "source": [
    "## Visualisierung"
   ]
  },
  {
   "cell_type": "markdown",
   "metadata": {},
   "source": [
    "Die so gruppierten Werte können nun visualisiert werden. Dazu braucht es\n",
    "eine Funktion, welche eine Liste als Parameter entgegennimmt und eine\n",
    "Liste mit Grafiken (Rechtecken mit der entsprechenden Länge) zurückgibt."
   ]
  },
  {
   "cell_type": "markdown",
   "metadata": {},
   "source": [
    "### Histogramm mit PyTamaro"
   ]
  },
  {
   "cell_type": "markdown",
   "metadata": {
    "id": "v9YhiXgJCaUm"
   },
   "source": [
    "Die dafür nötigen PyTamaro Funktionen werden in der folgenden Zelle importiert."
   ]
  },
  {
   "cell_type": "code",
   "execution_count": 19,
   "metadata": {
    "id": "pYsOKGdvCaUm"
   },
   "outputs": [],
   "source": [
    "from pytamaro.de import (rechteck, text, Grafik,\n",
    "                         blau, schwarz, transparent, rgb_farbe,\n",
    "                         fixiere, kombiniere, drehe, ueber, ueberlagere, neben,\n",
    "                         unten_links, unten_rechts, oben_rechts, oben_links,\n",
    "                         mitte_rechts, mitte_links, oben_mitte, unten_mitte,\n",
    "                         zeige_grafik)"
   ]
  },
  {
   "cell_type": "markdown",
   "metadata": {
    "id": "tNL7GwNZv1Bw"
   },
   "source": [
    "Mit Hilfe von PyTamaro kann nun eine Funktion geschrieben werden, die\n",
    "Säulen mit fixer Breite und variabler Höhe in einer Liste ausgeben."
   ]
  },
  {
   "cell_type": "code",
   "execution_count": 20,
   "metadata": {
    "id": "spCNyueYCaUm"
   },
   "outputs": [],
   "source": [
    "def create_pillars(heights : list[float]) -> list[Grafik]:\n",
    "    fill_color = rgb_farbe(50, 255, 255)\n",
    "    width = 10\n",
    "    pillars = []\n",
    "\n",
    "    for height in heights:\n",
    "        contour = rechteck(width, height, schwarz)\n",
    "        if height > 2:\n",
    "            fill = rechteck(width - 2, height - 2, fill_color)\n",
    "            pillar = ueberlagere(fill, contour)\n",
    "        else:\n",
    "            pillar = contour\n",
    "        pillars.append(pillar)\n",
    "\n",
    "    return pillars\n",
    "\n",
    "saeulen = create_pillars(zahlen)"
   ]
  },
  {
   "cell_type": "markdown",
   "metadata": {
    "id": "zf0pnOXcCaUm"
   },
   "source": [
    "Abschliessend müssen die Säulen noch nebeneinander angeordnet werden.\n",
    "Dazu werden die Funktionen `fixiere()` und `kombiniere()` verwendet."
   ]
  },
  {
   "cell_type": "code",
   "execution_count": 21,
   "metadata": {
    "colab": {
     "base_uri": "https://localhost:8080/",
     "height": 34
    },
    "id": "HpyypIAACaUn",
    "outputId": "1237c06b-29f7-43d1-9755-f7849d66bb8d"
   },
   "outputs": [
    {
     "data": {
      "image/png": "[encoded data removed]",
      "text/plain": [
       "<PIL.PngImagePlugin.PngImageFile image mode=RGBA size=70x7>"
      ]
     },
     "metadata": {},
     "output_type": "display_data"
    }
   ],
   "source": [
    "def draw_histogram(pillars : list[Grafik]) -> Grafik:\n",
    "    histogram = fixiere(unten_rechts, pillars[0])\n",
    "\n",
    "    for i in range(1, len(pillars)):\n",
    "        histogram = kombiniere(histogram, fixiere(unten_links, pillars[i]))\n",
    "        histogram = fixiere(unten_rechts, histogram)\n",
    "\n",
    "    return(histogram)\n",
    "\n",
    "resultat = draw_histogram(saeulen)\n",
    "zeige_grafik(resultat)"
   ]
  },
  {
   "cell_type": "markdown",
   "metadata": {},
   "source": [
    "### Skalierung"
   ]
  },
  {
   "cell_type": "markdown",
   "metadata": {
    "id": "8aKSDA1SZaj2"
   },
   "source": [
    "Das Histogramm mit den absoluten, unbearbeiteten Zahlen ist etwas flach.\n",
    "Entsprechend muss die Darstellung skaliert werden. Eine Lösung könnte\n",
    "die Überhöhung der Werte sein. "
   ]
  },
  {
   "cell_type": "code",
   "execution_count": 22,
   "metadata": {
    "colab": {
     "base_uri": "https://localhost:8080/",
     "height": 87
    },
    "id": "DeTl2JRuZ4Ot",
    "outputId": "313f1304-d653-46ab-8b97-68ca71ba4c52"
   },
   "outputs": [
    {
     "data": {
      "image/png": "[encoded data removed]",
      "text/plain": [
       "<PIL.PngImagePlugin.PngImageFile image mode=RGBA size=70x70>"
      ]
     },
     "metadata": {},
     "output_type": "display_data"
    }
   ],
   "source": [
    "zahlen_ueberhoeht = [zahl * 10 for zahl in zahlen]\n",
    "ueberhoehte_saeulen = create_pillars(zahlen_ueberhoeht)\n",
    "histogram_ueberhoeht = draw_histogram(ueberhoehte_saeulen)\n",
    "\n",
    "zeige_grafik(histogram_ueberhoeht)"
   ]
  },
  {
   "cell_type": "markdown",
   "metadata": {
    "id": "sHSiHTN1a3Xh"
   },
   "source": [
    "Eine andere Variante ist die Arbeit mit relativen Werten. Die Zahlen in\n",
    "den einzelnen Klassen werden in Prozenten ausgedrückt. Die Prozentwerte\n",
    "werden dann als Histogramm dargestellt. Dies bietet den zusätzlichen Vorteil, dass\n",
    "verschiedene Samples besser miteinander verglichen werden können."
   ]
  },
  {
   "cell_type": "code",
   "execution_count": 23,
   "metadata": {
    "colab": {
     "base_uri": "https://localhost:8080/",
     "height": 44
    },
    "id": "D3zQvvH4bnBP",
    "outputId": "b9b444b7-91f8-4b39-aae1-c716ddeda735"
   },
   "outputs": [
    {
     "data": {
      "image/png": "[encoded data removed]",
      "text/plain": [
       "<PIL.PngImagePlugin.PngImageFile image mode=RGBA size=70x27>"
      ]
     },
     "metadata": {},
     "output_type": "display_data"
    }
   ],
   "source": [
    "zahlen_relativ = [zahl / sum(zahlen) * 100 for zahl in zahlen]\n",
    "relative_saeulen = create_pillars(zahlen_relativ)\n",
    "histogram_relativ = draw_histogram(relative_saeulen)\n",
    "\n",
    "zeige_grafik(histogram_relativ)"
   ]
  },
  {
   "cell_type": "markdown",
   "metadata": {
    "id": "CAeVUQmvcgBQ"
   },
   "source": [
    "Das Ganze ist immer noch etwas klein. In einem nächsten Schritt kann\n",
    "auch dieses Resultat noch skaliert werden."
   ]
  },
  {
   "cell_type": "code",
   "execution_count": 24,
   "metadata": {},
   "outputs": [
    {
     "data": {
      "image/png": "[encoded data removed]",
      "text/plain": [
       "<PIL.PngImagePlugin.PngImageFile image mode=RGBA size=70x54>"
      ]
     },
     "metadata": {},
     "output_type": "display_data"
    }
   ],
   "source": [
    "zahlen_relativ_ueberhoeht = [zahl / sum(zahlen) * 100 * 2 for zahl in zahlen]\n",
    "ueberhoehte_relative_saeulen = create_pillars(zahlen_relativ_ueberhoeht)\n",
    "histogram_relativ_ueberhoeht = draw_histogram(ueberhoehte_relative_saeulen)\n",
    "\n",
    "zeige_grafik(histogram_relativ_ueberhoeht)"
   ]
  },
  {
   "cell_type": "markdown",
   "metadata": {},
   "source": [
    "### Abschluss"
   ]
  },
  {
   "cell_type": "markdown",
   "metadata": {
    "id": "MVXcLNP8CaUn"
   },
   "source": [
    "Damit das Erstellen eines Histogramms für den Nutzer etwas komfortabler\n",
    "möglich ist, sollen nun die einzelnen Funktionen so kombiniert werden,\n",
    "dass einer Funktion eine Liste mit Werten übergeben werden kann und\n",
    "diese dann ein Histogramm zurückgibt."
   ]
  },
  {
   "cell_type": "code",
   "execution_count": 25,
   "metadata": {
    "id": "1gbTKopRCaUo"
   },
   "outputs": [],
   "source": [
    "def get_histogram(values : list[float]) -> Grafik:\n",
    "    bins = measure_to_bin(values)\n",
    "    relative_hights = relativierung_mit_ueberhoehung(bins)\n",
    "    pillars = create_pillars(relative_hights)\n",
    "    histogram = draw_histogram(pillars)\n",
    "    \n",
    "    return histogram\n",
    "\n",
    "\n",
    "def measure_to_bins(measurements : list[int]) -> list[float]:\n",
    "    bins = []\n",
    "    total = len(measurements)\n",
    "    lower_end = min(measurements) // 5 * 5\n",
    "    upper_end = max(measurements) // 5 * 5 + 5\n",
    "    counter = 0\n",
    "\n",
    "    for i in range(lower_end, upper_end, 5):\n",
    "        for measure in measurements:\n",
    "            if measure >= i and measure < i + 5:\n",
    "                counter += 1\n",
    "        bins.append(counter)\n",
    "        counter = 0\n",
    "\n",
    "    return bins\n",
    "\n",
    "def relativierung_mit_ueberhoehung(bins : list[int]) -> list[float]:\n",
    "    return[bin / sum(bins) * 100 * 2 for bin in bins]\n",
    "\n",
    "def create_pillars(heights : list[float]) -> list[Grafik]:\n",
    "    fill_color = rgb_farbe(50, 255, 255)\n",
    "    width = 10\n",
    "    pillars = []\n",
    "\n",
    "    for height in heights:\n",
    "        contour = rechteck(width, height, schwarz)\n",
    "        if height > 2:\n",
    "            fill = rechteck(width - 2, height - 2, fill_color)\n",
    "            pillar = ueberlagere(fill, contour)\n",
    "        else:\n",
    "            pillar = contour\n",
    "        pillars.append(pillar)\n",
    "\n",
    "    return pillars\n",
    "\n",
    "def draw_histogram(pillars : list[Grafik]) -> Grafik:\n",
    "    histogram = fixiere(unten_rechts, pillars[0])\n",
    "\n",
    "    for i in range(1, len(pillars)):\n",
    "        histogram = kombiniere(histogram, fixiere(unten_links, pillars[i]))\n",
    "        histogram = fixiere(unten_rechts, histogram)\n",
    "\n",
    "    return(histogram)"
   ]
  },
  {
   "cell_type": "code",
   "execution_count": 26,
   "metadata": {},
   "outputs": [
    {
     "data": {
      "image/png": "[encoded data removed]",
      "text/plain": [
       "<PIL.PngImagePlugin.PngImageFile image mode=RGBA size=70x54>"
      ]
     },
     "metadata": {},
     "output_type": "display_data"
    }
   ],
   "source": [
    "zeige_grafik(get_histogram(measurements))"
   ]
  },
  {
   "cell_type": "markdown",
   "metadata": {},
   "source": [
    "## Ausblick auf weitere Arten der Datenvisualisierung"
   ]
  },
  {
   "cell_type": "markdown",
   "metadata": {},
   "source": [
    "Weitere Formen der Datenvisualisierung werden im Lehrmittel *Informatik -\n",
    "Data Science und Sicherheit: Grundlagen der Informatik für Schweizer\n",
    "Maturitätsschulen*, Michael Barot et al., 1. Auflage Aufl., Baar 2022, im\n",
    "Kapitel 6, *Aus Daten lernen*, dargestellt. Wertvolle Anregungen finden\n",
    "sich insbesondere auch auf der Website des\n",
    "[Data Viz Project](https://datavizproject.com/),\n",
    "wo aufgezeigt wird, welche Form der Darstellung sich für welche Art von\n",
    "Daten eignet."
   ]
  },
  {
   "cell_type": "markdown",
   "metadata": {},
   "source": [
    "Die Aufbereitung von datenlastigen Inhalten kann in Jupyter\n",
    "Notebooks erfolgen. Dafür ist es nicht nötig, die Visualisierung von\n",
    "Grund auf selber zu programmieren. In Pyhton stehen dafür Libraries wie\n",
    "[pandas](https://pandas.pydata.org/)\n",
    "oder\n",
    "[matplotlib](https://matplotlib.org/)\n",
    "zur Verfügung."
   ]
  }
 ],
 "metadata": {
  "colab": {
   "include_colab_link": true,
   "provenance": [],
   "toc_visible": true
  },
  "kernelspec": {
   "display_name": "Python 3 (ipykernel)",
   "language": "python",
   "name": "python3"
  },
  "language_info": {
   "codemirror_mode": {
    "name": "ipython",
    "version": 3
   },
   "file_extension": ".py",
   "mimetype": "text/x-python",
   "name": "python",
   "nbconvert_exporter": "python",
   "pygments_lexer": "ipython3",
   "version": "3.12.1"
  }
 },
 "nbformat": 4,
 "nbformat_minor": 4
}

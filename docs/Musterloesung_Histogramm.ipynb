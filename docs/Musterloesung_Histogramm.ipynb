{
 "cells": [
  {
   "cell_type": "markdown",
   "metadata": {
    "colab_type": "text",
    "id": "view-in-github"
   },
   "source": [
    "<a href=\"https://colab.research.google.com/github/Jacques-Mock-Schindler/Studienleistung1/blob/musterloesung/docs/Musterloesung_Histogramm.ipynb\" target=\"_parent\"><img src=\"https://colab.research.google.com/assets/colab-badge.svg\" alt=\"Open In Colab\"/></a>"
   ]
  },
  {
   "cell_type": "code",
   "execution_count": 1,
   "metadata": {},
   "outputs": [],
   "source": [
    "from IPython.display import SVG, display\n",
    "import base64"
   ]
  },
  {
   "cell_type": "markdown",
   "metadata": {
    "id": "F5iNpl3ZCaUZ"
   },
   "source": [
    "# Histogramme zeichnen mit PyTamaro"
   ]
  },
  {
   "cell_type": "markdown",
   "metadata": {},
   "source": [
    "In einem Histogramm wird die Verteilung der Häufigkeit von Werten\n",
    "dargestellt. So kann zum Beispiel die Prüfungsleistung einer Schulklasse\n",
    "in einem Histogramm dargestellt werden. Dabei wird gezählt, wie viele\n",
    "Schülerinnen und Schüler eine Note zwischen 1 und 1.9, 2 und 2.9, ... , 5\n",
    "und 6 erreicht haben. Für die grafische Darstellung werden dann\n",
    "Rechtecke mit einer fixen Breite und einer Höhe, die proportional zur\n",
    "Anzahl der jeweiligen Leistungen gezeichnet. Diese Rechtecke werden dann\n",
    "nach der Leistung sortiert nebeneinander dargestellt.\n",
    "\n",
    "Die Darstellung kann variert werden, in dem die Gruppierung der Werte\n",
    "verändert wird (Anstatt die Anzahl der Noten zwischen 4 und 5, die\n",
    "Anzahl der Noten zwischen 4.1 und 4.5 sowie 4.6 und 5).\n",
    "\n",
    "Für die Darstellung der Häufigkeit bestimmter Werte kann sowohl auf\n",
    "deren Anzahl oder auf deren prozentualen Anteil an allen Werten\n",
    "abgestellt werden.\n",
    "\n",
    "Die folgende Grafik ist ein Beispiel für ein Histogramm, welches die\n",
    "Verteilung der Noten in einer Prüfung des obligatorischen Fachs\n",
    "Informatik darstellt."
   ]
  },
  {
   "cell_type": "markdown",
   "metadata": {},
   "source": [
    "<img src=\"data:image/png;base64,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\">"
   ]
  },
  {
   "cell_type": "markdown",
   "metadata": {
    "id": "rWRptfRnCaUc"
   },
   "source": [
    "In dieser Übung zeichnen Sie ein Histogramm mit der Verteilung der\n",
    "Körpergrössen der Schülerinnen und Schüler in Ihrer Klasse."
   ]
  },
  {
   "cell_type": "markdown",
   "metadata": {
    "id": "TmSfAVOLCaUc"
   },
   "source": [
    "Hier folgt die Zelle zum Laden von PyTamaro in Google Colaboratory\n",
    "(diese Zelle muss nur ausgeführt werden, wenn in Google Colaboratory\n",
    "gearbeitet wird):"
   ]
  },
  {
   "cell_type": "code",
   "execution_count": null,
   "metadata": {
    "colab": {
     "base_uri": "https://localhost:8080/"
    },
    "id": "SkyMq9ziCaUd",
    "outputId": "af09e9d8-fb9c-4455-ce2d-d7e7a64c75aa"
   },
   "outputs": [],
   "source": [
    "! pip install pytamaro"
   ]
  },
  {
   "cell_type": "markdown",
   "metadata": {
    "id": "kDugg1LDCaUe"
   },
   "source": [
    "## Listen in Python (Einführung)"
   ]
  },
  {
   "cell_type": "markdown",
   "metadata": {},
   "source": [
    "Damit die\n",
    "Körpergrössen in Python sinnvoll verarbeitet werden können, brauchen wir\n",
    "die Datenstruktur *Liste*.\n",
    "\n",
    "In Python können Listen dazu verwendet werden, einer Variabel mehrere Werte\n",
    "zuzuweisen. Die Werte behalten dabei grundsätzlich ihre ursprüngliche\n",
    "Reihenfolge bei."
   ]
  },
  {
   "cell_type": "markdown",
   "metadata": {},
   "source": [
    "### Listen erstellen"
   ]
  },
  {
   "cell_type": "markdown",
   "metadata": {},
   "source": [
    "Am einfachsten werden Listen durch die Eingabe von konkreten Werten des\n",
    "betrachteten Datentypen erstellt. Dazu werden die\n",
    "Werte der Liste durch Kommas getrennt in eckigen Klammern geschrieben:"
   ]
  },
  {
   "cell_type": "code",
   "execution_count": 2,
   "metadata": {
    "colab": {
     "base_uri": "https://localhost:8080/"
    },
    "id": "-JopSBpPCaUe",
    "outputId": "57a57691-ed5d-4552-f4ff-91e50ec9b7c9"
   },
   "outputs": [
    {
     "name": "stdout",
     "output_type": "stream",
     "text": [
      "[1, 8, 3]\n",
      "['Spinat', 'Sellerie', 'Blumenkohl']\n"
     ]
    }
   ],
   "source": [
    "numbers = [1, 8, 3]\n",
    "print(numbers)\n",
    "vegetables = ['Spinat', 'Sellerie', 'Blumenkohl']\n",
    "print(vegetables)"
   ]
  },
  {
   "cell_type": "markdown",
   "metadata": {
    "id": "H22ClUTKCaUf"
   },
   "source": [
    "### Auf Elemente einer Liste zugreifen"
   ]
  },
  {
   "cell_type": "markdown",
   "metadata": {},
   "source": [
    "Die Elemente einer Liste sind geordnet und indexiert. Geordnet heisst,\n",
    "dass die Liste die Reihenfolge der Elemente so behält, wie sie erstellt\n",
    "wird - zumindest solange die Liste nicht verändert wird. Indexiert\n",
    "heisst, dass jedes Element einer Liste eine Nummer erhält. Allerdings\n",
    "beginnt man mit Null zu zählen. Das bedeutet, dass der `Sellerie` in der\n",
    "Liste `vegetables`den Index `1` hat. \n",
    "\n",
    "Um das zweite Element der Liste auszugeben, muss Python nach dem Element\n",
    "mit dem Index `1` der entsprechenden Liste gefragt werden:"
   ]
  },
  {
   "cell_type": "code",
   "execution_count": 3,
   "metadata": {
    "colab": {
     "base_uri": "https://localhost:8080/"
    },
    "id": "dXTe-503CaUg",
    "outputId": "b7c3a2b6-6b35-4e46-a12d-61f6db0234a0"
   },
   "outputs": [
    {
     "name": "stdout",
     "output_type": "stream",
     "text": [
      "Sellerie\n"
     ]
    }
   ],
   "source": [
    "print(vegetables[1])"
   ]
  },
  {
   "cell_type": "markdown",
   "metadata": {},
   "source": [
    "### List Comprehension"
   ]
  },
  {
   "cell_type": "markdown",
   "metadata": {
    "id": "uSuZZmQvCaUh"
   },
   "source": [
    "Listen können auch mit einer sogenannten *list comprehension* erstellt werden."
   ]
  },
  {
   "cell_type": "code",
   "execution_count": 1,
   "metadata": {
    "colab": {
     "base_uri": "https://localhost:8080/"
    },
    "id": "wmdmWmFVCaUh",
    "outputId": "9bebf33d-2f20-402d-9393-e8ab31b9bb11"
   },
   "outputs": [
    {
     "name": "stdout",
     "output_type": "stream",
     "text": [
      "[1, 2, 3, 4, 5, 6, 7, 8, 9, 10, 11, 12, 13, 14, 15, 16, 17, 18, 19, 20]\n"
     ]
    }
   ],
   "source": [
    "example_numbers = [i for i in range(1,21)]\n",
    "print(example_numbers)"
   ]
  },
  {
   "cell_type": "markdown",
   "metadata": {},
   "source": [
    "Eine *list comprehension* funktioniert ähnlich, wie die Beschreibung\n",
    "einer Menge in \n",
    "der Mathematik ($\\{x \\in \\mathbb{N} \\mid \\color{red} 1 \\geq x > 21\\color{black}\\}$).\n",
    "\n",
    "Der Teil\n",
    "\n",
    "```Python\n",
    "for i in range(1,21)\n",
    "```\n",
    "entspricht dabei der Bedingung (oben rot dargestellt) in der Beschreibung einer Menge. `1` ist\n",
    "der Startwert für den Zähler `i` und 21 die obere Grenze."
   ]
  },
  {
   "cell_type": "markdown",
   "metadata": {},
   "source": [
    "### Über Listen iterieren"
   ]
  },
  {
   "cell_type": "markdown",
   "metadata": {
    "id": "du5b75h7CaUh"
   },
   "source": [
    "Listen sind nützliche Datenstrukturen, weil sie Element für Element durchlaufen werden\n",
    "können. Dabei kann jedes einzelne Element als Parameter einer Funktion\n",
    "übergeben werden.\n",
    "\n",
    "Dies kann mit Hilfe einer `for`-Schleife erfolgen. Als Beispiel werden\n",
    "alle Werte der Liste `example_numbers` quadriert.\n"
   ]
  },
  {
   "cell_type": "code",
   "execution_count": 7,
   "metadata": {},
   "outputs": [
    {
     "name": "stdout",
     "output_type": "stream",
     "text": [
      "1\n",
      "4\n",
      "9\n",
      "16\n",
      "25\n",
      "36\n",
      "49\n",
      "64\n",
      "81\n",
      "100\n",
      "121\n",
      "144\n",
      "169\n",
      "196\n",
      "225\n",
      "256\n",
      "289\n",
      "324\n",
      "361\n",
      "400\n"
     ]
    }
   ],
   "source": [
    "for i in range(20):\n",
    "    print(example_numbers[i] ** 2)"
   ]
  },
  {
   "cell_type": "markdown",
   "metadata": {},
   "source": [
    "Diese Schreibweise erfordert, dass wir wissen, wie lange die zu\n",
    "bearbeitende Liste ist."
   ]
  },
  {
   "cell_type": "markdown",
   "metadata": {},
   "source": [
    "Python stellt eine Vereinfachung zur Verfügung. Dabei wird Element für\n",
    "Element immer der gleichen Variabel zugewiesen. Die gewünschte Operation\n",
    "wird dann mit dieser Variabel durchgeführt. Die entsprechende Syntax\n",
    "zeigt das folgende Beispiel."
   ]
  },
  {
   "cell_type": "code",
   "execution_count": 2,
   "metadata": {
    "colab": {
     "base_uri": "https://localhost:8080/"
    },
    "id": "7HvZzt3HCaUi",
    "outputId": "7b689037-a8da-4449-dd05-ac70f3dc5874",
    "tags": []
   },
   "outputs": [
    {
     "name": "stdout",
     "output_type": "stream",
     "text": [
      "1\n",
      "4\n",
      "9\n",
      "16\n",
      "25\n",
      "36\n",
      "49\n",
      "64\n",
      "81\n",
      "100\n",
      "121\n",
      "144\n",
      "169\n",
      "196\n",
      "225\n",
      "256\n",
      "289\n",
      "324\n",
      "361\n",
      "400\n"
     ]
    }
   ],
   "source": [
    "for example in example_numbers:\n",
    "    print(example ** 2)"
   ]
  },
  {
   "cell_type": "markdown",
   "metadata": {
    "id": "ARyKYoOMCaUi"
   },
   "source": [
    "Es hat sich eingebürgert, für Listen Namen von Variablen im Plural zu\n",
    "wählen. Dann können die einzelnen Elemente im Singular bezeichnet\n",
    "werden. Dies ist jedoch reine Konvention und technisch nicht\n",
    "erforderlich. Um das zu zeigen, findet sich unten ein Beispiel, das sich\n",
    "*nicht* an diese Konvention hält. Dazu wird die Liste `example_numbers` zuerst der Variablen $y$ zugewiesen."
   ]
  },
  {
   "cell_type": "code",
   "execution_count": 3,
   "metadata": {
    "colab": {
     "base_uri": "https://localhost:8080/"
    },
    "id": "giy8ck8mCaUi",
    "outputId": "11860cf3-b520-4f4e-f875-514a2bfcec6e",
    "tags": []
   },
   "outputs": [
    {
     "name": "stdout",
     "output_type": "stream",
     "text": [
      "1\n",
      "4\n",
      "9\n",
      "16\n",
      "25\n",
      "36\n",
      "49\n",
      "64\n",
      "81\n",
      "100\n",
      "121\n",
      "144\n",
      "169\n",
      "196\n",
      "225\n",
      "256\n",
      "289\n",
      "324\n",
      "361\n",
      "400\n"
     ]
    }
   ],
   "source": [
    "y = example_numbers\n",
    "for x in y:\n",
    "    print(x ** 2)"
   ]
  },
  {
   "cell_type": "markdown",
   "metadata": {},
   "source": [
    "### Leere Listen"
   ]
  },
  {
   "cell_type": "markdown",
   "metadata": {
    "id": "RqjFLQHfCaUi"
   },
   "source": [
    "Listen können auch leer sein. Eine leere Liste wird folgendermassen\n",
    "erstellt: "
   ]
  },
  {
   "cell_type": "code",
   "execution_count": null,
   "metadata": {
    "id": "EXLuzi6ZCaUi"
   },
   "outputs": [],
   "source": [
    "leere_liste = []"
   ]
  },
  {
   "cell_type": "markdown",
   "metadata": {},
   "source": [
    "### Listen ergänzen"
   ]
  },
  {
   "cell_type": "markdown",
   "metadata": {
    "id": "oTf-xU25CaUi"
   },
   "source": [
    "Wenn einer bestehenden Liste ein Element angefügt werden soll, stellt\n",
    "Python die Funktion `listenname.append(Element)` zur Verfügung."
   ]
  },
  {
   "cell_type": "code",
   "execution_count": 6,
   "metadata": {
    "colab": {
     "base_uri": "https://localhost:8080/"
    },
    "id": "HXOwZgSkCaUj",
    "outputId": "76d69230-1deb-4ed7-9036-74e0c2f7ea56"
   },
   "outputs": [
    {
     "name": "stdout",
     "output_type": "stream",
     "text": [
      "[2, 5, 1]\n",
      "[2, 5, 1, 7]\n"
     ]
    }
   ],
   "source": [
    "ein_paar_elemente = [2, 5, 1]\n",
    "print(ein_paar_elemente)\n",
    "ein_paar_elemente.append(7)\n",
    "print(ein_paar_elemente)"
   ]
  },
  {
   "cell_type": "markdown",
   "metadata": {},
   "source": [
    "## Anwendung"
   ]
  },
  {
   "cell_type": "markdown",
   "metadata": {},
   "source": [
    "### Erstellen einer Liste aus ihren Elementen"
   ]
  },
  {
   "cell_type": "markdown",
   "metadata": {
    "id": "pzxvOUm2CaUj"
   },
   "source": [
    "Als nächstes nehmen Sie die gemessenen Grössen in der Klasse in eine\n",
    "Liste `measurements` auf. Die entsprechenden Werte finden Sie im File\n",
    "[Koerpergroessen.CSV](Koerpergroessen.CSV). Berücksichtigen Sie dabei,\n",
    "dass nicht alle vorhandenen Daten in der richtigen Form vorliegen."
   ]
  },
  {
   "cell_type": "code",
   "execution_count": 7,
   "metadata": {
    "id": "3QAU5RjkCaUj"
   },
   "outputs": [],
   "source": [
    "measurements = [179, 160, 167, 180, 169, 175, 177, 182, 161, 166, \n",
    "                177, 179, 178, 172, 170, 164, 155, 171, 173, 161, \n",
    "                185, 158, 169, 172, 170, 175]"
   ]
  },
  {
   "cell_type": "markdown",
   "metadata": {},
   "source": [
    "### Einteilung der Daten in Intervalle"
   ]
  },
  {
   "cell_type": "markdown",
   "metadata": {
    "id": "SQsjq584CaUk"
   },
   "source": [
    "Damit aus der Liste der Körpergrössen ein Histogramm gezeichnet werden\n",
    "kann, müssen die Körpergrössen in Intervalle (engl. bin) eingeteilt werden\n",
    "und die Elemente einer Klasse gezählt werden.\n",
    "\n",
    "Für das vorliegende Histogramm sollen die Körpergrössen in Intervalle\n",
    "mit 5cm Abstand eingeteilt werden. Das heisst, ein Intervall sind zum\n",
    "Beispiel alle Werte von 160cm bis 164cm.\n",
    "\n",
    "Als Beispiel sehen Sie in der folgenden Zelle eine Schleife, die einmal über alle\n",
    "Grössen iteriert und dabei zählt, wie viele Werte zwischen 160cm bis 164cm liegen."
   ]
  },
  {
   "cell_type": "code",
   "execution_count": 14,
   "metadata": {
    "colab": {
     "base_uri": "https://localhost:8080/"
    },
    "id": "CmFdn-GeCaUk",
    "outputId": "615f1359-9d1e-4eb3-cba9-d48cd76568e6"
   },
   "outputs": [
    {
     "name": "stdout",
     "output_type": "stream",
     "text": [
      "4\n"
     ]
    }
   ],
   "source": [
    "bin_160_bis_164 = 0\n",
    "for measure in measurements:\n",
    "    if measure >= 160 and measure < 165:\n",
    "        bin_160_bis_164 += 1\n",
    "\n",
    "print(bin_160_bis_164)"
   ]
  },
  {
   "cell_type": "markdown",
   "metadata": {},
   "source": [
    "### `if`-Statement"
   ]
  },
  {
   "cell_type": "markdown",
   "metadata": {
    "id": "u7gOGj9pCaUk"
   },
   "source": [
    "Dieses Code Snippet führt eine Bedingung ein.\n",
    "Bedingungen oder\n",
    "sogenannte `if`-Statements stellen sicher, dass bestimmter Code nur\n",
    "ausgeführt wird, wenn die Bedingung, die geprüft wird, eingehalten wird. Im\n",
    "Beispiel werden zwei Bedingungen geprüft, die kumulativ erfüllt sein\n",
    "müssen (erste Bedinung `measure >= 160`, zweite Bedingung\n",
    "`measure < 165`). Das heisst, wenn beide Bedingungen erfüllt sind, wird\n",
    "`bin_160_bis_164 += 1` ausgeführt. Dies ist eine Kurzschreibweise für\n",
    "`bin_160_bis_164 = bin_160_bis_164 + 1`. Es wird also jedesmal, wenn die Bedingung erfüllt ist, `bin_160_bis_164` um 1 hochgezählt.\n",
    "\n",
    "Damit dies für alle 5-cm-Klassen in der Liste verallgemeinert werden kann, muss der kleinste und der grösste Wert der Liste bekannt sein.\n",
    "\n",
    "Das Minimum einer Liste kann folgendermassen ermittelt werden:"
   ]
  },
  {
   "cell_type": "code",
   "execution_count": 15,
   "metadata": {
    "colab": {
     "base_uri": "https://localhost:8080/"
    },
    "id": "7lT0kRtSCaUl",
    "outputId": "4e6920a5-04fa-4a4f-d4cf-fd9814e3fd0f"
   },
   "outputs": [
    {
     "name": "stdout",
     "output_type": "stream",
     "text": [
      "155\n"
     ]
    }
   ],
   "source": [
    "def get_minimum(input : list[int]) -> int:\n",
    "    minimum = input[0]\n",
    "\n",
    "    for value in input:\n",
    "        if value < minimum:\n",
    "            minimum = value\n",
    "\n",
    "    return minimum\n",
    "\n",
    "print(get_minimum(measurements))"
   ]
  },
  {
   "cell_type": "markdown",
   "metadata": {
    "id": "KXNtNqSECaUl"
   },
   "source": [
    "Schreiben Sie eine vergleichbare Funktion, die das Maximum einer Liste ausgibt."
   ]
  },
  {
   "cell_type": "code",
   "execution_count": 16,
   "metadata": {
    "colab": {
     "base_uri": "https://localhost:8080/"
    },
    "id": "mkZ4OewdCaUl",
    "outputId": "f6748a57-f32b-4f80-db81-456a62daed91"
   },
   "outputs": [
    {
     "name": "stdout",
     "output_type": "stream",
     "text": [
      "185\n"
     ]
    }
   ],
   "source": [
    "def get_maximum(input : list[int]) -> int:\n",
    "    maximum = input[0]\n",
    "\n",
    "    for value in input:\n",
    "        if value > maximum:\n",
    "            maximum = value\n",
    "\n",
    "    return maximum\n",
    "print(get_maximum(measurements))"
   ]
  },
  {
   "cell_type": "markdown",
   "metadata": {},
   "source": [
    "### Vertiefung `if`-Statements"
   ]
  },
  {
   "cell_type": "markdown",
   "metadata": {
    "id": "vjnFZulgCaUl"
   },
   "source": [
    "Um die Möglichkeiten, welche `if`-Statements bieten, noch etwas weiter zu\n",
    "illustrieren, finden Sie in der nächsten Zelle eine Schleife, welche\n",
    "gerade Zahlen quadriert und ungerade mit drei potenziert. Falls statt\n",
    "einer Zahl ein anderer Datentyp auftaucht, wird der String `unzulässiger\n",
    "Input` in die Liste der Resultate eingetragen."
   ]
  },
  {
   "cell_type": "code",
   "execution_count": 17,
   "metadata": {
    "colab": {
     "base_uri": "https://localhost:8080/"
    },
    "id": "Ou2wd3EmCaUl",
    "outputId": "c053af96-f526-4f73-ed8d-7bef423ad5f8"
   },
   "outputs": [
    {
     "name": "stdout",
     "output_type": "stream",
     "text": [
      "[1, 4, 27, 16, 125, 'unzulässiger Input', 343, 64, 729]\n"
     ]
    }
   ],
   "source": [
    "demo_list = [1, 2, 3, 4, 5, 'hallo', 7, 8, 9]\n",
    "\n",
    "def if_demo(numbers : list[int]) -> list[int]:\n",
    "    results = []\n",
    "    for number in numbers:\n",
    "        if type(number) != int:\n",
    "            results.append('unzulässiger Input')\n",
    "        elif number % 2 == 0:\n",
    "            results.append(number ** 2)\n",
    "        else:\n",
    "            results.append(number ** 3)\n",
    "    return results\n",
    "\n",
    "print(if_demo(demo_list))"
   ]
  },
  {
   "cell_type": "markdown",
   "metadata": {},
   "source": [
    "Das Beispiel `if_demo()` sieht als Flussdiagramm dargestellt folgendermassen aus:\n"
   ]
  },
  {
   "cell_type": "markdown",
   "metadata": {},
   "source": [
    "![Flussdiagramm if_demo()](../visualisierung/flow_chart.png)"
   ]
  },
  {
   "cell_type": "markdown",
   "metadata": {},
   "source": [
    "Als Struktogramm sieht das Beispiel `if_demo()` folgendermassen aus:"
   ]
  },
  {
   "cell_type": "markdown",
   "metadata": {},
   "source": [
    "![Struktogramm if_demo()](../visualisierung/struktogram.png)"
   ]
  },
  {
   "cell_type": "markdown",
   "metadata": {
    "id": "b2zVJWYqCaUm"
   },
   "source": [
    "In diesem Beispiel bedeutet `!=` **nicht**. Es wird\n",
    "geprüft, ob `number` vom Typ `int` ist, wenn dies nicht der Fall ist, wird\n",
    "in der Resultatliste `unzulässiger Input` eingetragen. Mit `elif` wird\n",
    "eine zweite Bedingung geprüft. Im Beispiel ob die Zahl ohne Rest durch 2\n",
    "teilbar ist (`number % 2 == 0`). Damit Python zwischen einem Vergleich\n",
    "und einer Zuweisung unterscheiden kann, wird bei Vergleichen ein\n",
    "doppeltes Gleichheitszeichen verwendet. Falls keine der beiden geprüften\n",
    "Bedingungen erfüllt ist, wird mit `else` angezeigt, was mit dem Rest der\n",
    "Fälle zu geschehen habe.\n",
    "\n",
    "Aus den obigen Beispielen geht implizit hervor, dass sowohl `elif` wie\n",
    "auch `else` optional sind. Mit `elif` werden die Bedinungen $2, 3, ...,\n",
    "n$ eingefügt. Weil mit `else` das *default* verhalten festgelegt wird,\n",
    "kann `else` nur einmal vorkommen."
   ]
  },
  {
   "cell_type": "markdown",
   "metadata": {},
   "source": [
    "### Systemeigene Python Funktion `min()` und `max()`"
   ]
  },
  {
   "cell_type": "markdown",
   "metadata": {},
   "source": [
    "Dass das Minimum oder das Maximum aus einer Liste mit Werten gesucht wird, ist relativ häufig.\n",
    "Python stellt daher eine systemeigene Funktion `min()` und `max()` zur Verfügung, welche das Miniumum bzw. das Maximum einer Liste ausgeben. Trotzdem war das eine gute Fingerübung, um sich mit der\n",
    "Funktion von Bedingungen vertraut zu machen."
   ]
  },
  {
   "cell_type": "markdown",
   "metadata": {},
   "source": [
    "### Zählen der Werte für die einzelnen Klassen"
   ]
  },
  {
   "cell_type": "markdown",
   "metadata": {
    "id": "yVGoAacnCaUm"
   },
   "source": [
    "Nun sollten Sie in der Lage sein, den Beispiel-Code für die Grössen\n",
    "zwischen 160cm und 164cm zu verallgemeinern, so dass die\n",
    "ganze Liste der Körpergrössen in 5cm Bins \"abgefüllt\" wird.\n",
    "\n",
    "Hinweis: Die einzelnen Bins sind ihrerseits Elemente einer Liste."
   ]
  },
  {
   "cell_type": "code",
   "execution_count": 18,
   "metadata": {
    "colab": {
     "base_uri": "https://localhost:8080/"
    },
    "id": "BUl3NIpfCaUm",
    "outputId": "570a23a7-c044-420f-adaf-c81cc4fd742b"
   },
   "outputs": [
    {
     "name": "stdout",
     "output_type": "stream",
     "text": [
      "[2, 4, 4, 6, 7, 2, 1]\n"
     ]
    }
   ],
   "source": [
    "def measure_to_bin(measurements : list[int]) -> list[float]:\n",
    "    bins = []\n",
    "    total = len(measurements)\n",
    "    lower_end = min(measurements) // 5 * 5\n",
    "    upper_end = max(measurements) // 5 * 5 + 5\n",
    "    counter = 0\n",
    "\n",
    "    for i in range(lower_end, upper_end, 5):\n",
    "        for measure in measurements:\n",
    "            if measure >= i and measure < i + 5:\n",
    "                counter += 1\n",
    "        bins.append(counter)\n",
    "        counter = 0\n",
    "\n",
    "    return bins\n",
    "\n",
    "zahlen = measure_to_bin(measurements)\n",
    "\n",
    "print(measure_to_bin(measurements))"
   ]
  },
  {
   "cell_type": "markdown",
   "metadata": {},
   "source": [
    "## Visualisierung"
   ]
  },
  {
   "cell_type": "markdown",
   "metadata": {},
   "source": [
    "Die so gruppierten Werte können nun visualisiert werden. Dazu braucht es\n",
    "eine Funktion, welche eine Liste als Parameter entgegennimmt und eine\n",
    "Liste mit Grafiken (Rechtecken mit der entsprechenden Länge) zurückgibt."
   ]
  },
  {
   "cell_type": "markdown",
   "metadata": {},
   "source": [
    "### Histogramm mit PyTamaro"
   ]
  },
  {
   "cell_type": "markdown",
   "metadata": {
    "id": "v9YhiXgJCaUm"
   },
   "source": [
    "Die dafür nötigen PyTamaro Funktionen werden in der folgenden Zelle importiert."
   ]
  },
  {
   "cell_type": "code",
   "execution_count": 19,
   "metadata": {
    "id": "pYsOKGdvCaUm"
   },
   "outputs": [],
   "source": [
    "from pytamaro.de import (rechteck, text, Grafik,\n",
    "                         blau, schwarz, transparent, rgb_farbe,\n",
    "                         fixiere, kombiniere, drehe, ueber, ueberlagere, neben,\n",
    "                         unten_links, unten_rechts, oben_rechts, oben_links,\n",
    "                         mitte_rechts, mitte_links, oben_mitte, unten_mitte,\n",
    "                         zeige_grafik)"
   ]
  },
  {
   "cell_type": "markdown",
   "metadata": {
    "id": "tNL7GwNZv1Bw"
   },
   "source": [
    "Mit Hilfe von PyTamaro kann nun eine Funktion geschrieben werden, die\n",
    "Säulen mit fixer Breite und variabler Höhe in einer Liste ausgeben."
   ]
  },
  {
   "cell_type": "code",
   "execution_count": 20,
   "metadata": {
    "id": "spCNyueYCaUm"
   },
   "outputs": [],
   "source": [
    "def create_pillars(heights : list[float]) -> list[Grafik]:\n",
    "    fill_color = rgb_farbe(50, 255, 255)\n",
    "    width = 10\n",
    "    pillars = []\n",
    "\n",
    "    for height in heights:\n",
    "        contour = rechteck(width, height, schwarz)\n",
    "        if height > 2:\n",
    "            fill = rechteck(width - 2, height - 2, fill_color)\n",
    "            pillar = ueberlagere(fill, contour)\n",
    "        else:\n",
    "            pillar = contour\n",
    "        pillars.append(pillar)\n",
    "\n",
    "    return pillars\n",
    "\n",
    "saeulen = create_pillars(zahlen)"
   ]
  },
  {
   "cell_type": "markdown",
   "metadata": {
    "id": "zf0pnOXcCaUm"
   },
   "source": [
    "Abschliessend müssen die Säulen noch nebeneinander angeordnet werden.\n",
    "Dazu werden die Funktionen `fixiere()` und `kombiniere()` verwendet."
   ]
  },
  {
   "cell_type": "code",
   "execution_count": 21,
   "metadata": {
    "colab": {
     "base_uri": "https://localhost:8080/",
     "height": 34
    },
    "id": "HpyypIAACaUn",
    "outputId": "1237c06b-29f7-43d1-9755-f7849d66bb8d"
   },
   "outputs": [
    {
     "data": {
      "image/png": "[encoded data removed]",
      "text/plain": [
       "<PIL.PngImagePlugin.PngImageFile image mode=RGBA size=70x7>"
      ]
     },
     "metadata": {},
     "output_type": "display_data"
    }
   ],
   "source": [
    "def draw_histogram(pillars : list[Grafik]) -> Grafik:\n",
    "    histogram = fixiere(unten_rechts, pillars[0])\n",
    "\n",
    "    for i in range(1, len(pillars)):\n",
    "        histogram = kombiniere(histogram, fixiere(unten_links, pillars[i]))\n",
    "        histogram = fixiere(unten_rechts, histogram)\n",
    "\n",
    "    return(histogram)\n",
    "\n",
    "resultat = draw_histogram(saeulen)\n",
    "zeige_grafik(resultat)"
   ]
  },
  {
   "cell_type": "markdown",
   "metadata": {},
   "source": [
    "### Skalierung"
   ]
  },
  {
   "cell_type": "markdown",
   "metadata": {
    "id": "8aKSDA1SZaj2"
   },
   "source": [
    "Das Histogramm mit den absoluten, unbearbeiteten Zahlen ist etwas flach.\n",
    "Entsprechend muss die Darstellung skaliert werden. Eine Lösung könnte\n",
    "die Überhöhung der Werte sein. "
   ]
  },
  {
   "cell_type": "code",
   "execution_count": 22,
   "metadata": {
    "colab": {
     "base_uri": "https://localhost:8080/",
     "height": 87
    },
    "id": "DeTl2JRuZ4Ot",
    "outputId": "313f1304-d653-46ab-8b97-68ca71ba4c52"
   },
   "outputs": [
    {
     "data": {
      "image/png": "[encoded data removed]",
      "text/plain": [
       "<PIL.PngImagePlugin.PngImageFile image mode=RGBA size=70x70>"
      ]
     },
     "metadata": {},
     "output_type": "display_data"
    }
   ],
   "source": [
    "zahlen_ueberhoeht = [zahl * 10 for zahl in zahlen]\n",
    "ueberhoehte_saeulen = create_pillars(zahlen_ueberhoeht)\n",
    "histogram_ueberhoeht = draw_histogram(ueberhoehte_saeulen)\n",
    "\n",
    "zeige_grafik(histogram_ueberhoeht)"
   ]
  },
  {
   "cell_type": "markdown",
   "metadata": {
    "id": "sHSiHTN1a3Xh"
   },
   "source": [
    "Eine andere Variante ist die Arbeit mit relativen Werten. Die Zahlen in\n",
    "den einzelnen Klassen werden in Prozenten ausgedrückt. Die Prozentwerte\n",
    "werden dann als Histogramm dargestellt. Dies bietet den zusätzlichen Vorteil, dass\n",
    "verschiedene Samples besser miteinander verglichen werden können."
   ]
  },
  {
   "cell_type": "code",
   "execution_count": 23,
   "metadata": {
    "colab": {
     "base_uri": "https://localhost:8080/",
     "height": 44
    },
    "id": "D3zQvvH4bnBP",
    "outputId": "b9b444b7-91f8-4b39-aae1-c716ddeda735"
   },
   "outputs": [
    {
     "data": {
      "image/png": "[encoded data removed]",
      "text/plain": [
       "<PIL.PngImagePlugin.PngImageFile image mode=RGBA size=70x27>"
      ]
     },
     "metadata": {},
     "output_type": "display_data"
    }
   ],
   "source": [
    "zahlen_relativ = [zahl / sum(zahlen) * 100 for zahl in zahlen]\n",
    "relative_saeulen = create_pillars(zahlen_relativ)\n",
    "histogram_relativ = draw_histogram(relative_saeulen)\n",
    "\n",
    "zeige_grafik(histogram_relativ)"
   ]
  },
  {
   "cell_type": "markdown",
   "metadata": {
    "id": "CAeVUQmvcgBQ"
   },
   "source": [
    "Das ganze ist immer noch etwas klein. In einem nächsten Schritt kann\n",
    "auch dieses Resultat noch skaliert werden."
   ]
  },
  {
   "cell_type": "code",
   "execution_count": 24,
   "metadata": {},
   "outputs": [
    {
     "data": {
      "image/png": "[encoded data removed]",
      "text/plain": [
       "<PIL.PngImagePlugin.PngImageFile image mode=RGBA size=70x54>"
      ]
     },
     "metadata": {},
     "output_type": "display_data"
    }
   ],
   "source": [
    "zahlen_relativ_ueberhoeht = [zahl / sum(zahlen) * 100 * 2 for zahl in zahlen]\n",
    "ueberhoehte_relative_saeulen = create_pillars(zahlen_relativ_ueberhoeht)\n",
    "histogram_relativ_ueberhoeht = draw_histogram(ueberhoehte_relative_saeulen)\n",
    "\n",
    "zeige_grafik(histogram_relativ_ueberhoeht)"
   ]
  },
  {
   "cell_type": "markdown",
   "metadata": {},
   "source": [
    "### Abschluss"
   ]
  },
  {
   "cell_type": "markdown",
   "metadata": {
    "id": "MVXcLNP8CaUn"
   },
   "source": [
    "Damit das Erstellen eines Histogramms für den Nutzer etwas komfortabler\n",
    "möglich ist, sollen nun die einzelnen Funktionen so kombiniert werden,\n",
    "dass einer Funktion eine Liste mit Werten übergeben werden kann und\n",
    "diese dann ein Histogramm zurückgibt."
   ]
  },
  {
   "cell_type": "code",
   "execution_count": 25,
   "metadata": {
    "id": "1gbTKopRCaUo"
   },
   "outputs": [],
   "source": [
    "def get_histogram(values : list[float]) -> Grafik:\n",
    "    bins = measure_to_bin(values)\n",
    "    relative_hights = relativierung_mit_ueberhoehung(bins)\n",
    "    pillars = create_pillars(relative_hights)\n",
    "    histogram = draw_histogram(pillars)\n",
    "    \n",
    "    return histogram\n",
    "\n",
    "\n",
    "def measure_to_bins(measurements : list[int]) -> list[float]:\n",
    "    bins = []\n",
    "    total = len(measurements)\n",
    "    lower_end = min(measurements) // 5 * 5\n",
    "    upper_end = max(measurements) // 5 * 5 + 5\n",
    "    counter = 0\n",
    "\n",
    "    for i in range(lower_end, upper_end, 5):\n",
    "        for measure in measurements:\n",
    "            if measure >= i and measure < i + 5:\n",
    "                counter += 1\n",
    "        bins.append(counter)\n",
    "        counter = 0\n",
    "\n",
    "    return bins\n",
    "\n",
    "def relativierung_mit_ueberhoehung(bins : list[int]) -> list[float]:\n",
    "    return[bin / sum(bins) * 100 * 2 for bin in bins]\n",
    "\n",
    "def create_pillars(heights : list[float]) -> list[Grafik]:\n",
    "    fill_color = rgb_farbe(50, 255, 255)\n",
    "    width = 10\n",
    "    pillars = []\n",
    "\n",
    "    for height in heights:\n",
    "        contour = rechteck(width, height, schwarz)\n",
    "        if height > 2:\n",
    "            fill = rechteck(width - 2, height - 2, fill_color)\n",
    "            pillar = ueberlagere(fill, contour)\n",
    "        else:\n",
    "            pillar = contour\n",
    "        pillars.append(pillar)\n",
    "\n",
    "    return pillars\n",
    "\n",
    "def draw_histogram(pillars : list[Grafik]) -> Grafik:\n",
    "    histogram = fixiere(unten_rechts, pillars[0])\n",
    "\n",
    "    for i in range(1, len(pillars)):\n",
    "        histogram = kombiniere(histogram, fixiere(unten_links, pillars[i]))\n",
    "        histogram = fixiere(unten_rechts, histogram)\n",
    "\n",
    "    return(histogram)"
   ]
  },
  {
   "cell_type": "code",
   "execution_count": 26,
   "metadata": {},
   "outputs": [
    {
     "data": {
      "image/png": "[encoded data removed]",
      "text/plain": [
       "<PIL.PngImagePlugin.PngImageFile image mode=RGBA size=70x54>"
      ]
     },
     "metadata": {},
     "output_type": "display_data"
    }
   ],
   "source": [
    "zeige_grafik(get_histogram(measurements))"
   ]
  },
  {
   "cell_type": "markdown",
   "metadata": {},
   "source": [
    "## Ausblick auf weitere Arten der Datenvisualisierung"
   ]
  },
  {
   "cell_type": "markdown",
   "metadata": {},
   "source": [
    "Weitere Formen der Datenvisualisierung werden im Lehrmittel *Informatik -\n",
    "Data Science und Sicherheit: Grundlagen der Informatik für Schweizer\n",
    "Maturitätsschulen*, Michael Barot et al., 1. Auflage Aufl., Baar 2022, im\n",
    "Kapitel 6, *Aus Daten lernen*, dargestellt. Wertvolle Anregungen finden\n",
    "sich insbesondere auch auf der Website des\n",
    "[Data Viz Project](https://datavizproject.com/),\n",
    "wo aufgezeigt wird, welche Form der Darstellung sich für welche Art von\n",
    "Daten eignet."
   ]
  },
  {
   "cell_type": "markdown",
   "metadata": {},
   "source": [
    "Die Aufbereitung von datenlastigen Inhalten kann in Jupyter\n",
    "Notebooks erfolgen. Dafür ist es nicht nötig, die Visualisierung von\n",
    "Grund auf selber zu programmieren. In Pyhton stehen dafür Libraries wie\n",
    "[pandas](https://pandas.pydata.org/)\n",
    "oder\n",
    "[matplotlib](https://matplotlib.org/)\n",
    "zur Verfügung."
   ]
  }
 ],
 "metadata": {
  "colab": {
   "include_colab_link": true,
   "provenance": [],
   "toc_visible": true
  },
  "kernelspec": {
   "display_name": "Python 3 (ipykernel)",
   "language": "python",
   "name": "python3"
  },
  "language_info": {
   "codemirror_mode": {
    "name": "ipython",
    "version": 3
   },
   "file_extension": ".py",
   "mimetype": "text/x-python",
   "name": "python",
   "nbconvert_exporter": "python",
   "pygments_lexer": "ipython3",
   "version": "3.11.6"
  }
 },
 "nbformat": 4,
 "nbformat_minor": 4
}

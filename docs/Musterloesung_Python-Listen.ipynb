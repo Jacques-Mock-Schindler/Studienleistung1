{
  "cells": [
    {
      "cell_type": "markdown",
      "metadata": {
        "colab_type": "text",
        "id": "view-in-github"
      },
      "source": [
        "<a href=\"https://colab.research.google.com/github/Jacques-Mock-Schindler/Studienleistung1/blob/feedback2/docs/Musterloesung_Python_Listen.ipynb\" target=\"_parent\"><img src=\"https://colab.research.google.com/assets/colab-badge.svg\" alt=\"Open In Colab\"/></a>"
      ]
    },
    {
      "cell_type": "markdown",
      "metadata": {
        "id": "p2UbN6ks1eoJ"
      },
      "source": [
        "# Aufgaben zur Vertiefung der Datenstruktur Python-Liste"
      ]
    },
    {
      "cell_type": "markdown",
      "metadata": {
        "id": "n2E9RItj1qTP"
      },
      "source": [
        "## Erstellen und Ergänzen von Python-Listen"
      ]
    },
    {
      "cell_type": "markdown",
      "metadata": {
        "id": "aJuaMWIi1vcy"
      },
      "source": [
        "Stellen Sie sich eine Familie mit Mutter, Vater, Heidi und Peter vor.\n",
        "Weisen Sie diese Konstellation der Pythonliste `family` zu. Zeigen Sie diese Python-Liste anschliessend mit `print(family)` an.\n"
      ]
    },
    {
      "cell_type": "code",
      "execution_count": 1,
      "metadata": {
        "colab": {
          "base_uri": "https://localhost:8080/"
        },
        "id": "f_OBS27V1co-",
        "outputId": "595f0ce8-2d2c-4f07-d0d0-ebe193b570d9"
      },
      "outputs": [
        {
          "name": "stdout",
          "output_type": "stream",
          "text": [
            "['Mutter', 'Vater', 'Heidi', 'Peter']\n"
          ]
        }
      ],
      "source": [
        "family = ['Mutter', 'Vater', 'Heidi', 'Peter']\n",
        "print(family)"
      ]
    },
    {
      "cell_type": "markdown",
      "metadata": {},
      "source": [
        "![Python-Liste `family`](../visualisierung/aufgabe1a.png)"
      ]
    },
    {
      "cell_type": "markdown",
      "metadata": {
        "id": "-sghzc4m3oAT"
      },
      "source": [
        "Der Familie wird ein weiteres Kind - Klara - geboren. Ergänzen Sie die Python-Liste `family` entsprechend. Zeigen Sie die Familie wiederum  mit `print(family)` an."
      ]
    },
    {
      "cell_type": "code",
      "execution_count": 2,
      "metadata": {
        "colab": {
          "base_uri": "https://localhost:8080/"
        },
        "id": "rQkPyBAM36Px",
        "outputId": "b9525ab6-1dc7-4bf6-8c19-58af43c9c130"
      },
      "outputs": [
        {
          "name": "stdout",
          "output_type": "stream",
          "text": [
            "['Mutter', 'Vater', 'Heidi', 'Peter', 'Klara']\n"
          ]
        }
      ],
      "source": [
        "family.append('Klara')\n",
        "print(family)"
      ]
    },
    {
      "cell_type": "markdown",
      "metadata": {},
      "source": [
        "![Python-Liste `family`](../visualisierung/aufgabe1b.png)"
      ]
    },
    {
      "cell_type": "markdown",
      "metadata": {
        "id": "Y9x252uISJJ6"
      },
      "source": [
        "Gehen Sie davon aus, das Python-Listen für Familien immer so strukturiert sind. Zeigen Sie mit Hilfe der Funktion `print()` das erste Kind an."
      ]
    },
    {
      "cell_type": "code",
      "execution_count": 3,
      "metadata": {
        "colab": {
          "base_uri": "https://localhost:8080/"
        },
        "id": "J4kjEADZSd6I",
        "outputId": "64a846d1-32c5-4950-91ce-a623ee75843a"
      },
      "outputs": [
        {
          "name": "stdout",
          "output_type": "stream",
          "text": [
            "Heidi\n"
          ]
        }
      ],
      "source": [
        "print(family[2])"
      ]
    },
    {
      "cell_type": "markdown",
      "metadata": {},
      "source": [
        "![Zugriff auf das erste Kind](../visualisierung/aufgabe1c.png)"
      ]
    },
    {
      "cell_type": "markdown",
      "metadata": {
        "id": "IYOsN3DM4Q1m"
      },
      "source": [
        "Stellen Sie sich vor, Sie wüssten nicht, wie viele Kinder unsere Familie hat. Sie wissen aber, dass die Kinder in der Reihenfolge ihrer Geburt in die Python-Liste `family` eingetragen worden sind. Zeigen Sie mit Hilfe der Funktion `print()` das jüngste Kind der Familie an."
      ]
    },
    {
      "cell_type": "code",
      "execution_count": 4,
      "metadata": {
        "colab": {
          "base_uri": "https://localhost:8080/"
        },
        "id": "8nAlJMHN4OkL",
        "outputId": "73816cb5-0ab8-457e-c7f1-869992ec17c4"
      },
      "outputs": [
        {
          "name": "stdout",
          "output_type": "stream",
          "text": [
            "Klara\n"
          ]
        }
      ],
      "source": [
        "print(family[-1])"
      ]
    },
    {
      "cell_type": "markdown",
      "metadata": {},
      "source": [
        "![Zugriff auf das letzte Element einer Python-Liste](../visualisierung/aufgabe1d.png)"
      ]
    },
    {
      "cell_type": "markdown",
      "metadata": {
        "id": "zrY1w01YSnNr"
      },
      "source": [
        "Eine Familie könnte auch auf zwei Python-Listen aufgeteilt werden (`parents` und `children`). Diese beiden Python-Listen können dann wiederum in einer Python-Liste `family` zusammengefasst werden.\n",
        "Strukturieren Sie die Beispielfamilie entsprechend. Anschliessend zeigen Sie bitte die Kinder mit der Funktion `print()` via die Python-Liste `family` an."
      ]
    },
    {
      "cell_type": "code",
      "execution_count": 5,
      "metadata": {
        "colab": {
          "base_uri": "https://localhost:8080/"
        },
        "id": "qDFS55nu45yH",
        "outputId": "3902b395-995e-4c42-eefd-6b577bb91e1e"
      },
      "outputs": [
        {
          "name": "stdout",
          "output_type": "stream",
          "text": [
            "['Heidi', 'Peter', 'Klara']\n"
          ]
        }
      ],
      "source": [
        "parents = ['Vater', 'Mutter']\n",
        "children = ['Heidi', 'Peter', 'Klara']\n",
        "family = [parents, children]\n",
        "print(family[1])"
      ]
    },
    {
      "cell_type": "markdown",
      "metadata": {},
      "source": [
        "![Anzeigen einer Python-Liste als Element einer Python-Liste](../visualisierung/aufgabe1e.png)"
      ]
    },
    {
      "cell_type": "markdown",
      "metadata": {
        "id": "mfwKwR80T3EY"
      },
      "source": [
        "Gehen Sie wiederum davon aus, dass Sie nicht wissen, wie viele Kinder die Familie hat. Zeigen Sie das jüngste Kind via die Python-Liste `family` an."
      ]
    },
    {
      "cell_type": "code",
      "execution_count": 6,
      "metadata": {
        "colab": {
          "base_uri": "https://localhost:8080/"
        },
        "id": "gg040rQ3UFPx",
        "outputId": "078ea829-0ab3-4409-cea7-05c410f1349e"
      },
      "outputs": [
        {
          "name": "stdout",
          "output_type": "stream",
          "text": [
            "Klara\n"
          ]
        }
      ],
      "source": [
        "print(family[1][-1])"
      ]
    },
    {
      "cell_type": "markdown",
      "metadata": {},
      "source": [
        "![Zugriff auf das letzte Element einer Python-Liste die ein Element einer Python-Liste ist](../visualisierung/aufgabe1f.png)"
      ]
    },
    {
      "cell_type": "markdown",
      "metadata": {
        "id": "H2v8tEPmUiVz"
      },
      "source": [
        "## Python-Listen mit list comprehensions erstellen"
      ]
    },
    {
      "cell_type": "markdown",
      "metadata": {
        "id": "_v-V79xsUrLy"
      },
      "source": [
        "Erstellen Sie eine Python-Liste `odd_numbers` mit den ungeraden Zahlen von 1 bis 10 mit Hilfe einer list comprehension. Zeigen Sie anschliessend die Python-Liste mit `print(odd_numbers)` an."
      ]
    },
    {
      "cell_type": "code",
      "execution_count": 7,
      "metadata": {
        "colab": {
          "base_uri": "https://localhost:8080/"
        },
        "id": "F9PHdkj9UJBo",
        "outputId": "7532855c-8092-4e87-d7ca-965e01b569b5"
      },
      "outputs": [
        {
          "name": "stdout",
          "output_type": "stream",
          "text": [
            "[1, 3, 5, 7, 9]\n"
          ]
        }
      ],
      "source": [
        "odd_numbers = [i for i in range(1,10,2)]\n",
        "print(odd_numbers)"
      ]
    },
    {
      "cell_type": "markdown",
      "metadata": {
        "id": "G6ocwgYcWXi2"
      },
      "source": [
        "Erstellen Sie eine Python-Liste `dreier_reihe` mit Hilfe einer list comprehension. Zeigen Sie anschliessend die Python-Liste mit `print(dreier_reihe)` an."
      ]
    },
    {
      "cell_type": "code",
      "execution_count": 8,
      "metadata": {
        "colab": {
          "base_uri": "https://localhost:8080/"
        },
        "id": "j0b3WKeCWqCL",
        "outputId": "6783f3dc-fe44-4b7f-d392-73986ca258f1"
      },
      "outputs": [
        {
          "name": "stdout",
          "output_type": "stream",
          "text": [
            "[3, 6, 9, 12, 15, 18, 21, 24, 27, 30]\n"
          ]
        }
      ],
      "source": [
        "dreier_reihe = [i for i in range(3,31,3)]\n",
        "print(dreier_reihe)"
      ]
    },
    {
      "cell_type": "markdown",
      "metadata": {
        "id": "wYt-Z29sW-II"
      },
      "source": [
        "Übersetzen Sie folgende Beschreibung einer Menge in eine list comprehension und weisen Sie die Elemente der Datenstruktur `translation` zu.\n",
        "$$\\mathbb{T} = \\{x \\in \\mathbb{N} \\mid 0 < x \\leq 10 \\}$$\n",
        "Zeigen Sie anschliessend das Resultat mit `print(translation)` an."
      ]
    },
    {
      "cell_type": "code",
      "execution_count": 9,
      "metadata": {
        "colab": {
          "base_uri": "https://localhost:8080/"
        },
        "id": "Go4gATW6XVWL",
        "outputId": "ea748ec5-5e45-4b3f-ca8a-6372c5f0c08c"
      },
      "outputs": [
        {
          "name": "stdout",
          "output_type": "stream",
          "text": [
            "[1, 2, 3, 4, 5, 6, 7, 8, 9, 10]\n"
          ]
        }
      ],
      "source": [
        "translation = [i for i in range(1,11)]\n",
        "print(translation)"
      ]
    }
  ],
  "metadata": {
    "colab": {
      "authorship_tag": "ABX9TyOLMsX+gVsykfUp44KV/D6X",
      "include_colab_link": true,
      "provenance": []
    },
    "kernelspec": {
      "display_name": "Python 3",
      "name": "python3"
    },
    "language_info": {
      "codemirror_mode": {
        "name": "ipython",
        "version": 3
      },
      "file_extension": ".py",
      "mimetype": "text/x-python",
      "name": "python",
      "nbconvert_exporter": "python",
      "pygments_lexer": "ipython3",
      "version": "3.11.6"
    }
  },
  "nbformat": 4,
  "nbformat_minor": 0
}
